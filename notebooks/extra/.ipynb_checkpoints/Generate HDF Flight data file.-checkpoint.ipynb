{
 "cells": [
  {
   "cell_type": "markdown",
   "metadata": {},
   "source": [
    "This notebook creates the HDF compact version of the flights table.\n",
    "Built from code in the original [Introduction to Data\n",
    "Exploration](https://github.com/ProfessorBrunner/rp-pds15/blob/master/\n",
    "Week7/intro2de.ipynb) Notebook from the Spring 2015 Practical Data\n",
    "Science course held at the University of Illinis Research Park"
   ]
  },
  {
   "cell_type": "code",
   "execution_count": 2,
   "metadata": {
    "collapsed": false
   },
   "outputs": [],
   "source": [
    "import pandas as pd\n",
    "\n",
    "#ucs=(14, 15, 3, 4, 6, 1, 8, 9, 16, 17, 18)\n",
    "ucs=(1, 3, 4, 14, 15, 16, 17, 18)\n",
    "\n",
    "cnms = ['month', 'Day', 'dTime', 'aDelay', 'dDelay', 'depart', 'arrive', 'distance']\n",
    "\n",
    "#cnms = ['aDelay', 'dDelay', 'Day', 'dTime', 'aTime', \n",
    "#        'month', 'uc', 'fnum', 'depart', 'arrive', 'distance' ]\n",
    "\n",
    "newdata = pd.read_csv('/home/data_scientist/data/2001.csv', #dtype=np.float32, \n",
    "                      header=0, na_values=['NA'], usecols=ucs, names = cnms)"
   ]
  },
  {
   "cell_type": "code",
   "execution_count": 3,
   "metadata": {
    "collapsed": true
   },
   "outputs": [],
   "source": [
    "newdata = newdata.dropna()"
   ]
  },
  {
   "cell_type": "code",
   "execution_count": 4,
   "metadata": {
    "collapsed": true
   },
   "outputs": [],
   "source": [
    "import numpy as np\n",
    "\n",
    "cnms = ['month', 'Day', 'dTime', 'aDelay', 'dDelay', 'depart', 'arrive', 'distance']\n",
    "\n",
    "dts = [np.uint8, np.uint8, np.uint16, np.int16, np.int16, object, object, np.uint16]\n",
    "\n",
    "nd = pd.DataFrame()\n",
    "\n",
    "for i in range(len(cnms)):\n",
    "    nd[[cnms[i]]] = newdata[[cnms[i]]].astype(dts[i])"
   ]
  },
  {
   "cell_type": "code",
   "execution_count": null,
   "metadata": {
    "collapsed": false
   },
   "outputs": [],
   "source": [
    "!pip install pytables\n",
    "\n",
    "nd.to_hdf('sflights.h5', 'table', append=False)"
   ]
  }
 ],
 "metadata": {
  "kernelspec": {
   "display_name": "Python 3",
   "language": "python",
   "name": "python3"
  },
  "language_info": {
   "codemirror_mode": {
    "name": "ipython",
    "version": 3
   },
   "file_extension": ".py",
   "mimetype": "text/x-python",
   "name": "python",
   "nbconvert_exporter": "python",
   "pygments_lexer": "ipython3",
   "version": "3.4.0"
  }
 },
 "nbformat": 4,
 "nbformat_minor": 0
}
