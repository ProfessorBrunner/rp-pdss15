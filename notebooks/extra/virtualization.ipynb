{
 "cells": [
  {
   "cell_type": "markdown",
   "metadata": {},
   "source": [
    "<DIV ALIGN=CENTER>\n",
    "\n",
    "# Virtualization & Docker    \n",
    "## Professor Robert J. Brunner\n",
    "  \n",
    "</DIV>  \n",
    "-----\n",
    "-----"
   ]
  },
  {
   "cell_type": "markdown",
   "metadata": {},
   "source": [
    "## Virtualization Overview\n",
    "\n",
    "Virtualization technology is used to simplify the development, deployment, and management of applications.  \n",
    "\n",
    "Virtualization can take different routes, two of the more popular options are\n",
    "\n",
    "1. Virtual Machines\n",
    "2. Virtual Containers\n",
    "\n",
    "-----\n"
   ]
  },
  {
   "cell_type": "markdown",
   "metadata": {},
   "source": [
    "### Virtual Machines\n",
    "\n",
    "- full operating system\n",
    "- control complete environment\n",
    "- isolation\n",
    "- slow to boot\n",
    "- heavyweight\n",
    "\n",
    "-----"
   ]
  },
  {
   "cell_type": "markdown",
   "metadata": {},
   "source": [
    "### Virtual Box\n",
    "\n",
    "![Virtualbox Website](images/virtualbox.png)\n",
    "\n",
    "-----"
   ]
  },
  {
   "cell_type": "markdown",
   "metadata": {},
   "source": [
    "### Virtual Container\n",
    "\n",
    "- shared operating system (Linux Containers)\n",
    "- Mac OSX/Windows require a Linux host OS (VM)\n",
    "- multiple containers from same image\n",
    "- lightweight\n",
    "- fast startup\n",
    "\n",
    "-----"
   ]
  },
  {
   "cell_type": "markdown",
   "metadata": {},
   "source": [
    "### Docker Container\n",
    "\n",
    "![Docker Website](images/docker-website.png)\n",
    "\n",
    "-----"
   ]
  },
  {
   "cell_type": "markdown",
   "metadata": {},
   "source": [
    "### VMs versus Containers\n",
    "\n",
    "The [Docker Website](https://www.docker.com/whatisdocker) provides a comaprison between Virtual Machines and Docker containerization.\n",
    "\n",
    "-----"
   ]
  },
  {
   "cell_type": "markdown",
   "metadata": {},
   "source": [
    "### Boot2Docker\n",
    "\n",
    "Mac OSX and Windows systems require a Linux Guest Operating System in order to run Docker containers. For these operating systems, you can use the Boot2Docker application which provides:\n",
    "\n",
    "- A VirtualBox installation\n",
    "- An Ubuntu Guest OS\n",
    "- The Boot2Docker application\n",
    "\n",
    "![Boot2Docker Application](images/boot2docker.png)\n",
    "\n",
    "-----"
   ]
  },
  {
   "cell_type": "markdown",
   "metadata": {},
   "source": [
    "### Boot2Docker Shell\n",
    "\n",
    "Running the Boot2Docker application will open a new boot2docker shell as shown below. You can start multiple bot2docker shells by simply re-running the boot2docker application. In this course, we denote a boot2docker shell prompt with the dollar sign, `$`.\n",
    "\n",
    "![B2D Shell](images/b2d-shell.png)\n",
    "\n",
    "-----\n"
   ]
  },
  {
   "cell_type": "markdown",
   "metadata": {},
   "source": [
    "### Docker Commands\n",
    "\n",
    "You can see the list of docker commands, shown below, by simply entering docker at a boot2docker shell prompt:\n",
    "\n",
    "    $ docker\n",
    "\n",
    "![Docker Commands](images/docker-commands.png)\n",
    "\n",
    "-----\n"
   ]
  },
  {
   "cell_type": "markdown",
   "metadata": {},
   "source": [
    "### Docker Shell\n",
    "\n",
    "To start a new container from an existing image, you simple enter a\n",
    "docker run command with the target image name and the desired executable\n",
    "program. To start an interactive  docker container you simply include\n",
    "the `-it` flag. Thus, to start a new container in an interactive Unix\n",
    "Bash shell, we enter the following command:\n",
    "\n",
    "    $ docker run -it lcdm/standalone-rppdss /bin/bash\n",
    "   \n",
    "![Docker Shell](images/docker-shell.png)\n",
    "\n",
    "Note how the prompt has changed to indicate that we are now running a\n",
    "shell in the new docker container. The directory is\n",
    "`/home/data_scientist`, and our prompt has changes to the string\n",
    "`data_scientist@0399bef31440:~$`, but we will simply use `:~$` to refer\n",
    "to a docker shell prompt (the `~` character simply means we are in the\n",
    "home directory of the Docker container). The string of characters\n",
    "`0399bef31440` is simply the hostname Docker assigned to our running\n",
    "container, your value will likely be different.\n",
    "\n",
    "-----"
   ]
  },
  {
   "cell_type": "markdown",
   "metadata": {},
   "source": [
    "### Docker Container\n",
    "\n",
    "After running the following command in a different boot2docker shell you will see the original container image and the new running container.\n",
    "\n",
    "```\n",
    "    $ docker run -it lcdm/standalone-rppdss /bin/bash\n",
    "``` \n",
    "\n",
    "To see the list of docker images, you enter `docker images` at a boot2docker prompt, while to see the list of running docker containers you enter `docker ps` at the boot2docker prompt.\n",
    "\n",
    "![Docker Container](images/docker-container.png)\n",
    "\n",
    "-----\n",
    "\n"
   ]
  },
  {
   "cell_type": "markdown",
   "metadata": {},
   "source": [
    "### Isolation\n",
    "\n",
    "You can view the container isolation by running two boot2docker shells.\n",
    "In the first shell, we run the docker container, and make a new\n",
    "directory in the root file system that contains a single, new file.\n",
    "\n",
    "```\n",
    "$ docker run -it --name=standalone lcdm/standalone-rppdss /bin/bash\n",
    "    \n",
    ":~$ mkdir testing\n",
    ":~$ cd testing/\n",
    ":~$ touch README\n",
    ":~$ ls \n",
    "```\n",
    "\n",
    "![Docker First Container](images/docker-container1.png)\n",
    "\n",
    "Now, in a second boot2docker shell, we run a new instance of the course\n",
    "docker image, and see the effects of container isolation:\n",
    "\n",
    "```\n",
    "$ docker run -it --name=standalone lcdm/standalone-rppdss /bin/bash\n",
    ":~$ ls \n",
    "```\n",
    "\n",
    "Since our running containers are, by default, isolated, the changes made\n",
    "in the first container are not present in the second container.\n",
    "\n",
    "![Docker Second Container](images/docker-container2.png)\n",
    "\n",
    "-----"
   ]
  },
  {
   "cell_type": "markdown",
   "metadata": {},
   "source": [
    "## Persistence\n",
    "\n",
    "You can save changes made to a running container by using the `docker commit` command. In the previous example, our running container added a new file called README in the /testing directory. We can create a new image from this running container, and use this new image to start a container that includes any changes made in the original running container. \n",
    "\n",
    "To do this, we first need to get the list of running containers by using `docker ps` to find the name of the container we want to persist. Next we commit the changes to the running container by using `docker commit`, after which we can start a new container from this saved image, and verify the new container has the original changes.\n",
    "\n",
    "![Docker Commits](images/docker-commit.png)\n",
    "\n",
    "-----"
   ]
  },
  {
   "cell_type": "markdown",
   "metadata": {},
   "source": [
    "## Running the course Docker image\n",
    "\n",
    "Once Docker has been properly setup, you can pull the course Docker\n",
    "image from the DockerHub registry by issuing a `docker pull` command:\n",
    "\n",
    "```\n",
    "$ docker pull lcdm/standalone-rppdss\n",
    "```\n",
    "\n",
    "In this command, we indicate that we wish to pull the\n",
    "`standalone-rppdss` image from the LCDM repository on the Docker Hub\n",
    "registry website. If you wish to see how this image was constructed, you\n",
    "can look at the dockerfile for this course, located in the\n",
    "docker/standalone directory of this course's github repository. Note\n",
    "that I also cloned the course github repository to my local computer:\n",
    "\n",
    "```\n",
    "$ mkdir github\n",
    "$ cd github\n",
    "$ git clone https://github.com/ProfessorBrunner/rp-pdss15\n",
    "```\n",
    "\n",
    "Once the image has been downloaded to your local computer, you can start\n",
    "the container running so that it will function as a local JupyterHub\n",
    "server by issuing the following Docker command:\n",
    "\n",
    "```\n",
    "$ docker run --net host -d -p 8888:8888 --name standalone -v\n",
    "/Users/rb/github/rp-pdss15:/home/data_scientist/rp-pdss15\n",
    "lcdm/standalone-rppdss\n",
    "```\n",
    "\n",
    "This command creates a running Docker container from the\n",
    "lcdm/standalone-rppdss Docker image, instructs the container to listen\n",
    "for connections on a web port, names the running container `standalone`\n",
    "and maps a local directory (in this case `/Users/rb/github/rp-pdss15`)\n",
    "to a shared directory in the running container, located at\n",
    "`/home/data_scientist/rp-pdss15`. You should change this directory to a\n",
    "suitable local directory on your computer. The shared folder allows you\n",
    "to persist any changes made in the running Docker container on your\n",
    "local filesystem.\n",
    "\n",
    "You can connect into this running Docker container by issuing a `docker\n",
    "exec` command:\n",
    "\n",
    "```\n",
    "$ docker exec -it standalone /bin/bash\n",
    "```\n",
    "\n",
    "----"
   ]
  },
  {
   "cell_type": "markdown",
   "metadata": {},
   "source": [
    "## Connecting to a local Jupyter Server\n",
    "\n",
    "Once the course Docker image is running on your local computer, you can\n",
    "connect to the Jupyter Server by opening a web browser to the [default\n",
    "URL](http://192.168.59.103:8888). If succesful, you should see the\n",
    "directory listing (which might change, depending on what is in your\n",
    "shared folder).\n",
    "\n",
    "![Jupyter Server](images/jupyter-server.png)\n",
    "\n",
    "At this point, you can navigate the directory structure of our course\n",
    "github repository to find and run the notebooks of interest.\n",
    "\n",
    "-----"
   ]
  },
  {
   "cell_type": "markdown",
   "metadata": {},
   "source": [
    "### Additional References\n",
    "\n",
    "1. The [Docker Website](https://www.docker.com)\n",
    "2. The [VirtualBox Website](https://www.virtualbox.org)\n",
    "3. (Advanced) The [Docker Book](http://dockerbook.com)\n",
    "4. (Advanced, Mac OSX) The [Docker: Missing Manual](http://viget.com/extend/how-to-use-docker-on-os-x-the-missing-guide)\n",
    "\n",
    "-----"
   ]
  },
  {
   "cell_type": "markdown",
   "metadata": {},
   "source": [
    "### Return to the [Index](../index.ipynb) page.\n",
    "\n",
    "-----"
   ]
  }
 ],
 "metadata": {
  "kernelspec": {
   "display_name": "Python 3",
   "language": "python",
   "name": "python3"
  },
  "language_info": {
   "codemirror_mode": {
    "name": "ipython",
    "version": 3
   },
   "file_extension": ".py",
   "mimetype": "text/x-python",
   "name": "python",
   "nbconvert_exporter": "python",
   "pygments_lexer": "ipython3",
   "version": "3.4.0"
  }
 },
 "nbformat": 4,
 "nbformat_minor": 0
}
