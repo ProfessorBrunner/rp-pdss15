{
 "cells": [
  {
   "cell_type": "markdown",
   "metadata": {},
   "source": [
    "<DIV ALIGN=CENTER>\n",
    "\n",
    "# Concluding Thoughts\n",
    "## Professor Robert J. Brunner\n",
    "  \n",
    "</DIV>  \n",
    "-----\n",
    "-----"
   ]
  },
  {
   "cell_type": "markdown",
   "metadata": {},
   "source": [
    "## Course Material\n",
    "\n",
    "This one day course covered a great deal of material. Keep in mind that\n",
    "this material was originally delivered in an eight week course, and even\n",
    "in the original format we were unable to cover everything completely.\n",
    "In order to master these skils, you will need to work on them after the\n",
    "class has completed. The default method for interacting with these\n",
    "notebooks during the course has been the cloud-based JupyterHub server.\n",
    "Since this server will not be available after the class, you will need\n",
    "to setup and run a local JupyerHub server to use thee notebooks in an\n",
    "interactive manner. To do this, you have several options:\n",
    "\n",
    "1. Run the course Docker image locally.\n",
    "2. Use Anaconda to build a local Python installation.\n",
    "3. Set up your own Python environment.\n",
    "\n",
    "In all three cases, once your local system is configured to run the\n",
    "appropriate Python software tools, you can use git or the github desktop\n",
    "client to pull down the course repository in order to run everything on\n",
    "your local system.\n",
    "\n",
    "The rest of this notebook provides more information on these different\n",
    "options.\n",
    "\n",
    "-----"
   ]
  },
  {
   "cell_type": "markdown",
   "metadata": {},
   "source": [
    "## Course Docker Image\n",
    "\n",
    "The course JupyterHub server spawns a new Docker container for each new\n",
    "authenticated user. This container is a running instance of our course\n",
    "Docker image, which you can also run locally. First, you will need to\n",
    "set up a local Docker environment, the details for this are in a\n",
    "separate [Notebook](extra/virtualization.ipynb). Once you have a working\n",
    "Docker, you will need to complete the following steps:\n",
    "\n",
    "1. If on a Mac or Windows system, start Boot2Docker; note that in the\n",
    "following set of instructions, a Unix prompt refers to a Bot2Docker\n",
    "prompt on a Mac or Windows system.\n",
    "  \n",
    "2. Download the course github repository to your local system (e.g., to\n",
    "`/Users/rb`), either by using the Github Desktop Client or `git` directly\n",
    "from a Unix prompt:\n",
    "\n",
    "    $ git clone https://github.com/ProfessorBrunner/rp-pdss15\n",
    "  \n",
    "3. Download the course Docker image by issuing the appropriate docker\n",
    "pull command at a Unix prompt:\n",
    "\n",
    "    $ docker pull lcdm/standalone-rppdss15\n",
    "  \n",
    "4. At a Unix prompt, start the course Docker container in JupyterHub\n",
    "server mode with following Docker command (note you will need to change\n",
    "the local directory `/Users/rb` to reflect where you downloaded the course\n",
    "repository):\n",
    "\n",
    "    $ docker run --net host -d -p 8888:8888 --name standalone -v /Users/rb/rp-pdss15:/home/data_scientist/ lcdm/standalone-rppdss15\n",
    "  \n",
    "5. If you need to connect to this running docker container, you can\n",
    "issue the following Docker command at a Unix prompt:\n",
    "\n",
    "    $ docker exec -it standalone /bin/bash\n",
    "\n",
    "![Docker Container](images/local-docker.png)\n",
    "\n",
    "-----"
   ]
  },
  {
   "cell_type": "markdown",
   "metadata": {},
   "source": [
    "## Anaconda\n",
    "\n",
    "[Continuum Analytics](https://store.continuum.io) provides a number of\n",
    "Python tools, many of which have been open sourced to the benefit of the\n",
    "broader community. Of these, one tool, the Anaconda Python environment\n",
    "manager, allows a user to easily build a Python environment. \n",
    "\n",
    "![Anaconda Website](images/anaconda.png)\n",
    "\n",
    "By clicking the Download button, you can download and install Anaconda.\n",
    "From this you can install a Python3 environment and all tools necessary\n",
    "for this course, including\n",
    "\n",
    "- numpy\n",
    "- pandas\n",
    "- matplotlib\n",
    "- seaborn\n",
    "- scikit_learn\n",
    "\n",
    "While relatively simple to use, the one downside to the Anaconda\n",
    "environment is that the software tools are not frequently updated.\n",
    "However, the versions installed by the conda software maneger should\n",
    "suffice for the course material.\n",
    "\n",
    "-----"
   ]
  },
  {
   "cell_type": "markdown",
   "metadata": {},
   "source": [
    "## Build your own Python stack\n",
    "\n",
    "The final option is to download and build the full Python software stack\n",
    "required for this course. If you choose this option, be aware that this\n",
    "is a non-trivial operation since the Python libraries require C and\n",
    "Fortran libraries to be installed and compiled in order to be fully\n",
    "functional. \n",
    "\n",
    "The first step in this process is to download and install the latest\n",
    "version of the [Python programming\n",
    "language](https://www.python.org/downloads/). Once this is completed,\n",
    "you should b able to install all required Python libraries by using\n",
    "`pip`, the built-in Python package installer. For more information,\n",
    "consult each libraries installation page.\n",
    "\n",
    "-----"
   ]
  },
  {
   "cell_type": "markdown",
   "metadata": {},
   "source": [
    "### Return to the [Course Index](index.ipynb) page.\n",
    "\n",
    "-----"
   ]
  }
 ],
 "metadata": {
  "kernelspec": {
   "display_name": "Python 3",
   "language": "python",
   "name": "python3"
  },
  "language_info": {
   "codemirror_mode": {
    "name": "ipython",
    "version": 3
   },
   "file_extension": ".py",
   "mimetype": "text/x-python",
   "name": "python",
   "nbconvert_exporter": "python",
   "pygments_lexer": "ipython3",
   "version": "3.4.0"
  }
 },
 "nbformat": 4,
 "nbformat_minor": 0
}
