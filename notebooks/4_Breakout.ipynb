{
 "cells": [
  {
   "cell_type": "markdown",
   "metadata": {},
   "source": [
    "<DIV ALIGN=CENTER>\n",
    "\n",
    "# Python for Data Science Breakout   \n",
    "## Professor Robert J. Brunner\n",
    "  \n",
    "</DIV>  \n",
    "-----\n",
    "-----"
   ]
  },
  {
   "cell_type": "markdown",
   "metadata": {
    "collapsed": true
   },
   "source": [
    "## Working with the NumPy Library\n",
    "\n",
    "During this assignment you will learn to work with NumPy arrays. Either\n",
    "open the (non read-only version) of the [Introduction to Numpy][1]\n",
    "Notebook, or copy-n-paste code cells from that Notebook into a new empty\n",
    "notebook. Execute these code cells, and try changing parameters and\n",
    "expressions to better learn how NumPy arrays can be created and used in\n",
    "mathematical expressions. Additional information can be found on the\n",
    "[NumPy website][2].\n",
    "\n",
    "### Advanced Challenge:\n",
    "\n",
    "Try creating a new IPython Notebook that loads the 2001 Airplane data\n",
    "into a NumPy array by using the `genfromtxt` method. Unpack several\n",
    "columns into different NumPy arrays and compute different statistical\n",
    "measures from these arrays. Example columns (starting with one) to\n",
    "explore include air travel time (column 14), arrival delay (column 14),\n",
    "departure delay (column 15), distance (column 19), and weather delay\n",
    "(column 26).\n",
    "\n",
    "-----\n",
    "[1]: 4_intro2numpy.ipynb\n",
    "[2]: http://docs.scipy.org/doc/numpy/user/index.html"
   ]
  },
  {
   "cell_type": "markdown",
   "metadata": {},
   "source": [
    "## Breakout Session: Pandas\n",
    "\n",
    "In this second assignment, you will learn to work with Pandas by using\n",
    "the airline database. First execute the code in the [Introduction to\n",
    "Pandas][1] Notebook to gain familiarity with Pandas.\n",
    "\n",
    "Next, use Pandas to query the airline database; you will want to\n",
    "perform a join on the flights and airport tables to build a more complex\n",
    "DataFrame. Using this new DataFrame, perform statistics by using Pandas\n",
    "to perform aggregate statistics.\n",
    "\n",
    "### Advanced Challenge:\n",
    "\n",
    "First, use Pandas to query the airline database; but pull the flights\n",
    "table into one DataFrame and the airports table into a second DataFrame.\n",
    "Use Pandas functionality to join these tables directly and to perform\n",
    "aggregation directly (such as counting the number of flights for each\n",
    "tail number).\n",
    "\n",
    "-----\n",
    "\n",
    "[1]: 4_intro2pandas.ipynb"
   ]
  },
  {
   "cell_type": "markdown",
   "metadata": {},
   "source": [
    "-----\n",
    "\n",
    "## Creating Data Visualizations\n",
    "\n",
    "In this assignment, you will make simple data visualizations by using\n",
    "MatPlotLib and Seaborn. First, complete the [Introduction to Data\n",
    "Visualizations] Notebook. Within the (non read-only version of) this\n",
    "notebook, try changing the different parameters to better learn how\n",
    "simple data visualizations like a scatter plot or a histogram can be\n",
    "created and manipulated. Next, try playing with Seaborn library to see\n",
    "how simple plots can be made more visually appealing.\n",
    "\n",
    "### Advanced Challenge:\n",
    "\n",
    "This challenge will build on the NumPY advanced challenge. If you have\n",
    "not yet done so, complete that challenge (namely, create a new Notebook\n",
    "that loads the 2001 Airplane data into NumPy arrays by using the\n",
    "`genfromtxt` method and unpacks several columns into different NumPy\n",
    "arrays). In this Notebook, try making some interesting visualizations.\n",
    "You might try making a scatter plot that shows arrival delays versus\n",
    "departure delays. You can use different symbols and colors for different\n",
    "days of the week.\n",
    "\n",
    "Finally, try making a histogram showing the average departure delay.\n",
    "Compare this plot for different months by using multiple histograms.\n",
    "Should these histograms be normalized?\n",
    "\n",
    "-----\n",
    "\n",
    "[1]: 4_intro2dataviz.ipynb"
   ]
  },
  {
   "cell_type": "markdown",
   "metadata": {},
   "source": [
    "### Return to the [Course Index](index.ipynb) page.\n",
    "\n",
    "-----"
   ]
  }
 ],
 "metadata": {
  "kernelspec": {
   "display_name": "Python 3",
   "language": "python",
   "name": "python3"
  },
  "language_info": {
   "codemirror_mode": {
    "name": "ipython",
    "version": 3
   },
   "file_extension": ".py",
   "mimetype": "text/x-python",
   "name": "python",
   "nbconvert_exporter": "python",
   "pygments_lexer": "ipython3",
   "version": "3.4.0"
  }
 },
 "nbformat": 4,
 "nbformat_minor": 0
}
