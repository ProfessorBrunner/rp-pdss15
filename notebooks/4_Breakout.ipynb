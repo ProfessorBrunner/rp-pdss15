{
 "cells": [
  {
   "cell_type": "markdown",
   "metadata": {},
   "source": [
    "<DIV ALIGN=CENTER>\n",
    "\n",
    "# Python for Data Science Breakout   \n",
    "## Professor Robert J. Brunner\n",
    "  \n",
    "</DIV>  \n",
    "-----\n",
    "-----"
   ]
  },
  {
   "cell_type": "markdown",
   "metadata": {
    "collapsed": true
   },
   "source": [
    "-----\n",
    "## Breakout Session: Working with the Numpy Library\n",
    "\n",
    "During this session, you should learn to work with NumPy arrays.\n",
    "\n",
    "### Intermediate Challenge:\n",
    "\n",
    "Load this IPython Notebook into your Docker container and execute the\n",
    "code cells. Try changing different parameters to better learn how NumPy\n",
    "arrays can be created and used in mathematical expressions.\n",
    "\n",
    "### Advanced Challenge:\n",
    "\n",
    "Try creating a new IPython Notebook that loads the 2001 Airplane data\n",
    "into a NumPy array by using the `genfromtxt` method. Unpack several\n",
    "columns into different NumPy arrays and compute different statistical\n",
    "measures from these arrays. Example columns (starting with one) to\n",
    "explore include air travel time (column 14), arrival delay (column 14),\n",
    "departure delay (column 15), distance (column 19), and weather delay\n",
    "(column 26).\n",
    "\n",
    "-----"
   ]
  },
  {
   "cell_type": "markdown",
   "metadata": {},
   "source": [
    "## Breakout Session: Pandas\n",
    "\n",
    "During this session, you should work Pandas and the airline database.\n",
    "First execute the code in this Notebook to gain familiarity with Pandas.\n",
    "\n",
    "### Intermediate Challenge:\n",
    "\n",
    "First, use Pandas to query the airline database; you will want to\n",
    "perform a join on the flights and airport tables to build a more complex\n",
    "DataFrame. Using this new DataFrame, perform statistics by using Pandas\n",
    "to perform aggregate statistics. .\n",
    "\n",
    "### Advanced Challenge:\n",
    "\n",
    "First, use Pandas to query the airline database; but pull the flights\n",
    "table into one DataFrame and the airports table into a second DataFrame.\n",
    "Use Pandas functionality to join these tables directly and to perform\n",
    "aggregation directly (such as counting the number of flights for each\n",
    "tail number).\n",
    "\n",
    "\n",
    "-----"
   ]
  },
  {
   "cell_type": "markdown",
   "metadata": {},
   "source": [
    "-----\n",
    "\n",
    "## Breakout Session: Creating Data Visualizations\n",
    "\n",
    "During this session, you should learn to make simple data visualizations\n",
    "by using MatPlotLib and Seaborn.\n",
    "\n",
    "### Intermediate Challenge:\n",
    "\n",
    "Load this IPython Notebook into your Docker container and execute the\n",
    "code cells. Try changing different parameters to better learn how simple\n",
    "data visualizations like a scatter plot or a histogram can be created\n",
    "and manipulated. Next, try playing with Seaborn library to see how\n",
    "simple plots can be made more visually appealing. expressions.\n",
    "\n",
    "### Advanced Challenge:\n",
    "\n",
    "This challenge will build on the NumPY advanced challenge. If you have\n",
    "not yet done so, complete that challenge (namely, create a new IPython\n",
    "Notebook that loads the 2001 Airplane data into NumPy arrays by using\n",
    "the `genfromtxt` method. Unpack several columns into different NumPy\n",
    "arrays). In this Notebook, try making some interesting visualizations.\n",
    "You might try making a scatter plot that shows arrival delays versus\n",
    "departure delays. You can use different symbols and colors for different\n",
    "days of the week.\n",
    "\n",
    "Next, try making a histogram showing the average departure delay.\n",
    "Compare this plot for different months by using multiple histograms.\n",
    "Should these histograms be normalized?\n",
    "\n",
    "-----"
   ]
  },
  {
   "cell_type": "markdown",
   "metadata": {},
   "source": [
    "## Breakout Session: Data Visual Exploration\n",
    "\n",
    "During this session, you should first try out as many examples in this\n",
    "Notebook as you can.\n",
    "\n",
    "### Intermediate Challenge:\n",
    "\n",
    "Try making heatmaps of the mean departure delay for specific airports\n",
    "like _ORD_ or _ATL_.\n",
    "\n",
    "### Advanced Challenge:\n",
    "\n",
    "By using a heatmap, determine if the departure time affects the average\n",
    "departure delay as a function of month.\n",
    "\n",
    "-----\n"
   ]
  },
  {
   "cell_type": "markdown",
   "metadata": {},
   "source": [
    "### Return to the [Course Index](index.ipynb) page.\n",
    "\n",
    "-----"
   ]
  }
 ],
 "metadata": {
  "kernelspec": {
   "display_name": "Python 3",
   "language": "python",
   "name": "python3"
  },
  "language_info": {
   "codemirror_mode": {
    "name": "ipython",
    "version": 3
   },
   "file_extension": ".py",
   "mimetype": "text/x-python",
   "name": "python",
   "nbconvert_exporter": "python",
   "pygments_lexer": "ipython3",
   "version": "3.4.0"
  }
 },
 "nbformat": 4,
 "nbformat_minor": 0
}
