{
 "cells": [
  {
   "cell_type": "markdown",
   "metadata": {},
   "source": [
    "<DIV ALIGN=CENTER>\n",
    "\n",
    "# Unix Breakout   \n",
    "## Professor Robert J. Brunner\n",
    "  \n",
    "</DIV>  \n",
    "-----\n",
    "-----"
   ]
  },
  {
   "cell_type": "markdown",
   "metadata": {
    "collapsed": true
   },
   "source": [
    "## Breakout Session: Introduction to Unix\n",
    "\n",
    "During this session, you should start a new Docker container and\n",
    "experiment with different Unix commands covered in this lesson. \n",
    "\n",
    "Use `ps` to identify running commands, `top` to display running processes. \n",
    "\n",
    "Work with the filesystem to create and delete files and directories by\n",
    "using `touch`, `mkdir`, and `rm`.\n",
    "\n",
    "Work with file permissions and ownership by using `chown` and `chmod`.\n",
    "\n",
    "Your goal should be to gain increased familiarity working with Unix commands.\n",
    "\n",
    "-----"
   ]
  },
  {
   "cell_type": "markdown",
   "metadata": {},
   "source": [
    "## Breakout Session: Unix Data Processing\n",
    "\n",
    "During this session, you should gain experience working with Unix commands presented in this lesson on real data. A great data set to experiement with is the [airline data](http://stat-computing.org/dataexpo/2009/the-data.html) discussed in the Unix Networking lesson. You can use the `wget` tool to grab one year of data, for example 2001. You also can grab [supplementary data](http://stat-computing.org/dataexpo/2009/supplemental-data.html) that is smaller and also offers useful opportunties for trying out Unix data processing commands.\n",
    "\n",
    "Specific problems you can attempt include the following:\n",
    "\n",
    "1. Use 'head' top grab out the first 1000 lines from the 2001 Airline data.\n",
    "2. Pipe this data into the `wc` command to verfiy you have 1000 lines.\n",
    "3. Pipe this into `sed` to transform the commas that seperate the fields into two space characters.\n",
    "4. Pipe this into an `awk` script to print out the second, fourth, and fifth columns.\n",
    "\n",
    "Additional, nore advanced problems:\n",
    "\n",
    "1. Use `head`, `sed`, and `cut` to print out the first, thid, and fourth columns from the first 150 rows of the 2001 airline data. \n",
    "2. Use `sed`, `sort`, `awk`, and `uniq` in some order to build a pipeline to print the number of airports located within each state. Note the `-c` flag, which can be used with `uniq`, might be useful.\n",
    "\n",
    "-----"
   ]
  },
  {
   "cell_type": "markdown",
   "metadata": {},
   "source": [
    "## Breakout Session: Unix Networking\n",
    "\n",
    "During this session,  you should try out the different Unix networking\n",
    "commands we have discussed.\n",
    "\n",
    "### Use the ping command:\n",
    "This can be done in a Docker container or in the Unix shell.\n",
    "\n",
    "```\n",
    "$ ping www.johndeere.com  \n",
    "$ ping www.cat.com  \n",
    "$ ping google.com\n",
    "```\n",
    "\n",
    "What are the differences? What do you learn from these commands? Try\n",
    "`ping` with a different hostname.\n",
    "\n",
    "### Use the traceroute command:\n",
    "\n",
    "At the Unix shell (not in a Docker container) try out the `traceroute`\n",
    "command.\n",
    "\n",
    "```\n",
    "$ traceroute google.com\n",
    "```\n",
    "\n",
    "What does this tell you? Are the results the same when you repeat the\n",
    "command? What about a different host?\n",
    "\n",
    "### Grab a datafile\n",
    "\n",
    "We will want a dataset to use later in this week's lessons. A great test\n",
    "data set is the [US Airline\n",
    "data](http://stat-computing.org/dataexpo/2009/the-data.html), which is\n",
    "organized by year. Within your Docker container, use `wget` to grab the\n",
    "Airline data for the year 2001.\n",
    "\n",
    "    $ wget ????\n",
    "\n",
    "Replace the _????_ with the correct URL. The downloaded file has been\n",
    "compressed to save disk space. Using tools you learned in the previous\n",
    "lesson, unzip the file and take a look at the first few rows.\n",
    "\n",
    "-----"
   ]
  },
  {
   "cell_type": "markdown",
   "metadata": {},
   "source": [
    "## Breakout Session: `git`\n",
    "\n",
    "During this session, you should open a new Docker container and create a\n",
    "new, local `git` repository. You should first configure `git` with your\n",
    "credentials, and make a project with one or more files.\n",
    "\n",
    "Your goal should be to understand the basics of working with a local `git`\n",
    "repository.\n",
    "\n",
    "-----\n",
    "\n",
    "(Novice) You can always use the online\n",
    "[trygit](https://try.github.io/levels/1/challenges/1) website to review\n",
    "these concepts.\n",
    "\n",
    "-----"
   ]
  },
  {
   "cell_type": "markdown",
   "metadata": {},
   "source": [
    "## Breakout Session: _github_\n",
    "\n",
    "During this session, you should use your git-configured Docker container\n",
    "to grab the course `git` repository\n",
    "\n",
    "(Advanced) You can view the course repository and post a new issue to _github_.\n",
    "\n",
    "-----"
   ]
  },
  {
   "cell_type": "markdown",
   "metadata": {},
   "source": [
    "### Return to the [Course Index](index.ipynb) page.\n",
    "\n",
    "-----"
   ]
  }
 ],
 "metadata": {
  "kernelspec": {
   "display_name": "Python 3",
   "language": "python",
   "name": "python3"
  },
  "language_info": {
   "codemirror_mode": {
    "name": "ipython",
    "version": 3
   },
   "file_extension": ".py",
   "mimetype": "text/x-python",
   "name": "python",
   "nbconvert_exporter": "python",
   "pygments_lexer": "ipython3",
   "version": "3.4.0"
  }
 },
 "nbformat": 4,
 "nbformat_minor": 0
}
