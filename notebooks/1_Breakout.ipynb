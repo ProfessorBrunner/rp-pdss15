{
 "cells": [
  {
   "cell_type": "markdown",
   "metadata": {},
   "source": [
    "<DIV ALIGN=CENTER>\n",
    "\n",
    "# Unix Breakout   \n",
    "## Professor Robert J. Brunner\n",
    "  \n",
    "</DIV>  \n",
    "-----\n",
    "-----"
   ]
  },
  {
   "cell_type": "markdown",
   "metadata": {
    "collapsed": true
   },
   "source": [
    "## Introduction to Unix\n",
    "\n",
    "During this first session, you should start a new JupyterHub terminal\n",
    "window and experiment with different Unix commands. In particular in\n",
    "this first breakout assignment, you should explore the Unix filesystem\n",
    "by using the `cd` and `ls` commands to move around the directory\n",
    "structure of the running Docker container. You should also experiment\n",
    "with the filesystem by creating and deleting directories and files by\n",
    "using the `touch`, `mkdir`, and `rm` commands, and work with file\n",
    "permissions and ownership by using the `chown` and `chmod` commands.\n",
    "Finally, use `ps` to identify running commands, and `top` to display\n",
    "running processes. \n",
    "\n",
    "Your goal should be to gain increased familiarity working with these\n",
    "basic Unix commands. Remember that you can either use _google_ or the\n",
    "Unix `man` command to learn more about how to use specific commands.\n",
    "\n",
    "-----"
   ]
  },
  {
   "cell_type": "markdown",
   "metadata": {},
   "source": [
    "## Unix Data Processing\n",
    "\n",
    "In this second breakout assignment, you should gain experience working\n",
    "with Unix commands toi work with data files. A great data set to\n",
    "experiment with is the [airline\n",
    "data](http://stat-computing.org/dataexpo/2009/the-data.html). You can\n",
    "use the `wget` tool to grab one year of data, for example 2001. You also\n",
    "can grab [supplementary\n",
    "data](http://stat-computing.org/dataexpo/2009/supplemental-data.html)\n",
    "that is smaller and also offers useful opportunties for trying out Unix\n",
    "data processing commands. Alternatively, you can simply use the\n",
    "pre-cached files located in the data directory within your JupyterHub\n",
    "server.\n",
    "\n",
    "Specific problems you can attempt include the following:\n",
    "\n",
    "1. Use 'head' top grab out the first 1000 lines from the 2001 Airline data.\n",
    "\n",
    "2. Pipe this data into the `wc` command to verify you have 1000 lines.\n",
    "\n",
    "3. Pipe this into `sed` to transform the commas that separate the fields\n",
    "into two space characters.\n",
    "\n",
    "4. Pipe this into an `awk` script to print out the second, fourth, and\n",
    "fifth columns.\n",
    "\n",
    "Additional, more advanced problems:\n",
    "\n",
    "1. Use `head`, `sed`, and `cut` to print out the first, third, and fourth\n",
    "columns from the first 150 rows of the 2001 airline data. \n",
    "\n",
    "2. Use `sed`, `sort`, `awk`, and `uniq` in some order to build a\n",
    "pipeline to print the number of airports located within each state. Note\n",
    "the `-c` flag, which can be used with `uniq`, might be useful.\n",
    "\n",
    "-----"
   ]
  },
  {
   "cell_type": "markdown",
   "metadata": {},
   "source": [
    "## Unix Networking\n",
    "\n",
    "In this third assignment, you should try out the different Unix networking\n",
    "commands we have discussed.\n",
    "\n",
    "### Use the ping command:\n",
    "\n",
    "This can be done in a Docker container or in the Unix shell of your host\n",
    "computer.\n",
    "\n",
    "```\n",
    "$ ping www.johndeere.com  \n",
    "$ ping www.cat.com  \n",
    "$ ping google.com\n",
    "```\n",
    "\n",
    "What are the differences? What do you learn from these commands? Try\n",
    "`ping` with a different hostname.\n",
    "\n",
    "### Use the traceroute command:\n",
    "\n",
    "At the Unix shell (not in a Docker container) try out the `traceroute`\n",
    "command.\n",
    "\n",
    "```\n",
    "$ traceroute google.com\n",
    "```\n",
    "\n",
    "What does this tell you? Are the results the same when you repeat the\n",
    "command? What about a different host?\n",
    "\n",
    "### Grab a datafile\n",
    "\n",
    "You often will want a dataset to use for a specific analysis. Within\n",
    "your Docker container, use `wget` to grab a web accesible data file,\n",
    "such as a text from the [Project Gutenberg](http://www.gutenberg.org)\n",
    "\n",
    "    $ wget ????\n",
    "\n",
    "Replace the _????_ with the correct URL, for example,\n",
    "http://www.gutenberg.org/cache/epub/4300/pg4300.txt. The downloaded file\n",
    "has been compressed to save disk space. Using tools you learned in the\n",
    "previous lesson, unzip the file and take a look at the first few rows.\n",
    "\n",
    "-----"
   ]
  },
  {
   "cell_type": "markdown",
   "metadata": {},
   "source": [
    "##  `git` & _github_\n",
    "\n",
    "In this final assignment (time permitting), you should learn how to work\n",
    "effectively with Github and `git`. First, view the [course\n",
    "repository](https://github.com/ProfessorBrunner/rp-pdss15) on Github.\n",
    "Notice how Github automatically renders IPython Notebooks as web\n",
    "pages. Download the Github Desktop application, and clone the course\n",
    "repository to your local computer.\n",
    "\n",
    "If you are new to `git` try the online\n",
    "[trygit](https://try.github.io/levels/1/challenges/1) website to review\n",
    "these concepts.\n",
    "\n",
    "(Advanced) You can view the course repository and post a new issue to\n",
    "_github_.\n",
    "\n",
    "-----"
   ]
  },
  {
   "cell_type": "markdown",
   "metadata": {},
   "source": [
    "### Return to the [Course Index](index.ipynb) page.\n",
    "\n",
    "-----"
   ]
  }
 ],
 "metadata": {
  "kernelspec": {
   "display_name": "Python 3",
   "language": "python",
   "name": "python3"
  },
  "language_info": {
   "codemirror_mode": {
    "name": "ipython",
    "version": 3
   },
   "file_extension": ".py",
   "mimetype": "text/x-python",
   "name": "python",
   "nbconvert_exporter": "python",
   "pygments_lexer": "ipython3",
   "version": "3.4.0"
  }
 },
 "nbformat": 4,
 "nbformat_minor": 0
}
