{
 "metadata": {
  "name": "",
  "signature": "sha256:e28bb4a2988a4d8ea4e79300725dcfbcfec9f7d53fbd7dbc1b9289c3d415d3f4"
 },
 "nbformat": 3,
 "nbformat_minor": 0,
 "worksheets": [
  {
   "cells": [
    {
     "cell_type": "markdown",
     "metadata": {},
     "source": [
      "\n",
      "<DIV ALIGN=CENTER>\n",
      "\n",
      "# Practical Data Science  \n",
      "## University of Illinois, Research Park  \n",
      "## Robert J. Brunner  \n",
      "## Spring 2015  \n",
      "  \n",
      "</DIV>  \n",
      "-----\n",
      "-----"
     ]
    },
    {
     "cell_type": "markdown",
     "metadata": {},
     "source": [
      "## Week 1: [Introduction to Practical Data Science][1]\n",
      "\n",
      "## Week 2: [Practical Command Line Data Science][2]\n",
      "\n",
      "## Week 3: [Python Programming and the IPython Notebook][3]\n",
      "\n",
      "## Week 4: [Introduction to Python Data Visualization][4]\n",
      "\n",
      "## Week 5: [Data Persistence][5]\n",
      "\n",
      "## Week 6: [Data Acquisition][6]\n",
      "\n",
      "## Week 7: [Statistical and Machine Learning][7]\n",
      "\n",
      "## Week 8: [Data Intensive Computing][8]\n",
      "\n",
      "-----\n",
      "\n",
      "[1]: Week1/index.ipynb\n",
      "[2]: Week2/index.ipynb\n",
      "[3]: Week3/index.ipynb\n",
      "[4]: Week4/index.ipynb\n",
      "[5]: Week5/index.ipynb\n",
      "[6]: Week6/index.ipynb\n",
      "[7]: Week7/index.ipynb\n",
      "[8]: Week8/index.ipynb"
     ]
    }
   ],
   "metadata": {}
  }
 ]
}