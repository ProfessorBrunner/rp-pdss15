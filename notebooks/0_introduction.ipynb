{
 "cells": [
  {
   "cell_type": "markdown",
   "metadata": {},
   "source": [
    "<DIV ALIGN=CENTER>\n",
    "\n",
    "# Practical Data Science\n",
    "## University of Illinois, Research Park\n",
    "## Robert J. Brunner\n",
    "## Spring 2015\n",
    "\n",
    "</DIV>  \n",
    "-----\n",
    "-----"
   ]
  },
  {
   "cell_type": "markdown",
   "metadata": {},
   "source": [
    "## Introduction\n",
    "\n",
    "### Professor: [Robert J. Brunner](http://www.astro.illinois.edu/people/bigdog)  \n",
    "### ![University Picture of Professor Brunner](http://lcdm.astro.illinois.edu/images/bigdog.png)\n",
    "\n",
    "### Assistant: Edward Kim\n",
    "\n",
    "### Sponsors: \n",
    "1. The Research Park at the University of Illinois\n",
    "2. National Center for Supercomputing Applications, PSP program\n",
    "\n",
    "-----"
   ]
  },
  {
   "cell_type": "markdown",
   "metadata": {},
   "source": [
    "## Course Overview\n",
    "\n",
    "A Practical Introduction to Data Science, specifically focusing on the\n",
    "tools and techniques that are the foundation of more advanced techniques\n",
    "that scale to big data.\n",
    "\n",
    "All course material is freely available\n",
    "[online](https://github.com/ProfessorBrunner/rp-pdss15). You will learn\n",
    "how to access the course material later in this lesson.\n",
    "\n",
    "Note that the students in this class span a range of backgrounds and\n",
    "interests. The primary purpose of this course is to review material that\n",
    "was originally covered in the eight week _Practical Data Science_ course\n",
    "held in the Spring of 2015 fo those who were unable to attend. This\n",
    "material will form the basis for the second course this fall, which will\n",
    "introduce more advanced material that builds on this content.\n",
    "\n",
    "-----\n",
    "\n",
    "### Policies\n",
    "\n",
    "#### Respect\n",
    "\n",
    "In this course, I expect you to be professional with the instructor,\n",
    "your fellow classmates, and the research park staff. \n",
    "\n",
    "#### Interactive\n",
    "\n",
    "I also expect this course to be interactive, you will learn best by\n",
    "doing. Thus, I will introduce concepts, techniques, or tools, and you\n",
    "will try them out in a breakout session. Thus it is important to\n",
    "complete any technology requirements ahead of time to the extent\n",
    "possible.\n",
    "\n",
    "#### Assignments\n",
    "\n",
    "To reinforce material, you will be given short assignments to work on\n",
    "during breakout sessions. You can work on this individually, or in\n",
    "pairs. You also can work on assignments after class in order to better master this material.\n",
    "\n",
    "#### Communication\n",
    "\n",
    "If you have questions during class, please ask! You can\n",
    "also contact the instructor via email: professor.brunner@gmail.com).\n",
    "\n",
    "----"
   ]
  },
  {
   "cell_type": "markdown",
   "metadata": {},
   "source": [
    "## Big Data/Data Science\n",
    "\n",
    "How do we define Big Data?\n",
    "\n",
    "What is the difference between Big Data and Data Science?\n",
    "\n",
    "-----\n",
    "\n",
    "Note that this is a **very** dynamic field. Material we are presenting (and using) is changing constantly.\n",
    "\n",
    "-----"
   ]
  },
  {
   "cell_type": "code",
   "execution_count": 1,
   "metadata": {
    "collapsed": false
   },
   "outputs": [
    {
     "data": {
      "text/html": [
       "<iframe src=http://en.wikipedia.org/wiki/Big_data?useformat=mobile width=800 height=600></iframe>"
      ],
      "text/plain": [
       "<IPython.core.display.HTML object>"
      ]
     },
     "execution_count": 1,
     "metadata": {},
     "output_type": "execute_result"
    }
   ],
   "source": [
    "from IPython.display import HTML\n",
    "HTML('<iframe src=http://en.wikipedia.org/wiki/Big_data?useformat=mobile width=800 height=600></iframe>')\n"
   ]
  },
  {
   "cell_type": "markdown",
   "metadata": {},
   "source": [
    "-----\n",
    "\n",
    "## Course Setup\n",
    "\n",
    "In this course, we will use a [JupyterHub Server][1] running in a\n",
    "private cloud to enable dynamic interactions with the course material.\n",
    "After class, this server will no longer be available, but we will\n",
    "[conclude the course][2] with a discussion on ways you can continue to\n",
    "learn the material on your own.\n",
    "\n",
    "The authentication mechanism we will use for the JupyterHub Server is\n",
    "your github credentials. You can simply use your existing github\n",
    "credentials if you already have a github account. If not, you can sign\n",
    "up for a free [github account](http://github.com) and use your new\n",
    "credentials for this course. \n",
    "\n",
    "![Github Signup](images/github-website.png)\n",
    "\n",
    "Once you have your github credentials, you can access the course\n",
    "[JupyterHub server](http://rpds.cloudapp.net/). \n",
    "\n",
    "![Cloud Server](images/cloud-server.png)\n",
    "\n",
    "In order to be able to successfully authenticate, you will need to share\n",
    "your github username with the instructional assistant, Edward Kim. Once\n",
    "we have added you to the list of approved users, you will be able to\n",
    "properly authenticate, which will involve allowing our JupyterHub Server\n",
    "to access your github credentials.\n",
    "\n",
    "![Cloud Authenticate](images/cloud-auth.png)\n",
    "\n",
    "After successfully authenticating, you will be given the option to start\n",
    "your server. To do this, simply click the _My Server_ button.\n",
    "\n",
    "![Server Start](images/server-start.png)\n",
    "\n",
    "After starting your server, you will be shown the directory contents of\n",
    "your running server. By default, you will have access to the course\n",
    "notebooks (and possibly a read only copy of the notebooks).\n",
    "\n",
    "![Server Run](images/server-run.png)\n",
    "\n",
    "From this screen you can click on folders to navigate the directory tree,\n",
    "select notebooks to run, or click on the _New_ menu tool in order to\n",
    "start a command line terminal where you will be able to run Unix\n",
    "commands.\n",
    "\n",
    "![Server Terminal](images/server-terminal.png)\n",
    "\n",
    "You can also explore our [short primer][3] on Github and the git source\n",
    "code versioning software, and also learn more about how we use the\n",
    "[Docker][4] virtualization software to provide a complete learning\n",
    "environment.\n",
    "\n",
    "----\n",
    "[1]: https://github.com/jupyter/jupyterhub\n",
    "[2]: 5_conclusions.ipynb\n",
    "[3]: 1_intro2github.ipynb\n",
    "[4]: extra/virtualization.ipynb"
   ]
  },
  {
   "cell_type": "markdown",
   "metadata": {},
   "source": [
    "### Return to the [Course Index](index.ipynb) page.\n",
    "\n",
    "-----"
   ]
  }
 ],
 "metadata": {
  "kernelspec": {
   "display_name": "Python 3",
   "language": "python",
   "name": "python3"
  },
  "language_info": {
   "codemirror_mode": {
    "name": "ipython",
    "version": 3
   },
   "file_extension": ".py",
   "mimetype": "text/x-python",
   "name": "python",
   "nbconvert_exporter": "python",
   "pygments_lexer": "ipython3",
   "version": "3.4.0"
  }
 },
 "nbformat": 4,
 "nbformat_minor": 0
}
