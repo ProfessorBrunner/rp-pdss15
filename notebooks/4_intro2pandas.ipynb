{
 "metadata": {
  "name": "",
  "signature": "sha256:f4185803e5fe976cd857613ca994e8f17c7ca95eb20f87f69c5edf2ac3e1a943"
 },
 "nbformat": 3,
 "nbformat_minor": 0,
 "worksheets": [
  {
   "cells": [
    {
     "cell_type": "markdown",
     "metadata": {},
     "source": [
      "<DIV ALIGN=CENTER>\n",
      "\n",
      "# Introduction to Pandas\n",
      "## Professor Robert J. Brunner\n",
      "  \n",
      "</DIV>  \n",
      "-----\n",
      "-----"
     ]
    },
    {
     "cell_type": "markdown",
     "metadata": {},
     "source": [
      "## Introduction\n",
      "\n",
      "One of the early criticisms of many in the data science arena of the\n",
      "Python language was the lack of useful data structures for performing\n",
      "data analysis tasks. This stemmed in part from comparisons between the R\n",
      "language and Python, since R has a built-in _DataFrame_ object that\n",
      "greatly simplified many data analysis tasks. This deficiency was\n",
      "addressed in 2008 by Wes McKinney with the creation of [Pandas][1] (the\n",
      "name was originally an abbreviation of Panel datas). To quote the Pandas\n",
      "documentation:\n",
      "\n",
      ">Python has long been great for data munging and preparation, but less\n",
      ">so for data analysis and modeling. pandas helps fill this gap, enabling\n",
      ">you to carry out your entire data analysis workflow in Python without\n",
      ">having to switch to a more domain specific language like R.\n",
      "\n",
      "Pandas introduces several new data structures like the `Series`,\n",
      "`DataFrame`, and `Panel` that build on top of existing\n",
      "tools like `numpy` to speed-up data analysis tasks. Pandas also provides\n",
      "efficient mechanisms for moving data between in memory representations\n",
      "and different data formats including CSV and text files, JSON files, SQL\n",
      "databases, HDF5 format files, and even Excel spreadsheets. Pandas also\n",
      "provides support for dealing with missing or incomplete data and\n",
      "aggregating or grouping data.\n",
      "\n",
      "-----\n",
      "[1]: http://pandas.pydata.org"
     ]
    },
    {
     "cell_type": "markdown",
     "metadata": {},
     "source": [
      "## Brief introduction to Pandas\n",
      "\n",
      "Before using Pandas, we must first import the Pandas library:\n",
      "\n",
      "    import pandas as pd\n",
      "\n",
      "Second, we simply create and use the appropriate Pandas data structure.\n",
      "The two most important data structures for typical data science tasks\n",
      "are the `Series` and the `DataFrame`:\n",
      "\n",
      "1. `Series`: a one-dimensional labeled array that can hold any data type\n",
      "such as integers, floating-point numbers, strings, or Python objects. A\n",
      "`Series` has both a data column and a label column called the _index_.\n",
      "\n",
      "2. `DataFrame`: a two-dimensional labeled data structure with columns\n",
      "that can be hold different data types, similar to a spreadsheet or\n",
      "relational database table. \n",
      "\n",
      "Pandas also provides a date/time data structure sometimes refereed to as\n",
      "a `TimeSeries` and a three-dimensional data structure known as a\n",
      "`Panel`. \n",
      "\n",
      "### `Series`\n",
      "\n",
      "A `Series` is useful to hold data that should be accesible by using a\n",
      "specific label. You create a `Series` by passing in an appropriate data\n",
      "set along with an optional index:\n",
      "\n",
      "    values = pd.Series(data, index=idx)\n",
      "\n",
      "The index varies depending on the type of data passed in to create the\n",
      "`Series:\n",
      "\n",
      "- if data is a NumPy array, the index should be the same length as the\n",
      "data array. If no index is provided one will be created that enables\n",
      "integer access that mirrors a traditional NumPy array (i.e., zero\n",
      "indexed). \n",
      "\n",
      "- if data is a Python dictionary, `idx` can contain specific labels to\n",
      "indicate which values in the dictionary should be used to create the\n",
      "`Series`. If no index is specified, an index is created from the sorted\n",
      "dictionary keys. \n",
      "\n",
      "- if data is a scalar value, an inde must be supplied. In this case, the\n",
      "scalar value will be repeated to ensure that each label in the index has\n",
      "a value in the `Series`.\n",
      "\n",
      "These different options are demonstrated in the following code cells.\n",
      "\n",
      "-----\n",
      "[df]: http://pandas.pydata.org/pandas-docs/stable/dsintro.html#dataframe"
     ]
    },
    {
     "cell_type": "code",
     "collapsed": false,
     "input": [
      "import pandas as pd\n",
      "import numpy as np\n",
      "\n",
      "# We label the random values\n",
      "s1 = pd.Series(np.random.rand(6), index=['q', 'w', 'e', 'r', 't', 'y'])\n",
      "\n",
      "print(s1)"
     ],
     "language": "python",
     "metadata": {},
     "outputs": [
      {
       "output_type": "stream",
       "stream": "stdout",
       "text": [
        "q    0.041575\n",
        "w    0.728066\n",
        "e    0.635570\n",
        "r    0.209476\n",
        "t    0.674911\n",
        "y    0.977924\n",
        "dtype: float64\n"
       ]
      }
     ],
     "prompt_number": 98
    },
    {
     "cell_type": "code",
     "collapsed": false,
     "input": [
      "d = {'q': 11, 'w': 21, 'e': 31, 'r': 41}\n",
      "\n",
      "# We pick out the q, w, and r keys, but have an undefined y key.\n",
      "s2 = pd.Series(d, index = ['q', 'w', 'r', 'y'])\n",
      "\n",
      "print(s2)"
     ],
     "language": "python",
     "metadata": {},
     "outputs": [
      {
       "output_type": "stream",
       "stream": "stdout",
       "text": [
        "q    11\n",
        "w    21\n",
        "r    41\n",
        "y   NaN\n",
        "dtype: float64\n"
       ]
      }
     ],
     "prompt_number": 99
    },
    {
     "cell_type": "code",
     "collapsed": false,
     "input": [
      "# We create a Series from an integer constant with explicit labels\n",
      "s3 = pd.Series(42, index = ['q', 'w', 'e', 'r', 't', 'y'])\n",
      "\n",
      "print(s3)\n",
      "\n",
      "print('\\nThe \"e\" value is ', s3['e'])"
     ],
     "language": "python",
     "metadata": {},
     "outputs": [
      {
       "output_type": "stream",
       "stream": "stdout",
       "text": [
        "q    42\n",
        "w    42\n",
        "e    42\n",
        "r    42\n",
        "t    42\n",
        "y    42\n",
        "dtype: int64\n",
        "\n",
        "The \"e\" value is  42\n"
       ]
      }
     ],
     "prompt_number": 100
    },
    {
     "cell_type": "code",
     "collapsed": false,
     "input": [
      "# We can slice like NumPy arrays\n",
      "\n",
      "print(s1[:-2])\n",
      "\n",
      "# We can also perform vectorized operations\n",
      "print('\\nSum Series:')\n",
      "print(s1 + s3)\n",
      "print('\\nSeries operations:')\n",
      "print(s2 * 5 - 1.2)"
     ],
     "language": "python",
     "metadata": {},
     "outputs": [
      {
       "output_type": "stream",
       "stream": "stdout",
       "text": [
        "q    0.041575\n",
        "w    0.728066\n",
        "e    0.635570\n",
        "r    0.209476\n",
        "dtype: float64\n",
        "\n",
        "Sum Series:\n",
        "q    42.041575\n",
        "w    42.728066\n",
        "e    42.635570\n",
        "r    42.209476\n",
        "t    42.674911\n",
        "y    42.977924\n",
        "dtype: float64\n",
        "\n",
        "Series operations:\n",
        "q     53.8\n",
        "w    103.8\n",
        "r    203.8\n",
        "y      NaN\n",
        "dtype: float64\n"
       ]
      }
     ],
     "prompt_number": 101
    },
    {
     "cell_type": "markdown",
     "metadata": {},
     "source": [
      "-----\n",
      "\n",
      "### `DataFrame`\n",
      "\n",
      "The second major data structure that Pandas provdis is he `DataFrame`,\n",
      "which is a two-dimensional array, where each column is effectively a\n",
      "`Series` with a shared index. A DataFrame is a very powerful data\n",
      "structure and provides a nice mapping for a number of different data\n",
      "formats (and storage mechanisms). For example, you can easily read data\n",
      "from a CSV file, a fixed width format text file, a JSOPN file, an HTML\n",
      "file, and HDF file, and a relational database into a Pandas `DataFrame`.\n",
      "This is demonstrated in the next set of code cells, where we extract\n",
      "data from files we created in the [Introduction to Data\n",
      "Formats][df] Notebook.\n",
      "\n",
      "-----\n",
      "[df]: dataformats.ipynb"
     ]
    },
    {
     "cell_type": "code",
     "collapsed": false,
     "input": [
      "# Read data from CSV file, and display subset\n",
      "\n",
      "dfa = pd.read_csv('data.csv', delimiter='|', index_col='iata')\n",
      "\n",
      "# We can grab the first five rows, and only extract the 'airport' column\n",
      "print(dfa[['airport', 'city', 'state']].head(5))"
     ],
     "language": "python",
     "metadata": {},
     "outputs": [
      {
       "output_type": "stream",
       "stream": "stdout",
       "text": [
        "                   airport              city state\n",
        "iata                                              \n",
        "00M               Thigpen        Bay Springs    MS\n",
        "00R   Livingston Municipal        Livingston    TX\n",
        "00V            Meadow Lake  Colorado Springs    CO\n",
        "01G           Perry-Warsaw             Perry    NY\n",
        "01J       Hilliard Airpark          Hilliard    FL\n",
        "\n",
        "[5 rows x 3 columns]\n"
       ]
      }
     ],
     "prompt_number": 102
    },
    {
     "cell_type": "code",
     "collapsed": false,
     "input": [
      "# Read data from our JSON file\n",
      "dfb = pd.read_json('data.json')\n",
      "\n",
      "# Grab the last five rows\n",
      "print(dfb[[0, 1, 2, 3, 5, 6]].tail(5))"
     ],
     "language": "python",
     "metadata": {},
     "outputs": [
      {
       "output_type": "stream",
       "stream": "stdout",
       "text": [
        "        0                          1            2   3         5         6\n",
        "3372  ZEF            Elkin Municipal        Elkin  NC  36.28002 -80.78607\n",
        "3373  ZER  Schuylkill Cty/Joe Zerbey   Pottsville  PA  40.70645 -76.37315\n",
        "3374  ZPH      Zephyrhills Municipal  Zephyrhills  FL  28.22806 -82.15592\n",
        "3375  ZUN                 Black Rock         Zuni  NM  35.08323 -108.7918\n",
        "3376  ZZV       Zanesville Municipal   Zanesville  OH  39.94446 -81.89211\n",
        "\n",
        "[5 rows x 6 columns]\n"
       ]
      }
     ],
     "prompt_number": 103
    },
    {
     "cell_type": "markdown",
     "metadata": {},
     "source": [
      "-----\n",
      "\n",
      "In the previous code cells, we read data first from a delimiter\n",
      "separated value file and second from a JSON file into a Pandas\n",
      "`DataFrame`. In each code cell, we display data contained in the new\n",
      "DataFrame, first by using the `head` method to display the first few\n",
      "rows, and second by using the `tail` method to display the last few\n",
      "lines. For the delimiter separated value file, we explicitly specified\n",
      "the delimiter, which is a vertical bar `|`, the default is to assume a\n",
      "comma as the delimiter. We also explicitly specify the `iata` column\n",
      "should be used as the index column, which is how we can refer to rows in\n",
      "the array. \n",
      "\n",
      "We also explicitly select columns for display in both code cells. In the\n",
      "first code cell, we explicitly name the columns, passing in a list of\n",
      "the names to the DataFrame. Alternatively, in the second code cell, we\n",
      "pass in a list of the column ids, which we must do since we did not\n",
      "create named columns when reading data from the JSON file. The list of\n",
      "integers can be used even if the columns of the array have been assigned\n",
      "names.\n",
      "\n",
      "Pandas includes a tremendous amount of functionality, especially for\n",
      "the `DataFrame`, to learn more, view the [detailed documentation][pdd].\n",
      "Several useful functions are demonstrated below, however, including\n",
      "information summaries, slicing, and column operations on DataFrames.\n",
      "\n",
      "-----\n",
      "\n",
      "[pdd]: http://pandas.pydata.org/pandas-docs/stable/dsintro.html#dataframe"
     ]
    },
    {
     "cell_type": "code",
     "collapsed": false,
     "input": [
      "# Lets look at the datatypes of each column\n",
      "dfa.dtypes"
     ],
     "language": "python",
     "metadata": {},
     "outputs": [
      {
       "metadata": {},
       "output_type": "pyout",
       "prompt_number": 104,
       "text": [
        "airport     object\n",
        "city        object\n",
        "state       object\n",
        "country     object\n",
        "lat        float64\n",
        "long       float64\n",
        "dtype: object"
       ]
      }
     ],
     "prompt_number": 104
    },
    {
     "cell_type": "code",
     "collapsed": false,
     "input": [
      "# We can get a summary of numerical information in the dataframe\n",
      "\n",
      "dfa.describe()"
     ],
     "language": "python",
     "metadata": {},
     "outputs": [
      {
       "html": [
        "<div style=\"max-height:1000px;max-width:1500px;overflow:auto;\">\n",
        "<table border=\"1\" class=\"dataframe\">\n",
        "  <thead>\n",
        "    <tr style=\"text-align: right;\">\n",
        "      <th></th>\n",
        "      <th>lat</th>\n",
        "      <th>long</th>\n",
        "    </tr>\n",
        "  </thead>\n",
        "  <tbody>\n",
        "    <tr>\n",
        "      <th>count</th>\n",
        "      <td> 3376.000000</td>\n",
        "      <td> 3376.000000</td>\n",
        "    </tr>\n",
        "    <tr>\n",
        "      <th>mean</th>\n",
        "      <td>   40.036524</td>\n",
        "      <td>  -98.621205</td>\n",
        "    </tr>\n",
        "    <tr>\n",
        "      <th>std</th>\n",
        "      <td>    8.329559</td>\n",
        "      <td>   22.869458</td>\n",
        "    </tr>\n",
        "    <tr>\n",
        "      <th>min</th>\n",
        "      <td>    7.367222</td>\n",
        "      <td> -176.646031</td>\n",
        "    </tr>\n",
        "    <tr>\n",
        "      <th>25%</th>\n",
        "      <td>   34.688427</td>\n",
        "      <td> -108.761121</td>\n",
        "    </tr>\n",
        "    <tr>\n",
        "      <th>50%</th>\n",
        "      <td>   39.434449</td>\n",
        "      <td>  -93.599425</td>\n",
        "    </tr>\n",
        "    <tr>\n",
        "      <th>75%</th>\n",
        "      <td>   43.372612</td>\n",
        "      <td>  -84.137519</td>\n",
        "    </tr>\n",
        "    <tr>\n",
        "      <th>max</th>\n",
        "      <td>   71.285448</td>\n",
        "      <td>  145.621384</td>\n",
        "    </tr>\n",
        "  </tbody>\n",
        "</table>\n",
        "<p>8 rows \u00d7 2 columns</p>\n",
        "</div>"
       ],
       "metadata": {},
       "output_type": "pyout",
       "prompt_number": 105,
       "text": [
        "               lat         long\n",
        "count  3376.000000  3376.000000\n",
        "mean     40.036524   -98.621205\n",
        "std       8.329559    22.869458\n",
        "min       7.367222  -176.646031\n",
        "25%      34.688427  -108.761121\n",
        "50%      39.434449   -93.599425\n",
        "75%      43.372612   -84.137519\n",
        "max      71.285448   145.621384\n",
        "\n",
        "[8 rows x 2 columns]"
       ]
      }
     ],
     "prompt_number": 105
    },
    {
     "cell_type": "code",
     "collapsed": false,
     "input": [
      "# Notice the JSON data did not automatically specify data types\n",
      "dfb.dtypes"
     ],
     "language": "python",
     "metadata": {},
     "outputs": [
      {
       "metadata": {},
       "output_type": "pyout",
       "prompt_number": 106,
       "text": [
        "0    object\n",
        "1    object\n",
        "2    object\n",
        "3    object\n",
        "4    object\n",
        "5    object\n",
        "6    object\n",
        "dtype: object"
       ]
      }
     ],
     "prompt_number": 106
    },
    {
     "cell_type": "code",
     "collapsed": false,
     "input": [
      "# This affects the output of the describe method, dfb has no numerical data types.\n",
      "\n",
      "dfb.describe()"
     ],
     "language": "python",
     "metadata": {},
     "outputs": [
      {
       "html": [
        "<div style=\"max-height:1000px;max-width:1500px;overflow:auto;\">\n",
        "<table border=\"1\" class=\"dataframe\">\n",
        "  <thead>\n",
        "    <tr style=\"text-align: right;\">\n",
        "      <th></th>\n",
        "      <th>0</th>\n",
        "      <th>1</th>\n",
        "      <th>2</th>\n",
        "      <th>3</th>\n",
        "      <th>4</th>\n",
        "      <th>5</th>\n",
        "      <th>6</th>\n",
        "    </tr>\n",
        "  </thead>\n",
        "  <tbody>\n",
        "    <tr>\n",
        "      <th>count</th>\n",
        "      <td> 3377</td>\n",
        "      <td>           3377</td>\n",
        "      <td> 3377</td>\n",
        "      <td> 3377</td>\n",
        "      <td> 3377</td>\n",
        "      <td> 3377.000000</td>\n",
        "      <td> 3377.000000</td>\n",
        "    </tr>\n",
        "    <tr>\n",
        "      <th>unique</th>\n",
        "      <td> 3377</td>\n",
        "      <td>           3246</td>\n",
        "      <td> 2677</td>\n",
        "      <td>   58</td>\n",
        "      <td>    6</td>\n",
        "      <td> 3376.000000</td>\n",
        "      <td> 3376.000000</td>\n",
        "    </tr>\n",
        "    <tr>\n",
        "      <th>top</th>\n",
        "      <td>  FOK</td>\n",
        "      <td> Jackson County</td>\n",
        "      <td>   NA</td>\n",
        "      <td>   AK</td>\n",
        "      <td>  USA</td>\n",
        "      <td>   41.610333</td>\n",
        "      <td>  -88.915616</td>\n",
        "    </tr>\n",
        "    <tr>\n",
        "      <th>freq</th>\n",
        "      <td>    1</td>\n",
        "      <td>              5</td>\n",
        "      <td>   12</td>\n",
        "      <td>  263</td>\n",
        "      <td> 3372</td>\n",
        "      <td>    2.000000</td>\n",
        "      <td>    2.000000</td>\n",
        "    </tr>\n",
        "  </tbody>\n",
        "</table>\n",
        "<p>4 rows \u00d7 7 columns</p>\n",
        "</div>"
       ],
       "metadata": {},
       "output_type": "pyout",
       "prompt_number": 107,
       "text": [
        "           0               1     2     3     4            5            6\n",
        "count   3377            3377  3377  3377  3377  3377.000000  3377.000000\n",
        "unique  3377            3246  2677    58     6  3376.000000  3376.000000\n",
        "top      FOK  Jackson County    NA    AK   USA    41.610333   -88.915616\n",
        "freq       1               5    12   263  3372     2.000000     2.000000\n",
        "\n",
        "[4 rows x 7 columns]"
       ]
      }
     ],
     "prompt_number": 107
    },
    {
     "cell_type": "code",
     "collapsed": false,
     "input": [
      "# We can slice out rows using the indicated index for dfa\n",
      "\n",
      "print(dfa.loc[['00V', '11R', '12C']])"
     ],
     "language": "python",
     "metadata": {},
     "outputs": [
      {
       "output_type": "stream",
       "stream": "stdout",
       "text": [
        "                airport              city state country        lat        long\n",
        "00V         Meadow Lake  Colorado Springs    CO     USA  38.945749 -104.569893\n",
        "11R   Brenham Municipal           Brenham    TX     USA  30.219000  -96.374278\n",
        "12C  Rochelle Municipal          Rochelle    IL     USA  41.893001  -89.078290\n",
        "\n",
        "[3 rows x 6 columns]\n"
       ]
      }
     ],
     "prompt_number": 108
    },
    {
     "cell_type": "code",
     "collapsed": false,
     "input": [
      "# We can slice out rows using the row index for dfb\n",
      "print(dfb[100:105])"
     ],
     "language": "python",
     "metadata": {},
     "outputs": [
      {
       "output_type": "stream",
       "stream": "stdout",
       "text": [
        "       0                   1         2   3    4         5         6\n",
        "100  11J        Early County   Blakely  GA  USA  31.39699 -84.89526\n",
        "101  11R   Brenham Municipal   Brenham  TX  USA    30.219 -96.37428\n",
        "102  12C  Rochelle Municipal  Rochelle  IL  USA    41.893 -89.07829\n",
        "103  12D     Tower Municipal     Tower  MN  USA  47.81833 -92.29167\n",
        "104  12J   Brewton Municipal   Brewton  AL  USA  31.05126 -87.06797\n",
        "\n",
        "[5 rows x 7 columns]\n"
       ]
      }
     ],
     "prompt_number": 109
    },
    {
     "cell_type": "code",
     "collapsed": false,
     "input": [
      "# We can also select rows based on boolean tests on columns\n",
      "print(dfa[(dfa.lat > 48) & (dfa.long < -170)])"
     ],
     "language": "python",
     "metadata": {},
     "outputs": [
      {
       "output_type": "stream",
       "stream": "stdout",
       "text": [
        "       airport      city state country        lat        long\n",
        "iata                                                         \n",
        "ADK       Adak      Adak    AK     USA  51.877964 -176.646031\n",
        "AKA       Atka      Atka    AK     USA  52.220348 -174.206350\n",
        "GAM    Gambell   Gambell    AK     USA  63.766766 -171.732824\n",
        "SNP   St. Paul  St. Paul    AK     USA  57.167333 -170.220444\n",
        "SVA   Savoonga  Savoonga    AK     USA  63.686394 -170.492636\n",
        "\n",
        "[5 rows x 6 columns]\n"
       ]
      }
     ],
     "prompt_number": 110
    },
    {
     "cell_type": "markdown",
     "metadata": {},
     "source": [
      "-----\n",
      "\n",
      "We can also perform numerical operations on a `DataFrame`, just as was the\n",
      "case with NumPy arrays. To demonstrate this, we create a numerical\n",
      "DataFrame, apply different operations, and view the results.\n",
      "\n",
      "-----"
     ]
    },
    {
     "cell_type": "code",
     "collapsed": false,
     "input": [
      "df = pd.DataFrame(np.random.randn(5, 6))\n",
      "\n",
      "print(df)"
     ],
     "language": "python",
     "metadata": {},
     "outputs": [
      {
       "output_type": "stream",
       "stream": "stdout",
       "text": [
        "          0         1         2         3         4         5\n",
        "0  0.754305  1.051052 -0.279998 -0.669690 -1.200560 -0.363231\n",
        "1  1.556665  0.548845 -1.472162  1.561508 -0.637657 -1.166939\n",
        "2  0.870539 -0.491909  0.268241 -2.757390 -2.041797  1.055151\n",
        "3 -0.508093 -1.151347 -0.953434  0.856557  0.540875 -0.292957\n",
        "4 -0.162054  0.930626  0.543327 -0.493399  0.484542  0.655629\n",
        "\n",
        "[5 rows x 6 columns]\n"
       ]
      }
     ],
     "prompt_number": 111
    },
    {
     "cell_type": "code",
     "collapsed": false,
     "input": [
      "# We can incorporate operate with basic scalar values\n",
      "\n",
      "df + 2.5"
     ],
     "language": "python",
     "metadata": {},
     "outputs": [
      {
       "html": [
        "<div style=\"max-height:1000px;max-width:1500px;overflow:auto;\">\n",
        "<table border=\"1\" class=\"dataframe\">\n",
        "  <thead>\n",
        "    <tr style=\"text-align: right;\">\n",
        "      <th></th>\n",
        "      <th>0</th>\n",
        "      <th>1</th>\n",
        "      <th>2</th>\n",
        "      <th>3</th>\n",
        "      <th>4</th>\n",
        "      <th>5</th>\n",
        "    </tr>\n",
        "  </thead>\n",
        "  <tbody>\n",
        "    <tr>\n",
        "      <th>0</th>\n",
        "      <td> 3.254305</td>\n",
        "      <td> 3.551052</td>\n",
        "      <td> 2.220002</td>\n",
        "      <td> 1.830310</td>\n",
        "      <td> 1.299440</td>\n",
        "      <td> 2.136769</td>\n",
        "    </tr>\n",
        "    <tr>\n",
        "      <th>1</th>\n",
        "      <td> 4.056665</td>\n",
        "      <td> 3.048845</td>\n",
        "      <td> 1.027838</td>\n",
        "      <td> 4.061508</td>\n",
        "      <td> 1.862343</td>\n",
        "      <td> 1.333061</td>\n",
        "    </tr>\n",
        "    <tr>\n",
        "      <th>2</th>\n",
        "      <td> 3.370539</td>\n",
        "      <td> 2.008091</td>\n",
        "      <td> 2.768241</td>\n",
        "      <td>-0.257390</td>\n",
        "      <td> 0.458203</td>\n",
        "      <td> 3.555151</td>\n",
        "    </tr>\n",
        "    <tr>\n",
        "      <th>3</th>\n",
        "      <td> 1.991907</td>\n",
        "      <td> 1.348653</td>\n",
        "      <td> 1.546566</td>\n",
        "      <td> 3.356557</td>\n",
        "      <td> 3.040875</td>\n",
        "      <td> 2.207043</td>\n",
        "    </tr>\n",
        "    <tr>\n",
        "      <th>4</th>\n",
        "      <td> 2.337946</td>\n",
        "      <td> 3.430626</td>\n",
        "      <td> 3.043327</td>\n",
        "      <td> 2.006601</td>\n",
        "      <td> 2.984542</td>\n",
        "      <td> 3.155629</td>\n",
        "    </tr>\n",
        "  </tbody>\n",
        "</table>\n",
        "<p>5 rows \u00d7 6 columns</p>\n",
        "</div>"
       ],
       "metadata": {},
       "output_type": "pyout",
       "prompt_number": 112,
       "text": [
        "          0         1         2         3         4         5\n",
        "0  3.254305  3.551052  2.220002  1.830310  1.299440  2.136769\n",
        "1  4.056665  3.048845  1.027838  4.061508  1.862343  1.333061\n",
        "2  3.370539  2.008091  2.768241 -0.257390  0.458203  3.555151\n",
        "3  1.991907  1.348653  1.546566  3.356557  3.040875  2.207043\n",
        "4  2.337946  3.430626  3.043327  2.006601  2.984542  3.155629\n",
        "\n",
        "[5 rows x 6 columns]"
       ]
      }
     ],
     "prompt_number": 112
    },
    {
     "cell_type": "code",
     "collapsed": false,
     "input": [
      "# And perform more complex scalar operations\n",
      "\n",
      "-1.0 * df + 3.5"
     ],
     "language": "python",
     "metadata": {},
     "outputs": [
      {
       "html": [
        "<div style=\"max-height:1000px;max-width:1500px;overflow:auto;\">\n",
        "<table border=\"1\" class=\"dataframe\">\n",
        "  <thead>\n",
        "    <tr style=\"text-align: right;\">\n",
        "      <th></th>\n",
        "      <th>0</th>\n",
        "      <th>1</th>\n",
        "      <th>2</th>\n",
        "      <th>3</th>\n",
        "      <th>4</th>\n",
        "      <th>5</th>\n",
        "    </tr>\n",
        "  </thead>\n",
        "  <tbody>\n",
        "    <tr>\n",
        "      <th>0</th>\n",
        "      <td> 2.745695</td>\n",
        "      <td> 2.448948</td>\n",
        "      <td> 3.779998</td>\n",
        "      <td> 4.169690</td>\n",
        "      <td> 4.700560</td>\n",
        "      <td> 3.863231</td>\n",
        "    </tr>\n",
        "    <tr>\n",
        "      <th>1</th>\n",
        "      <td> 1.943335</td>\n",
        "      <td> 2.951155</td>\n",
        "      <td> 4.972162</td>\n",
        "      <td> 1.938492</td>\n",
        "      <td> 4.137657</td>\n",
        "      <td> 4.666939</td>\n",
        "    </tr>\n",
        "    <tr>\n",
        "      <th>2</th>\n",
        "      <td> 2.629461</td>\n",
        "      <td> 3.991909</td>\n",
        "      <td> 3.231759</td>\n",
        "      <td> 6.257390</td>\n",
        "      <td> 5.541797</td>\n",
        "      <td> 2.444849</td>\n",
        "    </tr>\n",
        "    <tr>\n",
        "      <th>3</th>\n",
        "      <td> 4.008093</td>\n",
        "      <td> 4.651347</td>\n",
        "      <td> 4.453434</td>\n",
        "      <td> 2.643443</td>\n",
        "      <td> 2.959125</td>\n",
        "      <td> 3.792957</td>\n",
        "    </tr>\n",
        "    <tr>\n",
        "      <th>4</th>\n",
        "      <td> 3.662054</td>\n",
        "      <td> 2.569374</td>\n",
        "      <td> 2.956673</td>\n",
        "      <td> 3.993399</td>\n",
        "      <td> 3.015458</td>\n",
        "      <td> 2.844371</td>\n",
        "    </tr>\n",
        "  </tbody>\n",
        "</table>\n",
        "<p>5 rows \u00d7 6 columns</p>\n",
        "</div>"
       ],
       "metadata": {},
       "output_type": "pyout",
       "prompt_number": 113,
       "text": [
        "          0         1         2         3         4         5\n",
        "0  2.745695  2.448948  3.779998  4.169690  4.700560  3.863231\n",
        "1  1.943335  2.951155  4.972162  1.938492  4.137657  4.666939\n",
        "2  2.629461  3.991909  3.231759  6.257390  5.541797  2.444849\n",
        "3  4.008093  4.651347  4.453434  2.643443  2.959125  3.792957\n",
        "4  3.662054  2.569374  2.956673  3.993399  3.015458  2.844371\n",
        "\n",
        "[5 rows x 6 columns]"
       ]
      }
     ],
     "prompt_number": 113
    },
    {
     "cell_type": "code",
     "collapsed": false,
     "input": [
      "# We can also apply vectorized functions\n",
      "\n",
      "np.sin(df)"
     ],
     "language": "python",
     "metadata": {},
     "outputs": [
      {
       "html": [
        "<div style=\"max-height:1000px;max-width:1500px;overflow:auto;\">\n",
        "<table border=\"1\" class=\"dataframe\">\n",
        "  <thead>\n",
        "    <tr style=\"text-align: right;\">\n",
        "      <th></th>\n",
        "      <th>0</th>\n",
        "      <th>1</th>\n",
        "      <th>2</th>\n",
        "      <th>3</th>\n",
        "      <th>4</th>\n",
        "      <th>5</th>\n",
        "    </tr>\n",
        "  </thead>\n",
        "  <tbody>\n",
        "    <tr>\n",
        "      <th>0</th>\n",
        "      <td> 0.684782</td>\n",
        "      <td> 0.867946</td>\n",
        "      <td>-0.276354</td>\n",
        "      <td>-0.620743</td>\n",
        "      <td>-0.932242</td>\n",
        "      <td>-0.355296</td>\n",
        "    </tr>\n",
        "    <tr>\n",
        "      <th>1</th>\n",
        "      <td> 0.999900</td>\n",
        "      <td> 0.521702</td>\n",
        "      <td>-0.995140</td>\n",
        "      <td> 0.999957</td>\n",
        "      <td>-0.595314</td>\n",
        "      <td>-0.919552</td>\n",
        "    </tr>\n",
        "    <tr>\n",
        "      <th>2</th>\n",
        "      <td> 0.764676</td>\n",
        "      <td>-0.472309</td>\n",
        "      <td> 0.265036</td>\n",
        "      <td>-0.374820</td>\n",
        "      <td>-0.891115</td>\n",
        "      <td> 0.869975</td>\n",
        "    </tr>\n",
        "    <tr>\n",
        "      <th>3</th>\n",
        "      <td>-0.486512</td>\n",
        "      <td>-0.913313</td>\n",
        "      <td>-0.815408</td>\n",
        "      <td> 0.755592</td>\n",
        "      <td> 0.514886</td>\n",
        "      <td>-0.288785</td>\n",
        "    </tr>\n",
        "    <tr>\n",
        "      <th>4</th>\n",
        "      <td>-0.161346</td>\n",
        "      <td> 0.801994</td>\n",
        "      <td> 0.516986</td>\n",
        "      <td>-0.473622</td>\n",
        "      <td> 0.465803</td>\n",
        "      <td> 0.609658</td>\n",
        "    </tr>\n",
        "  </tbody>\n",
        "</table>\n",
        "<p>5 rows \u00d7 6 columns</p>\n",
        "</div>"
       ],
       "metadata": {},
       "output_type": "pyout",
       "prompt_number": 114,
       "text": [
        "          0         1         2         3         4         5\n",
        "0  0.684782  0.867946 -0.276354 -0.620743 -0.932242 -0.355296\n",
        "1  0.999900  0.521702 -0.995140  0.999957 -0.595314 -0.919552\n",
        "2  0.764676 -0.472309  0.265036 -0.374820 -0.891115  0.869975\n",
        "3 -0.486512 -0.913313 -0.815408  0.755592  0.514886 -0.288785\n",
        "4 -0.161346  0.801994  0.516986 -0.473622  0.465803  0.609658\n",
        "\n",
        "[5 rows x 6 columns]"
       ]
      }
     ],
     "prompt_number": 114
    },
    {
     "cell_type": "code",
     "collapsed": false,
     "input": [
      "# We can tranpose the dataframe\n",
      "\n",
      "df.T"
     ],
     "language": "python",
     "metadata": {},
     "outputs": [
      {
       "html": [
        "<div style=\"max-height:1000px;max-width:1500px;overflow:auto;\">\n",
        "<table border=\"1\" class=\"dataframe\">\n",
        "  <thead>\n",
        "    <tr style=\"text-align: right;\">\n",
        "      <th></th>\n",
        "      <th>0</th>\n",
        "      <th>1</th>\n",
        "      <th>2</th>\n",
        "      <th>3</th>\n",
        "      <th>4</th>\n",
        "    </tr>\n",
        "  </thead>\n",
        "  <tbody>\n",
        "    <tr>\n",
        "      <th>0</th>\n",
        "      <td> 0.754305</td>\n",
        "      <td> 1.556665</td>\n",
        "      <td> 0.870539</td>\n",
        "      <td>-0.508093</td>\n",
        "      <td>-0.162054</td>\n",
        "    </tr>\n",
        "    <tr>\n",
        "      <th>1</th>\n",
        "      <td> 1.051052</td>\n",
        "      <td> 0.548845</td>\n",
        "      <td>-0.491909</td>\n",
        "      <td>-1.151347</td>\n",
        "      <td> 0.930626</td>\n",
        "    </tr>\n",
        "    <tr>\n",
        "      <th>2</th>\n",
        "      <td>-0.279998</td>\n",
        "      <td>-1.472162</td>\n",
        "      <td> 0.268241</td>\n",
        "      <td>-0.953434</td>\n",
        "      <td> 0.543327</td>\n",
        "    </tr>\n",
        "    <tr>\n",
        "      <th>3</th>\n",
        "      <td>-0.669690</td>\n",
        "      <td> 1.561508</td>\n",
        "      <td>-2.757390</td>\n",
        "      <td> 0.856557</td>\n",
        "      <td>-0.493399</td>\n",
        "    </tr>\n",
        "    <tr>\n",
        "      <th>4</th>\n",
        "      <td>-1.200560</td>\n",
        "      <td>-0.637657</td>\n",
        "      <td>-2.041797</td>\n",
        "      <td> 0.540875</td>\n",
        "      <td> 0.484542</td>\n",
        "    </tr>\n",
        "    <tr>\n",
        "      <th>5</th>\n",
        "      <td>-0.363231</td>\n",
        "      <td>-1.166939</td>\n",
        "      <td> 1.055151</td>\n",
        "      <td>-0.292957</td>\n",
        "      <td> 0.655629</td>\n",
        "    </tr>\n",
        "  </tbody>\n",
        "</table>\n",
        "<p>6 rows \u00d7 5 columns</p>\n",
        "</div>"
       ],
       "metadata": {},
       "output_type": "pyout",
       "prompt_number": 115,
       "text": [
        "          0         1         2         3         4\n",
        "0  0.754305  1.556665  0.870539 -0.508093 -0.162054\n",
        "1  1.051052  0.548845 -0.491909 -1.151347  0.930626\n",
        "2 -0.279998 -1.472162  0.268241 -0.953434  0.543327\n",
        "3 -0.669690  1.561508 -2.757390  0.856557 -0.493399\n",
        "4 -1.200560 -0.637657 -2.041797  0.540875  0.484542\n",
        "5 -0.363231 -1.166939  1.055151 -0.292957  0.655629\n",
        "\n",
        "[6 rows x 5 columns]"
       ]
      }
     ],
     "prompt_number": 115
    },
    {
     "cell_type": "markdown",
     "metadata": {},
     "source": [
      "-----\n",
      "\n",
      "The above description merely scratchs the surface of what you can do\n",
      "with a Pandas `Series` or a `DataFrame`. The best way to learn how to\n",
      "effectively use these data structures is to just do it!\n",
      "\n",
      "We now will change gears and explore how to use Pandas with a relational \n",
      "database.\n",
      "\n",
      "-----"
     ]
    },
    {
     "cell_type": "markdown",
     "metadata": {},
     "source": [
      "### Pandas and SQL\n",
      "\n",
      "After the Week 5 Notebook exploring how to use standard Python to work\n",
      "with a database, you have probably realized that there is a lot of\n",
      "standard code we must write to simply execute some SQL commands. While\n",
      "there are different Python libraries that exist to simplify these steps,\n",
      "we will focus on using the Pandas library, which is a standard library\n",
      "for doing _Data Analysis in Python_.\n",
      "\n",
      "----"
     ]
    },
    {
     "cell_type": "code",
     "collapsed": false,
     "input": [
      "import sqlite3 as sl\n",
      "import pandas as pd"
     ],
     "language": "python",
     "metadata": {},
     "outputs": [],
     "prompt_number": 116
    },
    {
     "cell_type": "markdown",
     "metadata": {},
     "source": [
      "-----\n",
      "\n",
      "Pandas provides built-in support for executing a SQL query and\n",
      "retrieving the result as a DataFrame. This is demonstrated in the next\n",
      "code cell, where we execute a SQL query on the airlines database. We\n",
      "select several columns, and for simplicity we restrict our query result\n",
      "to only ten rows by using the ANSI SQL `LIMIT` clause.\n",
      "\n",
      "The Pandas method to execute a SQL statement is `read_sql`, and mimics\n",
      "in appearance other Panda methods for _reading_ data into a Pandas\n",
      "DataFrame. In this case, the method takes our SQL statement, database\n",
      "connection, and an optional parameter, `index_col` that we can use to\n",
      "specify which column in our result should be treated as an index column.\n",
      "Pandas will supply an auto-incrementing column if no column is explicitly\n",
      "supplied. To save space in the output display, we specify our own column\n",
      "in these examples.\n",
      "\n",
      "\n",
      "-----"
     ]
    },
    {
     "cell_type": "code",
     "collapsed": false,
     "input": [
      "query = \"SELECT code, airport, city, state, latitude, longitude FROM airports LIMIT 10 ;\"\n",
      "\n",
      "database = '/notebooks/rppds/database/rppds'\n",
      "\n",
      "with sl.connect(database) as con:\n",
      "    data = pd.read_sql(query, con, index_col ='code')\n",
      "    \n",
      "    print(data)"
     ],
     "language": "python",
     "metadata": {},
     "outputs": [
      {
       "output_type": "stream",
       "stream": "stdout",
       "text": [
        "                   airport              city  state  latitude longitude\n",
        "code                                                                   \n",
        "iata               airport              city  state       lat      long\n",
        "00M               Thigpen        Bay Springs     MS  31.95376  -89.2345\n",
        "00R   Livingston Municipal        Livingston     TX  30.68586 -95.01793\n",
        "00V            Meadow Lake  Colorado Springs     CO  38.94575 -104.5699\n",
        "01G           Perry-Warsaw             Perry     NY  42.74135 -78.05208\n",
        "01J       Hilliard Airpark          Hilliard     FL  30.68801 -81.90594\n",
        "01M      Tishomingo County           Belmont     MS  34.49167 -88.20111\n",
        "02A            Gragg-Wade            Clanton     AL  32.85049 -86.61145\n",
        "02C                Capitol        Brookfield     WI  43.08751 -88.17787\n",
        "02G      Columbiana County    East Liverpool     OH  40.67331 -80.64141\n",
        "\n",
        "[10 rows x 5 columns]\n"
       ]
      }
     ],
     "prompt_number": 117
    },
    {
     "cell_type": "markdown",
     "metadata": {},
     "source": [
      "-----\n",
      "\n",
      "In the next code cell, we use the column selection feature with a Pandas\n",
      "DataFrame to select only those rows that have airports in the state of\n",
      "Mississippi. We do this by selecting the `state` attribute of the\n",
      "DataFrame, which corresponds to the _state_ column, and applying a\n",
      "Boolean condition.\n",
      "\n",
      "-----"
     ]
    },
    {
     "cell_type": "code",
     "collapsed": false,
     "input": [
      "query = \"SELECT code, airport, city, state, latitude, longitude FROM airports LIMIT 100 ;\"\n",
      "\n",
      "with sl.connect(database) as con:\n",
      "    data = pd.read_sql(query, con, index_col ='code')\n",
      "    \n",
      "    print(data[data.state == 'MS'])"
     ],
     "language": "python",
     "metadata": {},
     "outputs": [
      {
       "output_type": "stream",
       "stream": "stdout",
       "text": [
        "                     airport         city state  latitude longitude\n",
        "code                                                               \n",
        "00M                 Thigpen   Bay Springs    MS  31.95376  -89.2345\n",
        "01M        Tishomingo County      Belmont    MS  34.49167 -88.20111\n",
        "04M           Calhoun County    Pittsboro    MS  33.93011 -89.34285\n",
        "06M         Eupora Municipal       Eupora    MS  33.53457 -89.31257\n",
        "08M    Carthage-Leake County     Carthage    MS  32.76125 -89.53007\n",
        "09M     Charleston Municipal   Charleston    MS   33.9915 -90.07815\n",
        "0M6            Panola County   Batesville    MS  34.36677 -89.90009\n",
        "0R0   Columbia-Marion County     Columbia    MS  31.29701 -89.81283\n",
        "\n",
        "[8 rows x 5 columns]\n"
       ]
      }
     ],
     "prompt_number": 118
    },
    {
     "cell_type": "markdown",
     "metadata": {},
     "source": [
      "-----\n",
      "\n",
      "Pandas also simplifies the insertion of new data into a SQL database.\n",
      "For this, we can simply take an existing Pandas DataFrame and call the\n",
      "`to_sql()` method. This method requires two parameters, the name of the\n",
      "database table, and the database connection. If the table does not\n",
      "exist, a new table will be created to match the DataFrame, including\n",
      "appropriate column names and data types. \n",
      "\n",
      "In the next two code blocks, we first query the airports table, and use\n",
      "Pandas to extract all airports in Illinois. We next insert this data\n",
      "back into our database as a new table called `ILAirports`. The following\n",
      "code block queries this new table and display the results for\n",
      "confirmation.\n",
      "\n",
      "-----"
     ]
    },
    {
     "cell_type": "code",
     "collapsed": false,
     "input": [
      "# Creating table automatically works better if columns are explicitly listed.\n",
      "\n",
      "query = \"SELECT code, airport, city, state, latitude, longitude FROM airports ;\"\n",
      "with sl.connect(database) as con:\n",
      "    data = pd.read_sql(query, con)\n",
      "\n",
      "    data[data.state == 'IL'].to_sql('ILAirports', con)"
     ],
     "language": "python",
     "metadata": {},
     "outputs": [],
     "prompt_number": 119
    },
    {
     "cell_type": "code",
     "collapsed": false,
     "input": [
      "with sl.connect(database) as con:\n",
      "    data = pd.read_sql('SELECT code, city, airport, latitude, longitude FROM ILAirports', \n",
      "                       con, index_col ='code')\n",
      "    \n",
      "    print(data[10:20])"
     ],
     "language": "python",
     "metadata": {},
     "outputs": [
      {
       "output_type": "stream",
       "stream": "stdout",
       "text": [
        "                       city                airport     latitude     longitude\n",
        "code                                                                         \n",
        "3CK       Lake In The Hills      Lake In The Hills  42.20680306  -88.32304028\n",
        "3K6   Troy/Marine/St. Louis    St Louis-Metro East  38.73290861  -89.80656722\n",
        "3LC                 Lincoln           Logan County  40.15847222  -89.33497222\n",
        "3LF              Litchfield   Litchfield Municipal  39.16635306  -89.67489694\n",
        "3MY                  Peoria   Mt. Hawley Auxiliary  40.79525917   -89.6134025\n",
        "9I0                  Havana        Havana Regional    40.221155  -90.02289361\n",
        "AJG               Mt Carmel    Mt Carmel Municipal  38.60654722  -87.72669417\n",
        "ALN         Alton/St. Louis     St. Louis Regional  38.89029083  -90.04604306\n",
        "ARR          Chicago/Aurora       Aurora Municipal  41.77192944  -88.47565917\n",
        "BLV    Belleville/St. Louis  Scott AFB/MidAmerica   38.54517861  -89.83518444\n",
        "\n",
        "[10 rows x 4 columns]\n"
       ]
      }
     ],
     "prompt_number": 120
    },
    {
     "cell_type": "markdown",
     "metadata": {},
     "source": [
      "## Breakout Session: Pandas\n",
      "\n",
      "During this session, you should work Pandas and the airline database.\n",
      "First execute the code in this Notebook to gain familiarity with Pandas.\n",
      "\n",
      "### Intermediate Challenge:\n",
      "\n",
      "First, use Pandas to query the airline database; you will want to\n",
      "perform a join on the flights and airport tables to build a more complex\n",
      "DataFrame. Using this new DataFrame, perform statistics by using Pandas\n",
      "to perform aggregate statistics. .\n",
      "\n",
      "### Advanced Challenge:\n",
      "\n",
      "First, use Pandas to query the airline database; but pull the flights\n",
      "table into one DataFrame and the airports table into a second DataFrame.\n",
      "Use Pandas functionality to join these tables directly and to perform\n",
      "aggregation directly (such as counting the number of flights for each\n",
      "tail number).\n",
      "\n",
      "\n",
      "-----"
     ]
    },
    {
     "cell_type": "markdown",
     "metadata": {},
     "source": [
      "### Additional References\n",
      "\n",
      "1. [Pandas Documentation][pdd]\n",
      "2. A slightly dated Pandas [tutorial][pdt]\n",
      "-----\n",
      "\n",
      "[pdd]: http://pandas.pydata.org/pandas-docs/stable/index.html\n",
      "[pdt]: http://www.gregreda.com/2013/10/26/intro-to-pandas-data-structures/"
     ]
    },
    {
     "cell_type": "markdown",
     "metadata": {},
     "source": [
      "### Return to the [Week 6 Index](index.ipynb).\n",
      "\n",
      "-----"
     ]
    }
   ],
   "metadata": {}
  }
 ]
}