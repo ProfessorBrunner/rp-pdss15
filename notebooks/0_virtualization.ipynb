{
 "metadata": {
  "name": "",
  "signature": "sha256:7a510ba76672c912253c540c4ed51f494d3d50ea02cda05410a9beec9e191901"
 },
 "nbformat": 3,
 "nbformat_minor": 0,
 "worksheets": [
  {
   "cells": [
    {
     "cell_type": "markdown",
     "metadata": {},
     "source": [
      "<DIV ALIGN=CENTER>\n",
      "\n",
      "# Virtualization & Docker    \n",
      "## Professor Robert J. Brunner\n",
      "  \n",
      "</DIV>  \n",
      "-----\n",
      "-----"
     ]
    },
    {
     "cell_type": "markdown",
     "metadata": {},
     "source": [
      "## Virtualization Overview\n",
      "\n",
      "Virtualization technology is used to simplify the development, deployment, and management of applications.  \n",
      "\n",
      "Virtualization can take different routes, two of the more popular options are\n",
      "\n",
      "1. Virtual Machines\n",
      "2. Virtual Containers\n",
      "\n",
      "-----\n"
     ]
    },
    {
     "cell_type": "markdown",
     "metadata": {},
     "source": [
      "### Virtual Machines\n",
      "\n",
      "- full operating system\n",
      "- control complete environment\n",
      "- isolation\n",
      "- slow to boot\n",
      "- heavyweight\n",
      "\n",
      "-----"
     ]
    },
    {
     "cell_type": "markdown",
     "metadata": {},
     "source": [
      "### Virtual Box\n",
      "\n",
      "![Virtualbox Website](images/virtualbox.png)\n",
      "\n",
      "-----"
     ]
    },
    {
     "cell_type": "markdown",
     "metadata": {},
     "source": [
      "### Virtual Container\n",
      "\n",
      "- shared operating system (Linux Containers)\n",
      "- Mac OSX/Windows require a Linux host OS (VM)\n",
      "- multiple containers from same image\n",
      "- lightweight\n",
      "- fast startup\n",
      "\n",
      "-----"
     ]
    },
    {
     "cell_type": "markdown",
     "metadata": {},
     "source": [
      "### Docker Container\n",
      "\n",
      "![Docker Website](images/docker-website.png)\n",
      "\n",
      "-----"
     ]
    },
    {
     "cell_type": "markdown",
     "metadata": {},
     "source": [
      "### VMs versus Containers\n",
      "\n",
      "The [Docker Website](https://www.docker.com/whatisdocker) provides a comaprison between Virtual Machines and Docker containerization.\n",
      "\n",
      "-----"
     ]
    },
    {
     "cell_type": "markdown",
     "metadata": {},
     "source": [
      "### Boot2Docker\n",
      "\n",
      "Mac OSX and Windows systems require a Linux Guest Operating System in order to run Docker containers. For these operating systems, you can use the Boot2Docker application which provides:\n",
      "\n",
      "- A VirtualBox installation\n",
      "- An Ubuntu Guest OS\n",
      "- The Boot2Docker application\n",
      "\n",
      "![Boot2Docker Application](images/boot2docker.png)\n",
      "\n",
      "-----"
     ]
    },
    {
     "cell_type": "markdown",
     "metadata": {},
     "source": [
      "### Boot2Docker Shell\n",
      "\n",
      "Running the Boot2Docker application will open a new boot2docker shell as shown below. You can start multiple bot2docker shells by simply re-running the boot2docker application. In this course, we denote a boot2docker shell prompt with the dollar sign, `$`.\n",
      "\n",
      "![B2D Shell](images/b2d-shell.png)\n",
      "\n",
      "-----\n"
     ]
    },
    {
     "cell_type": "markdown",
     "metadata": {},
     "source": [
      "### Docker Commands\n",
      "\n",
      "You can see the list of docker commands, shown below, by simply entering docker at a boot2docker shell prompt:\n",
      "\n",
      "    $ docker\n",
      "\n",
      "![Docker Commands](images/docker-commands.png)\n",
      "\n",
      "-----\n"
     ]
    },
    {
     "cell_type": "markdown",
     "metadata": {},
     "source": [
      "### Docker Shell\n",
      "\n",
      "To start a new container from an existing image, you simple enter a docker run command with the target image name and the desired executable program. To start an interactive  docker container you simply include the `-it` flag. Thus, to start a new container in an interactive Unix Bash shell, we enter the following command:\n",
      "\n",
      "    $ docker run -it lcdm/rppds /bin/bash\n",
      "   \n",
      "![Docker Shell](images/docker-shell.png)\n",
      "\n",
      "Note how the prompt has changed to indicate that we are now running a shell in th new docker container. The directory is the `/notebooks` directory, and our prompt has changes to the hash character, `#`, which is the character we will now use to refer to a docker shell prompt.\n",
      "\n",
      "-----\n"
     ]
    },
    {
     "cell_type": "markdown",
     "metadata": {},
     "source": [
      "### Docker Container\n",
      "\n",
      "After running the following command in a different boot2docker shell you will see the original container image and the new running container.\n",
      "\n",
      "```\n",
      "    $ docker run -it lcdm/rppds /bin/bash\n",
      "``` \n",
      "\n",
      "To see the list of docker images, you enter `docker images` at a boot2docker prompt, while to see the list of running docker containers you enter `docker ps` at the boot2docker prompt.\n",
      "\n",
      "![Docker Container](images/docker-container.png)\n",
      "\n",
      "-----\n",
      "\n"
     ]
    },
    {
     "cell_type": "markdown",
     "metadata": {},
     "source": [
      "### Isolation\n",
      "\n",
      "You can view the container isolation by running two boot2docker shells. In the first shell, we run the docker container, and make a new directory in the root file system that contains a single, new file.\n",
      "\n",
      "    $ docker run -it lcdm/rppds /bin/bash\n",
      "    \n",
      "    /notebooks# mkdir ../testing\n",
      "    /notebooks# touch ../testing/README\n",
      "    /notebooks# ls ../testing/\n",
      "    /notebooks# ls ../\n",
      "\n",
      "![Docker First Container](images/docker-container1.png)\n",
      "\n",
      "Now, in a second boot2docker shell, we run a new instance of the course docker image, and see the effects of container isolation:\n",
      "\n",
      "    $ docker run -it lcdm/rppds /bin/bash\n",
      "    \n",
      "    /notebooks# ls ../\n",
      "\n",
      "![Docker Second Container](images/docker-container2.png)\n",
      "\n",
      "-----"
     ]
    },
    {
     "cell_type": "markdown",
     "metadata": {},
     "source": [
      "## Persistence\n",
      "\n",
      "You can save changes made to a running container by using the `docker commit` command. In the previous example, our running container added a new file called README in the /testing directory. We can create a new image from this running container, and use this new image to start a container that includes any changes made in the original running container. \n",
      "\n",
      "To do this, we first need to get the list of running containers by using `docker ps` to find the name of the container we want to persist. Next we commit the changes to the running container by using `docker commit`, after which we can start a new container from this saved image, and verify the new container has the original changes.\n",
      "\n",
      "![Docker Commits](images/docker-commit.png)\n",
      "\n",
      "-----"
     ]
    },
    {
     "cell_type": "markdown",
     "metadata": {},
     "source": [
      "## Breakout Session: Working with Docker\n",
      "\n",
      "During this session, you should gain familiarity in working with the Docker engine.\n",
      "\n",
      "Your goal should be a working Docker engine, with a container running the course Docker image.\n",
      "\n",
      "----\n",
      "\n",
      "Those with succesful installations should [try out](https://www.docker.com/tryit/) docker online.\n",
      "\n",
      "-----\n",
      "\n",
      "![Tryout Docker](images/tryout-docker.png)\n",
      "\n",
      "-----"
     ]
    },
    {
     "cell_type": "markdown",
     "metadata": {},
     "source": [
      "### Additional References\n",
      "\n",
      "1. The [Docker Website](https://www.docker.com)\n",
      "2. The [VirtualBox Website](https://www.virtualbox.org)\n",
      "3. (Advanced) The [Docker Book](http://dockerbook.com)\n",
      "4. (Advanced, Mac OSX) The [Docker: Missing Manual](http://viget.com/extend/how-to-use-docker-on-os-x-the-missing-guide)\n",
      "\n",
      "-----"
     ]
    },
    {
     "cell_type": "markdown",
     "metadata": {},
     "source": [
      "### Return to the [Week 1 Index](index.ipynb) page.\n",
      "\n",
      "-----"
     ]
    }
   ],
   "metadata": {}
  }
 ]
}