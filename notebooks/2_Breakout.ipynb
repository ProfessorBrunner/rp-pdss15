{
 "cells": [
  {
   "cell_type": "markdown",
   "metadata": {},
   "source": [
    "<DIV ALIGN=CENTER>\n",
    "\n",
    "# Python Breakout   \n",
    "## Professor Robert J. Brunner\n",
    "  \n",
    "</DIV>  \n",
    "-----\n",
    "-----"
   ]
  },
  {
   "cell_type": "markdown",
   "metadata": {
    "collapsed": true
   },
   "source": [
    "## Introduction to IPython Notebooks\n",
    "\n",
    "In this first assignment, you should learn to create and run an IPython\n",
    "notebook by using the course JupyterHub Server. This will allow you to\n",
    "try out features such as Markdown, Magics, and LaTeX formulae. \n",
    "\n",
    "As a first step, create a new IPython Notebook by clicking the `New`\n",
    "button on your server homepage, and select `Python 3` under the\n",
    "`Notebooks` header. This should open a new browser window that contains\n",
    "you empty and untitled notebook:\n",
    "\n",
    "![untitled notebook](images/ipynb-untitled.png)\n",
    "\n",
    "You can change the name of the notebook by clicking on the title field\n",
    "and entering a new name:\n",
    "\n",
    "![change notebook name](images/ipynb-namefield.png)\n",
    "\n",
    "You should test specific features out in your new notebook. Specifically,\n",
    "try out Magics (you probably have `AutoMagic` enabled, so you might not\n",
    "need to prefix line magics with `%`). Also, you should try out Markdown\n",
    "and LaTeX formulae.\n",
    "\n",
    "![Test notebook features](images/ipynb-test.png)\n",
    "\n",
    "-----\n",
    "\n",
    "<font color='red'>Warning: Any file uploaded to or created on the JupyterHub Server running is not automatically archived.</font> \n",
    "\n",
    "-----\n",
    "\n",
    "If you want to save your work, you will need to click on the `Download as` menu item:\n",
    "\n",
    "![ipython notebook server download](images/ipynb-download.png)\n",
    "\n",
    "-----"
   ]
  },
  {
   "cell_type": "markdown",
   "metadata": {},
   "source": [
    "-----\n",
    "\n",
    "## Coding in IPython Notebooks\n",
    "\n",
    "In this second assignment, you should add Python code into your running\n",
    "IPython Notebook. this session, you should learn to edit and run Python\n",
    "code in an IPython notebook by using the course JupyterHub  server.\n",
    "\n",
    "First, try entering some simple math in the new Notebook you created in\n",
    "the first assignment in this breakout. The Notebook can be used as a\n",
    "simple calculator, or you can enter more complex codes, including Python\n",
    "code you might find online.\n",
    "\n",
    "Second, open up a the Introduction to Python Notebook and try running\n",
    "the Python codes in this existing Notebook. You can execute a cell either\n",
    "by selecting the cell and clicking the _right triangle button in the\n",
    "IPython toolbar, or by selecting the cell of interest and entering\n",
    "_shift+enter_ to execute the current cell and advance to the next cell\n",
    "or _control-enter_ to execute the current cell without advancing to the\n",
    "next cell. Fel free to make changes to the Notebook and see what happens.\n",
    "\n",
    "-----"
   ]
  },
  {
   "cell_type": "markdown",
   "metadata": {},
   "source": [
    "-----\n",
    "## Exploring Fundamental Python Concepts\n",
    "\n",
    "In this third assignment, you should learn to work with the Python list,\n",
    "dictionary, string, and tuple data structures, conditional statements,\n",
    "iterative loops, and comprehensions. You can do this by entering and\n",
    "running Python code in an IPython notebook by using the course\n",
    "JupyterHub server.\n",
    "\n",
    "\n",
    "-----"
   ]
  },
  {
   "cell_type": "markdown",
   "metadata": {},
   "source": [
    "## Writing Python Programs in an IPython Notebook\n",
    "\n",
    "In this last assignment, you should write aa simple Python program in a\n",
    "single cell in an IPython Notebook, save the code to a file by using the\n",
    "appropriate %writefile magic, and change to a JupyterHub terminal to\n",
    "execute the code at the Unix command line. See if you can change the mode of\n",
    "the file to make it directly executable.\n",
    "\n",
    "-----"
   ]
  },
  {
   "cell_type": "markdown",
   "metadata": {},
   "source": [
    "### Return to the [Course Index](index.ipynb) page.\n",
    "\n",
    "-----"
   ]
  }
 ],
 "metadata": {
  "kernelspec": {
   "display_name": "Python 3",
   "language": "python",
   "name": "python3"
  },
  "language_info": {
   "codemirror_mode": {
    "name": "ipython",
    "version": 3
   },
   "file_extension": ".py",
   "mimetype": "text/x-python",
   "name": "python",
   "nbconvert_exporter": "python",
   "pygments_lexer": "ipython3",
   "version": "3.4.0"
  }
 },
 "nbformat": 4,
 "nbformat_minor": 0
}
