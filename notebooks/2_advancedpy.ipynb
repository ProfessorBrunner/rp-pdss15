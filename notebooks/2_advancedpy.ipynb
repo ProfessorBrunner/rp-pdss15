{
 "metadata": {
  "name": "",
  "signature": "sha256:71d9fe30cf6c74054858df47b80fd3f9967239a3669fe27ee87c60366ff925c1"
 },
 "nbformat": 3,
 "nbformat_minor": 0,
 "worksheets": [
  {
   "cells": [
    {
     "cell_type": "markdown",
     "metadata": {},
     "source": [
      "<DIV ALIGN=CENTER>\n",
      "\n",
      "# Advanced Python Concepts\n",
      "## Professor Robert J. Brunner\n",
      "  \n",
      "</DIV>  \n",
      "-----\n",
      "-----"
     ]
    },
    {
     "cell_type": "markdown",
     "metadata": {},
     "source": [
      "## Introduction \n",
      "\n",
      "In this lesson, we build on the foundation provided by the previous two\n",
      "Python lessons to introduce file input/output, using external packages\n",
      "to include new functionality, and to create and apply user-defined\n",
      "functions. When complete, you will be able to read and write Python\n",
      "programs, which we will demonstrate by writing a Python program that we\n",
      "will execute at the Unix command line.\n",
      "\n",
      "-----"
     ]
    },
    {
     "cell_type": "markdown",
     "metadata": {},
     "source": [
      "## Working with files\n",
      "\n",
      "When working with files, or any other system object, we must be careful\n",
      "about properly managing the underlying resource. In this particular\n",
      "case, that means a file and the associated file descriptor that the host\n",
      "operating system uses to reference the actual file. While modern\n",
      "operating systems can typically manage a very large number of file\n",
      "descriptors, when we use virtualization, like with a Docker container,\n",
      "we want to minimize our server footprint. Thus, we need to carefully\n",
      "husband resources like file descriptors to avoid exhausting our server\n",
      "resources.\n",
      "\n",
      "But a more important aspect is that whenever we open a file, we want to\n",
      "be sure that the file is properly closed, and that any data that a\n",
      "program wrote to the file has actually been written to permanent\n",
      "storage. Thus we need to ensure that every file that was opened has\n",
      "been properly closed. To open a file, Python has an `open` method that\n",
      "opens the named file and returns a file object that you either read from\n",
      "or write to depending on the mode used to open the file. Conversely,\n",
      "Python also has a `close` method that closes the file object. \n",
      "\n",
      "To explicitly state why a file is being opened, the `open` method\n",
      "accepts a _mode_ argument, whose default values is `rt` or _open for\n",
      "reading text data_. The allowed modes are detailed in the following\n",
      "table.\n",
      "\n",
      "| Mode | Description |\n",
      "| ---- | ----- |\n",
      "| 'r'  | reading (default) | \n",
      "| 'w'  | writing, truncate file first |\n",
      "| 'x'  | create and open file for writing |\n",
      "| 'a'  | writing, append to file if exists |\n",
      "| 'b'  | binary mode |\n",
      "| 't'  | text mode (default) |\n",
      "| '+'  | open for reading and writing |\n",
      "\n",
      "Normally, and especially for the purposes of this class, we will only\n",
      "read from a text file or write to a text file when using traditional\n",
      "Python file input and output. Thus, to open a text file named `test.txt`\n",
      "for writing without truncating the existing file contents (i.e.,\n",
      "append), you would use `f = open('test.txt', 'a')` and after all\n",
      "operations on the file are complete, you would use `f.close()` to close\n",
      "the file and release all associated resources. One last item, when\n",
      "opening a file for reading and writing, the `+` mode follows either a\n",
      "`w` to open the file but truncate the file contents, or an `r` to open\n",
      "the file without truncation.\n",
      "\n",
      "In Python3, the approach to file input/output has changed with the\n",
      "introduction of the runtime\n",
      "[context](https://docs.python.org/3/reference/datamodel.html?highlight=\n",
      "context%20manager#with-statement-context-managers), which is a way to\n",
      "enforce what should happen when a code block is entered and exited. The\n",
      "_context_ is created by using the `with` command in Python, where the\n",
      "rest of the line following the `with` command creates the actual context\n",
      "manages the entry into and exit from the enclosed code block. For our\n",
      "purposes, the standard application for a Python context is opening an\n",
      "closing files. As demonstrated in the following code block, we can now\n",
      "open a file, perform operatons on the file, and no longer worry about\n",
      "closing the file, which is now taken care of automatically by the\n",
      "context.\n",
      "\n",
      "```\n",
      "with open('temp.txt', 'a') as fout:\n",
      "    fout.write(data)\n",
      "```\n",
      "-----"
     ]
    },
    {
     "cell_type": "code",
     "collapsed": false,
     "input": [
      "# File writing demonstration\n",
      "\n",
      "# We explicitly place a newline at the end of each string\n",
      "with open('temp.txt', 'w') as fout:\n",
      "    fout.write(\"Hello World!\\n\")\n",
      "    fout.write(\"Goodbye World!\\n\")"
     ],
     "language": "python",
     "metadata": {},
     "outputs": [],
     "prompt_number": 1
    },
    {
     "cell_type": "code",
     "collapsed": false,
     "input": [
      "!cat temp.txt"
     ],
     "language": "python",
     "metadata": {},
     "outputs": [
      {
       "output_type": "stream",
       "stream": "stdout",
       "text": [
        "Hello World!\r\n",
        "Goodbye World!\r\n"
       ]
      }
     ],
     "prompt_number": 2
    },
    {
     "cell_type": "markdown",
     "metadata": {},
     "source": [
      "----- \n",
      "\n",
      "To read data with Python3, we simply open the file (in a context). By\n",
      "default, for a text file, we simply iterate though the file object,\n",
      "which returns each line of the text file as a Python string.\n",
      "\n",
      "```\n",
      "with open('temp'txt', 'r') as fin:\n",
      "    for line in fin:\n",
      "        print(line)\n",
      "```\n",
      "\n",
      "The `open` method also takes an `encoding` attribute that can be used to\n",
      "specify the character encoding used in the file. For example, the\n",
      "airline data we have used previously has a character encoding of\n",
      "`latin-1`. Originally, the only character encoding used by computers was\n",
      "the ASCII encoding, which only required 8-bits to represent each\n",
      "character. This encoding only represented the standard  american\n",
      "typewriter characters, and thus failed to work for non-english languages\n",
      "or words. To support character encodings for any language, the [Unicode\n",
      "consortium](http://www.unicode.org) was formed and standardized\n",
      "character encoding have subsequently been developed. One of the most\n",
      "popular current character encodings is `utf-8`, which is a unicode\n",
      "standard.\n",
      "\n",
      "In the following set of code bocks, we first grab the airline data,\n",
      "uncompress it, grab out the first one thousand lines for simplicity, and\n",
      "use a small Python program to read the lines from this file and display\n",
      "what airline flights left the Baltimore airport (code: BWI).\n",
      "\n",
      "-----"
     ]
    },
    {
     "cell_type": "code",
     "collapsed": false,
     "input": [
      "# First we will grab the data of interest\n",
      "!wget http://stat-computing.org/dataexpo/2009/2001.csv.bz2"
     ],
     "language": "python",
     "metadata": {},
     "outputs": [
      {
       "output_type": "stream",
       "stream": "stdout",
       "text": [
        "--2015-02-17 22:36:47--  http://stat-computing.org/dataexpo/2009/2001.csv.bz2\r\n",
        "Resolving stat-computing.org (stat-computing.org)... "
       ]
      },
      {
       "output_type": "stream",
       "stream": "stdout",
       "text": [
        "54.231.162.99\r\n",
        "Connecting to stat-computing.org (stat-computing.org)|54.231.162.99|:80... connected.\r\n",
        "HTTP request sent, awaiting response... "
       ]
      },
      {
       "output_type": "stream",
       "stream": "stdout",
       "text": [
        "200 OK\r\n",
        "Length: 83478700 (80M) [application/x-bzip2]\r\n",
        "Saving to: \u20182001.csv.bz2\u2019\r\n",
        "\r\n",
        "\r",
        " 0% [                                       ] 0           --.-K/s              "
       ]
      },
      {
       "output_type": "stream",
       "stream": "stdout",
       "text": [
        "\r",
        " 0% [                                       ] 106,471      455KB/s             "
       ]
      },
      {
       "output_type": "stream",
       "stream": "stdout",
       "text": [
        "\r",
        " 0% [                                       ] 326,931      698KB/s             "
       ]
      },
      {
       "output_type": "stream",
       "stream": "stdout",
       "text": [
        "\r",
        " 0% [                                       ] 821,871     1.14MB/s             "
       ]
      },
      {
       "output_type": "stream",
       "stream": "stdout",
       "text": [
        "\r",
        " 1% [                                       ] 1,540,191   1.65MB/s             "
       ]
      },
      {
       "output_type": "stream",
       "stream": "stdout",
       "text": [
        "\r",
        " 2% [>                                      ] 2,222,011   1.94MB/s             "
       ]
      },
      {
       "output_type": "stream",
       "stream": "stdout",
       "text": [
        "\r",
        " 3% [>                                      ] 3,267,883   2.39MB/s             "
       ]
      },
      {
       "output_type": "stream",
       "stream": "stdout",
       "text": [
        "\r",
        " 5% [=>                                     ] 4,413,471   2.80MB/s             "
       ]
      },
      {
       "output_type": "stream",
       "stream": "stdout",
       "text": [
        "\r",
        " 7% [=>                                     ] 5,869,223   3.27MB/s             "
       ]
      },
      {
       "output_type": "stream",
       "stream": "stdout",
       "text": [
        "\r",
        " 9% [==>                                    ] 7,523,351   3.75MB/s             "
       ]
      },
      {
       "output_type": "stream",
       "stream": "stdout",
       "text": [
        "\r",
        "11% [===>                                   ] 9,385,283   4.22MB/s             "
       ]
      },
      {
       "output_type": "stream",
       "stream": "stdout",
       "text": [
        "\r",
        "13% [====>                                  ] 11,461,983  4.69MB/s             "
       ]
      },
      {
       "output_type": "stream",
       "stream": "stdout",
       "text": [
        "\r",
        "15% [=====>                                 ] 13,336,595  5.02MB/s             "
       ]
      },
      {
       "output_type": "stream",
       "stream": "stdout",
       "text": [
        "\r",
        "18% [======>                                ] 15,105,635  5.27MB/s             "
       ]
      },
      {
       "output_type": "stream",
       "stream": "stdout",
       "text": [
        "\r",
        "19% [======>                                ] 15,891,423  5.12MB/s             "
       ]
      },
      {
       "output_type": "stream",
       "stream": "stdout",
       "text": [
        "\r",
        "19% [======>                                ] 16,381,983  4.89MB/s  eta 13s    "
       ]
      },
      {
       "output_type": "stream",
       "stream": "stdout",
       "text": [
        "\r",
        "20% [======>                                ] 17,057,071  4.98MB/s  eta 13s    "
       ]
      },
      {
       "output_type": "stream",
       "stream": "stdout",
       "text": [
        "\r",
        "21% [=======>                               ] 17,931,611  5.10MB/s  eta 13s    "
       ]
      },
      {
       "output_type": "stream",
       "stream": "stdout",
       "text": [
        "\r",
        "22% [=======>                               ] 18,975,643  5.29MB/s  eta 13s    "
       ]
      },
      {
       "output_type": "stream",
       "stream": "stdout",
       "text": [
        "\r",
        "24% [========>                              ] 20,128,343  5.45MB/s  eta 13s    "
       ]
      },
      {
       "output_type": "stream",
       "stream": "stdout",
       "text": [
        "\r",
        "25% [=========>                             ] 21,536,723  5.76MB/s  eta 12s    "
       ]
      },
      {
       "output_type": "stream",
       "stream": "stdout",
       "text": [
        "\r",
        "27% [=========>                             ] 23,227,923  5.97MB/s  eta 12s    "
       ]
      },
      {
       "output_type": "stream",
       "stream": "stdout",
       "text": [
        "\r",
        "29% [==========>                            ] 25,014,723  6.16MB/s  eta 12s    "
       ]
      },
      {
       "output_type": "stream",
       "stream": "stdout",
       "text": [
        "\r",
        "32% [===========>                           ] 27,039,643  6.35MB/s  eta 12s    "
       ]
      },
      {
       "output_type": "stream",
       "stream": "stdout",
       "text": [
        "\r",
        "34% [============>                          ] 29,166,119  6.54MB/s  eta 12s    "
       ]
      },
      {
       "output_type": "stream",
       "stream": "stdout",
       "text": [
        "\r",
        "36% [=============>                         ] 30,505,131  6.22MB/s  eta 9s     "
       ]
      },
      {
       "output_type": "stream",
       "stream": "stdout",
       "text": [
        "\r",
        "37% [=============>                         ] 30,991,311  5.78MB/s  eta 9s     "
       ]
      },
      {
       "output_type": "stream",
       "stream": "stdout",
       "text": [
        "\r",
        "37% [=============>                         ] 31,702,843  5.48MB/s  eta 9s     "
       ]
      },
      {
       "output_type": "stream",
       "stream": "stdout",
       "text": [
        "\r",
        "38% [==============>                        ] 32,509,043  5.20MB/s  eta 9s     "
       ]
      },
      {
       "output_type": "stream",
       "stream": "stdout",
       "text": [
        "\r",
        "40% [==============>                        ] 33,640,543  5.19MB/s  eta 9s     "
       ]
      },
      {
       "output_type": "stream",
       "stream": "stdout",
       "text": [
        "\r",
        "41% [===============>                       ] 34,846,503  5.41MB/s  eta 9s     "
       ]
      },
      {
       "output_type": "stream",
       "stream": "stdout",
       "text": [
        "\r",
        "43% [===============>                       ] 36,304,175  5.66MB/s  eta 9s     "
       ]
      },
      {
       "output_type": "stream",
       "stream": "stdout",
       "text": [
        "\r",
        "45% [================>                      ] 38,059,143  5.95MB/s  eta 9s     "
       ]
      },
      {
       "output_type": "stream",
       "stream": "stdout",
       "text": [
        "\r",
        "47% [=================>                     ] 40,061,563  6.39MB/s  eta 9s     "
       ]
      },
      {
       "output_type": "stream",
       "stream": "stdout",
       "text": [
        "\r",
        "50% [==================>                    ] 41,947,203  6.61MB/s  eta 9s     "
       ]
      },
      {
       "output_type": "stream",
       "stream": "stdout",
       "text": [
        "\r",
        "52% [===================>                   ] 43,903,527  6.79MB/s  eta 7s     "
       ]
      },
      {
       "output_type": "stream",
       "stream": "stdout",
       "text": [
        "\r",
        "53% [===================>                   ] 44,761,931  6.58MB/s  eta 7s     "
       ]
      },
      {
       "output_type": "stream",
       "stream": "stdout",
       "text": [
        "\r",
        "53% [===================>                   ] 44,823,251  6.04MB/s  eta 7s     "
       ]
      },
      {
       "output_type": "stream",
       "stream": "stdout",
       "text": [
        "\r",
        "53% [===================>                   ] 44,890,411  5.52MB/s  eta 7s     "
       ]
      },
      {
       "output_type": "stream",
       "stream": "stdout",
       "text": [
        "\r",
        "53% [====================>                  ] 44,980,931  4.80MB/s  eta 7s     "
       ]
      },
      {
       "output_type": "stream",
       "stream": "stdout",
       "text": [
        "\r",
        "54% [====================>                  ] 45,203,743  4.33MB/s  eta 7s     "
       ]
      },
      {
       "output_type": "stream",
       "stream": "stdout",
       "text": [
        "\r",
        "54% [====================>                  ] 45,524,051  4.18MB/s  eta 7s     "
       ]
      },
      {
       "output_type": "stream",
       "stream": "stdout",
       "text": [
        "\r",
        "55% [====================>                  ] 45,951,831  4.20MB/s  eta 7s     "
       ]
      },
      {
       "output_type": "stream",
       "stream": "stdout",
       "text": [
        "\r",
        "55% [====================>                  ] 46,518,311  4.11MB/s  eta 7s     "
       ]
      },
      {
       "output_type": "stream",
       "stream": "stdout",
       "text": [
        "\r",
        "56% [=====================>                 ] 47,246,283  4.01MB/s  eta 7s     "
       ]
      },
      {
       "output_type": "stream",
       "stream": "stdout",
       "text": [
        "\r",
        "57% [=====================>                 ] 48,204,043  3.91MB/s  eta 7s     "
       ]
      },
      {
       "output_type": "stream",
       "stream": "stdout",
       "text": [
        "\r",
        "58% [=====================>                 ] 49,133,171  3.80MB/s  eta 7s     "
       ]
      },
      {
       "output_type": "stream",
       "stream": "stdout",
       "text": [
        "\r",
        "60% [======================>                ] 50,446,603  3.79MB/s  eta 7s     "
       ]
      },
      {
       "output_type": "stream",
       "stream": "stdout",
       "text": [
        "\r",
        "62% [=======================>               ] 51,855,443  3.51MB/s  eta 7s     "
       ]
      },
      {
       "output_type": "stream",
       "stream": "stdout",
       "text": [
        "\r",
        "64% [========================>              ] 53,566,943  3.49MB/s  eta 7s     "
       ]
      },
      {
       "output_type": "stream",
       "stream": "stdout",
       "text": [
        "\r",
        "66% [========================>              ] 55,503,103  3.59MB/s  eta 5s     "
       ]
      },
      {
       "output_type": "stream",
       "stream": "stdout",
       "text": [
        "\r",
        "68% [=========================>             ] 57,418,547  3.69MB/s  eta 5s     "
       ]
      },
      {
       "output_type": "stream",
       "stream": "stdout",
       "text": [
        "\r",
        "71% [==========================>            ] 59,358,963  4.20MB/s  eta 5s     "
       ]
      },
      {
       "output_type": "stream",
       "stream": "stdout",
       "text": [
        "\r",
        "71% [==========================>            ] 59,734,231  4.25MB/s  eta 5s     "
       ]
      },
      {
       "output_type": "stream",
       "stream": "stdout",
       "text": [
        "\r",
        "71% [==========================>            ] 59,785,331  4.38MB/s  eta 5s     "
       ]
      },
      {
       "output_type": "stream",
       "stream": "stdout",
       "text": [
        "\r",
        "71% [==========================>            ] 59,846,651  4.28MB/s  eta 5s     "
       ]
      },
      {
       "output_type": "stream",
       "stream": "stdout",
       "text": [
        "\r",
        "71% [==========================>            ] 59,915,271  4.16MB/s  eta 5s     "
       ]
      },
      {
       "output_type": "stream",
       "stream": "stdout",
       "text": [
        "\r",
        "71% [===========================>           ] 60,030,611  4.17MB/s  eta 5s     "
       ]
      },
      {
       "output_type": "stream",
       "stream": "stdout",
       "text": [
        "\r",
        "72% [===========================>           ] 60,299,251  4.06MB/s  eta 5s     "
       ]
      },
      {
       "output_type": "stream",
       "stream": "stdout",
       "text": [
        "\r",
        "72% [===========================>           ] 60,666,603  3.95MB/s  eta 5s     "
       ]
      },
      {
       "output_type": "stream",
       "stream": "stdout",
       "text": [
        "\r",
        "73% [===========================>           ] 61,147,511  3.83MB/s  eta 5s     "
       ]
      },
      {
       "output_type": "stream",
       "stream": "stdout",
       "text": [
        "\r",
        "74% [===========================>           ] 61,782,043  3.72MB/s  eta 5s     "
       ]
      },
      {
       "output_type": "stream",
       "stream": "stdout",
       "text": [
        "\r",
        "74% [============================>          ] 62,575,523  3.62MB/s  eta 5s     "
       ]
      },
      {
       "output_type": "stream",
       "stream": "stdout",
       "text": [
        "\r",
        "75% [============================>          ] 63,377,823  3.53MB/s  eta 5s     "
       ]
      },
      {
       "output_type": "stream",
       "stream": "stdout",
       "text": [
        "\r",
        "77% [=============================>         ] 64,582,643  3.31MB/s  eta 5s     "
       ]
      },
      {
       "output_type": "stream",
       "stream": "stdout",
       "text": [
        "\r",
        "78% [=============================>         ] 65,842,303  3.21MB/s  eta 4s     "
       ]
      },
      {
       "output_type": "stream",
       "stream": "stdout",
       "text": [
        "\r",
        "80% [==============================>        ] 67,335,323  3.21MB/s  eta 4s     "
       ]
      },
      {
       "output_type": "stream",
       "stream": "stdout",
       "text": [
        "\r",
        "82% [===============================>       ] 69,192,943  2.98MB/s  eta 4s     "
       ]
      },
      {
       "output_type": "stream",
       "stream": "stdout",
       "text": [
        "\r",
        "85% [================================>      ] 71,175,383  3.23MB/s  eta 4s     "
       ]
      },
      {
       "output_type": "stream",
       "stream": "stdout",
       "text": [
        "\r",
        "87% [=================================>     ] 73,030,923  3.71MB/s  eta 4s     "
       ]
      },
      {
       "output_type": "stream",
       "stream": "stdout",
       "text": [
        "\r",
        "89% [=================================>     ] 74,621,283  4.31MB/s  eta 2s     "
       ]
      },
      {
       "output_type": "stream",
       "stream": "stdout",
       "text": [
        "\r",
        "90% [==================================>    ] 75,259,871  4.40MB/s  eta 2s     "
       ]
      },
      {
       "output_type": "stream",
       "stream": "stdout",
       "text": [
        "\r",
        "90% [==================================>    ] 75,309,511  4.32MB/s  eta 2s     "
       ]
      },
      {
       "output_type": "stream",
       "stream": "stdout",
       "text": [
        "\r",
        "90% [==================================>    ] 75,364,991  4.40MB/s  eta 2s     "
       ]
      },
      {
       "output_type": "stream",
       "stream": "stdout",
       "text": [
        "\r",
        "90% [==================================>    ] 75,437,991  4.28MB/s  eta 2s     "
       ]
      },
      {
       "output_type": "stream",
       "stream": "stdout",
       "text": [
        "\r",
        "90% [==================================>    ] 75,524,131  4.15MB/s  eta 2s     "
       ]
      },
      {
       "output_type": "stream",
       "stream": "stdout",
       "text": [
        "\r",
        "90% [==================================>    ] 75,740,211  4.11MB/s  eta 2s     "
       ]
      },
      {
       "output_type": "stream",
       "stream": "stdout",
       "text": [
        "\r",
        "91% [==================================>    ] 76,227,283  4.02MB/s  eta 2s     "
       ]
      },
      {
       "output_type": "stream",
       "stream": "stdout",
       "text": [
        "\r",
        "92% [==================================>    ] 76,898,883  3.96MB/s  eta 2s     "
       ]
      },
      {
       "output_type": "stream",
       "stream": "stdout",
       "text": [
        "\r",
        "93% [===================================>   ] 77,723,023  3.86MB/s  eta 2s     "
       ]
      },
      {
       "output_type": "stream",
       "stream": "stdout",
       "text": [
        "\r",
        "94% [===================================>   ] 78,623,143  3.77MB/s  eta 1s     "
       ]
      },
      {
       "output_type": "stream",
       "stream": "stdout",
       "text": [
        "\r",
        "95% [====================================>  ] 79,844,783  3.77MB/s  eta 1s     "
       ]
      },
      {
       "output_type": "stream",
       "stream": "stdout",
       "text": [
        "\r",
        "97% [====================================>  ] 81,159,483  3.73MB/s  eta 1s     "
       ]
      },
      {
       "output_type": "stream",
       "stream": "stdout",
       "text": [
        "\r",
        "99% [=====================================> ] 82,685,943  3.50MB/s  eta 1s     "
       ]
      },
      {
       "output_type": "stream",
       "stream": "stdout",
       "text": [
        "\r",
        "100%[======================================>] 83,478,700  3.63MB/s   in 18s    \r\n",
        "\r\n",
        "2015-02-17 22:37:06 (4.44 MB/s) - \u20182001.csv.bz2\u2019 saved [83478700/83478700]\r\n",
        "\r\n"
       ]
      }
     ],
     "prompt_number": 3
    },
    {
     "cell_type": "code",
     "collapsed": false,
     "input": [
      "# Now decompress\n",
      "!bzip2 -d 2001.csv.bz2"
     ],
     "language": "python",
     "metadata": {},
     "outputs": [],
     "prompt_number": 4
    },
    {
     "cell_type": "code",
     "collapsed": false,
     "input": [
      "# Now extract the first thousand lines to save time\n",
      "\n",
      "!head -1000 2001.csv > temp.csv"
     ],
     "language": "python",
     "metadata": {},
     "outputs": [],
     "prompt_number": 5
    },
    {
     "cell_type": "code",
     "collapsed": false,
     "input": [
      "# Now we can use Python to read in the file\n",
      "\n",
      "# Here is out formatted print string\n",
      "fString = \"Flight {0} departed from Baltimore on {1}/{2}/{3}\"\n",
      "\n",
      "# Now loop through the file. The encoding is latin-1, failure to \n",
      "# specify this encoding will cause problems\n",
      "\n",
      "with open('temp.csv', 'r', encoding='latin-1') as fin:\n",
      "    for line in fin:\n",
      "        cols = line.split(',')\n",
      "        if cols[16] == 'BWI':\n",
      "            print(fString.format(cols[9], cols[1], cols[2], cols[0]))"
     ],
     "language": "python",
     "metadata": {},
     "outputs": [
      {
       "output_type": "stream",
       "stream": "stdout",
       "text": [
        "Flight 375 departed from Baltimore on 1/17/2001\n",
        "Flight 375 departed from Baltimore on 1/18/2001\n",
        "Flight 375 departed from Baltimore on 1/19/2001\n",
        "Flight 375 departed from Baltimore on 1/20/2001\n",
        "Flight 375 departed from Baltimore on 1/21/2001\n",
        "Flight 375 departed from Baltimore on 1/22/2001\n",
        "Flight 375 departed from Baltimore on 1/23/2001\n",
        "Flight 375 departed from Baltimore on 1/24/2001\n",
        "Flight 375 departed from Baltimore on 1/25/2001\n",
        "Flight 375 departed from Baltimore on 1/26/2001\n",
        "Flight 375 departed from Baltimore on 1/27/2001\n",
        "Flight 375 departed from Baltimore on 1/28/2001\n",
        "Flight 375 departed from Baltimore on 1/29/2001\n",
        "Flight 375 departed from Baltimore on 1/30/2001\n",
        "Flight 375 departed from Baltimore on 1/31/2001\n"
       ]
      }
     ],
     "prompt_number": 6
    },
    {
     "cell_type": "markdown",
     "metadata": {},
     "source": [
      "-----\n",
      "## Python Packages\n",
      "\n",
      "As the Python language has become more popular, individuals and\n",
      "organizations have invested considerable time, energy, and effort in\n",
      "developing Python applications. Fortunately, the Python language\n",
      "supports encapsulating code into\n",
      "[modules](https://docs.python.org/3/tutorial/modules.html), which are\n",
      "essentially files containing Python definitions, for example functions,\n",
      "classes, or variables. A _module_ can be imported into another Python\n",
      "file, allowing the definitions to be reused. \n",
      "\n",
      "When one or modules are more widely used, they can be bundled together\n",
      "into a Python package, which can provide enhanced functionality. To\n",
      "import a package (or module) into another Python program, you use the\n",
      "`import` statement, which has the following forms:\n",
      "\n",
      "1. `import numpy`\n",
      "2. `import numpy as np`\n",
      "3. `from numpy import arange`\n",
      "4. `from numpy import *`\n",
      "\n",
      "The first form brings the entire contents of the numpy package into the\n",
      "current program, but leaves all items in the numpy namespace. Thus to\n",
      "refer to a particular definition, like `arange` one must use the\n",
      "`numpy` prefix, as in `numpy.arange()`. The second form is similar to\n",
      "the first, but the prefix has been shortened to `np`. The third form\n",
      "only imports the single, listed definition which is also brought into\n",
      "the current namespace and thus does not require any prefix. The last\n",
      "form brings the entire contents of the _numpy_ package into the current\n",
      "file and namespace. As a result, the chances for name collisions\n",
      "increases and thus the last form is strongly discouraged.\n",
      "\n",
      "Many popular packages have been included with the standard Python\n",
      "distributions and are known collectively as the Standar Library. Other\n",
      "packages are available from third parties, yet can be very useful in\n",
      "specific circumstances. The following table lists some of the more\n",
      "popular Python packages that are relevant for this course:\n",
      "\n",
      "| name | Description |\n",
      "| --- | --- |\n",
      "| [numpy][1] | Fast numerical arrays and matrices|\n",
      "| [scipy][2] | Comprehensive set of scientific and engineering functions|\n",
      "| [matplotlib][3] | Comprehensive plotting library|\n",
      "| [seaborn][4] | Better data plotting|\n",
      "| [pandas][5] | Data structures and simplifies data analysis tasks |\n",
      "| [csv][6] | Easily read and write CSV files |\n",
      "| [bzip2][7] | Supports compressing and decompressing by using bzip2 compression algorithm|\n",
      "| [scikit_learn][8] | Provides Machine Learning tools |\n",
      "\n",
      "In addition to these listed packages, many other packages exist. The\n",
      "official repository for public Python packages is PyPI, the [Python\n",
      "Package index][pypi], as shown below. These libraries can generally be\n",
      "installed with the Python package management tool known as [pip][pip].\n",
      "If you build `pip` with Python3, you can enforce Python3 package\n",
      "management only by using the `pip3` tool, which is the original `pip`\n",
      "tool that is configured by default to invoke Python3.\n",
      "\n",
      "-----\n",
      "\n",
      "[1]: http://www.numpy.org\n",
      "[2]: http://www.scipy.org/scipylib/index.html\n",
      "[3]: http://matplotlib.org\n",
      "[4]: http://web.stanford.edu/~mwaskom/software/seaborn/index.html\n",
      "[5]: http://pandas.pydata.org\n",
      "[6]: https://docs.python.org/3/library/csv.html\n",
      "[7]: https://docs.python.org/3/library/bz2.html\n",
      "[8]: http://scikit-learn.org/stable/index.html\n",
      "[pypi]: https://pypi.python.org/pypi\n",
      "[pip]: https://python-packaging-user-guide.readthedocs.org/en/latest/current.html"
     ]
    },
    {
     "cell_type": "code",
     "collapsed": false,
     "input": [
      "from IPython.display import HTML\n",
      "HTML('<iframe src=https://pypi.python.org/pypi width=800 height=400></iframe>')"
     ],
     "language": "python",
     "metadata": {},
     "outputs": [
      {
       "html": [
        "<iframe src=https://pypi.python.org/pypi width=800 height=400></iframe>"
       ],
       "metadata": {},
       "output_type": "pyout",
       "prompt_number": 7,
       "text": [
        "<IPython.core.display.HTML at 0x7f37ca118240>"
       ]
      }
     ],
     "prompt_number": 7
    },
    {
     "cell_type": "markdown",
     "metadata": {},
     "source": [
      "----\n",
      "\n",
      "\n",
      "A caveat, however, to blindly using libraries from PYPI or any other\n",
      "distribution mechanism is that while a particular library may simplify\n",
      "the development of a Python program, this same library may conversely\n",
      "complicate the distribution and maintenance of a Python program by\n",
      "introducing extra dependencies that are possibly out of the control of\n",
      "the developer. Thus, a judicious evaluation of the benefits and risks of\n",
      "using any Python package should be considered before their adoption. The\n",
      "Python packages listed previously, as well as other community-standard\n",
      "python packages are generally safe to adopt as they are well supported\n",
      "and widely available.\n",
      "\n",
      "The maintenance problem is usually not the result of the Python package\n",
      "itself, but with its dependencies. As an example, the popular\n",
      "[scipy](http://scipy.org) package requires external C and Fortran\n",
      "libraries that provide the actual implementation of basic linear algebra\n",
      "and special mathematical functions. To acquire these libraries for any\n",
      "given operating system and hardware platform can be difficult and might\n",
      "require compiling the original sources, further increasing any dependency\n",
      "issues that are not handled by `pip`.\n",
      "\n",
      "While ongoing efforts exist in the community to provide a solution to\n",
      "these dependency issues, the current recommended approach is to use the\n",
      "[Anaconda Python][AP] distribution from Continuum Analytics. Anaconda is\n",
      "freely available, and provides a complete Python installation along with\n",
      "a number of the more  popular Python packages, available for most\n",
      "operating systems. The Anaconda website is shown below.\n",
      "\n",
      "-----\n",
      "[AP]: https://store.continuum.io/cshop/anaconda/"
     ]
    },
    {
     "cell_type": "code",
     "collapsed": false,
     "input": [
      "HTML('<iframe src=https://store.continuum.io/cshop/anaconda/ width=800 height=400></iframe>')\n"
     ],
     "language": "python",
     "metadata": {},
     "outputs": [
      {
       "html": [
        "<iframe src=https://store.continuum.io/cshop/anaconda/ width=800 height=400></iframe>"
       ],
       "metadata": {},
       "output_type": "pyout",
       "prompt_number": 8,
       "text": [
        "<IPython.core.display.HTML at 0x7f37ca118278>"
       ]
      }
     ],
     "prompt_number": 8
    },
    {
     "cell_type": "code",
     "collapsed": false,
     "input": [
      "# Now we read from a CSV file using the CSV package\n",
      "\n",
      "import csv\n",
      "\n",
      "# Here is out formatted print string\n",
      "fString = \"Flight {0} departed from Baltimore on {1}/{2}/{3}\"\n",
      "\n",
      "# Now loop through the file. The encoding is latin-1, failure to \n",
      "# specify this encoding will cause problems\n",
      "\n",
      "with open('temp.csv', 'r', encoding = 'latin-1') as csvfile:\n",
      "    for row in csv.reader(csvfile):\n",
      "         if row[16] == 'BWI':\n",
      "            print(fString.format(row[9], row[1], row[2], row[0]))"
     ],
     "language": "python",
     "metadata": {},
     "outputs": [
      {
       "output_type": "stream",
       "stream": "stdout",
       "text": [
        "Flight 375 departed from Baltimore on 1/17/2001\n",
        "Flight 375 departed from Baltimore on 1/18/2001\n",
        "Flight 375 departed from Baltimore on 1/19/2001\n",
        "Flight 375 departed from Baltimore on 1/20/2001\n",
        "Flight 375 departed from Baltimore on 1/21/2001\n",
        "Flight 375 departed from Baltimore on 1/22/2001\n",
        "Flight 375 departed from Baltimore on 1/23/2001\n",
        "Flight 375 departed from Baltimore on 1/24/2001\n",
        "Flight 375 departed from Baltimore on 1/25/2001\n",
        "Flight 375 departed from Baltimore on 1/26/2001\n",
        "Flight 375 departed from Baltimore on 1/27/2001\n",
        "Flight 375 departed from Baltimore on 1/28/2001\n",
        "Flight 375 departed from Baltimore on 1/29/2001\n",
        "Flight 375 departed from Baltimore on 1/30/2001\n",
        "Flight 375 departed from Baltimore on 1/31/2001\n"
       ]
      }
     ],
     "prompt_number": 9
    },
    {
     "cell_type": "markdown",
     "metadata": {},
     "source": [
      "-----\n",
      "## Functions\n",
      "\n",
      "The Python language supports the creation and application of\n",
      "user-defined functions, which can simplify program development by\n",
      "promoting code reuse (in a similar manner as importing packages\n",
      "developed by others, but in this case you are the code provider and\n",
      "consumer). In Python, a function is actually an object, like everything\n",
      "else, and they can thus be created and passed dynamically like any other\n",
      "data type.\n",
      "\n",
      "A Python function is defined by using the `def` keyword, followed by the\n",
      "function name. After the function name are a set of matching parentheses\n",
      "that enclose the arguments to the function, and a colon character\n",
      "follows the closing parenthesis, which signifies the start of the code\n",
      "block that provides the function implementation and is known as the\n",
      "function body. As a simple example, the following function takes no\n",
      "arguments and simply prints a standard message:\n",
      "\n",
      "```\n",
      "def hello():\n",
      "    print(\"Hello World!\")\n",
      "```\n",
      "\n",
      "This function is called in a Python program by simply using its name\n",
      "followed by the parentheses, `hello()`, which will print out `Hello\n",
      "World!` to the display.\n",
      "\n",
      "### Doc Strings\n",
      "\n",
      "A standard practice is to employ a docstring comment immediately after\n",
      "the function definiton line to provide documentation for the function.\n",
      "The Python interpreter will by default use this docstring as the\n",
      "official function documentation, which typically is accessed by using\n",
      "the built-in `help()` function. This is demonstrated in the following\n",
      "two code blocks, where we define and call this function, and\n",
      "subsequently access the documentation.\n",
      "\n",
      "-----"
     ]
    },
    {
     "cell_type": "code",
     "collapsed": false,
     "input": [
      "def hello():\n",
      "    \"\"\"Display a welcome message to the user.\"\"\"\n",
      "    print(\"Hello World!\")\n",
      "\n",
      "hello()"
     ],
     "language": "python",
     "metadata": {},
     "outputs": [
      {
       "output_type": "stream",
       "stream": "stdout",
       "text": [
        "Hello World!\n"
       ]
      }
     ],
     "prompt_number": 10
    },
    {
     "cell_type": "code",
     "collapsed": false,
     "input": [
      "help(hello)"
     ],
     "language": "python",
     "metadata": {},
     "outputs": [
      {
       "output_type": "stream",
       "stream": "stdout",
       "text": [
        "Help on function hello in module __main__:\n",
        "\n",
        "hello()\n",
        "    Display a welcome message to the user.\n",
        "\n"
       ]
      }
     ],
     "prompt_number": 11
    },
    {
     "cell_type": "markdown",
     "metadata": {},
     "source": [
      "-----\n",
      "\n",
      "### Function Arguments\n",
      "\n",
      "A function can accept zero or more arguments by simply listing the\n",
      "argument names between the parentheses. These argument names are the\n",
      "names you use to access the values contained in these arguments within\n",
      "the function body. for example, we can modify the original `hello`\n",
      "function to take a `name` argument that is used when printing out a\n",
      "welcome message:\n",
      "\n",
      "```\n",
      "def hello(name):\n",
      "    \"\"\"Display a welcome message to the user.\"\"\"\n",
      "    print(\"Hello {0}\".format(name))\n",
      "```\n",
      "\n",
      "When called with an argument `Alexander`, this function will print\n",
      "`Hello Alexander`. Functions can take multiple arguments, they are\n",
      "simply separated by commas, and they can take data structures as\n",
      "arguments, like lists or tuples.\n",
      "\n",
      "```\n",
      "def hellolist(names, text):\n",
      "    \"\"\"\n",
      "    Display a welcome message to the user(s) listed in the names, \n",
      "    which is assumed to be a list. \n",
      "    \n",
      "    \"\"\"\n",
      "\n",
      "    for name in names:\n",
      "        print(\"Hello {0}, {1}\".format(name, text))\n",
      "```\n",
      "\n",
      "If this function is called as \n",
      "`hellolist(['Alex', 'Joe', 'Jane'], \"welcome to class.\")`, \n",
      "the following output is displayed:\n",
      "\n",
      "```\n",
      "Hello Alex, welcome to class.\n",
      "Hello Joe, welcome to class.\n",
      "Hello Jane, welcome to class.\n",
      "```\n",
      "\n",
      "In some cases, a function accepts one or more arguments that often have\n",
      "_defualt_ values. Python supports default arguments that enable a Python\n",
      "programmer to specify a default value for an argument, which can be\n",
      "overridden if the user supplies a specific value. A default argument is\n",
      "specified by simply including an equal sign and the default value after\n",
      "a specific argument, like `text = ' welcome to class.'`. With this\n",
      "default argument for the `hellolist` function, we could leave off the\n",
      "second argument if desired.\n",
      "\n",
      "Default arguments are often used in functions that are part of large\n",
      "packages, like `numpy` or `matplotlib` to simplify their use. New users\n",
      "can quickly call he functions, while advanced users can achieve more\n",
      "control of the function by specifying additional arguments explicitly.\n",
      "\n",
      "### Keyword Arguments\n",
      "\n",
      "One last aspect of function arguments is that when a function is called,\n",
      "the argument names listed in the function definition can be explicitly\n",
      "specified, along with the values they should take when the function is\n",
      "called. This type of function call is said to be using _keyword\n",
      "arguments_. When using keyword arguments, the order of the arguments\n",
      "listed in the function call is arbitrary and does not need to explicitly\n",
      "match the argument order listed in the function definition. For example,\n",
      "we could call the hellolist function:\n",
      "\n",
      "```\n",
      "hellolist(text=' welcome to class', names = ['Alex', 'Joe', 'Jane'])\n",
      "```\n",
      "\n",
      "\n",
      "### Returning Values\n",
      "\n",
      "A function can return values by using the `return` keyword. Single\n",
      "values are returned as the type of the value, while multiple values are\n",
      "returned as a tuple of values. These two cases are demonstrated in the\n",
      "following sample code:\n",
      "\n",
      "```\n",
      "def hello2():\n",
      "   return \"Hello World!\"\n",
      "\n",
      "def hello3(name):\n",
      "    return \"Hello, \", name\n",
      "```\n",
      "\n",
      "Calling the first function in this sample code as `msg = hello2()` will\n",
      "assign the string `Hello World!` to the `msg` variable, while calling\n",
      "the second of these functions as `msg = hello3()` will assign the tuple\n",
      "`('Hello', name)` to the `msg` variable. Note that for the `hello3`\n",
      "function, the argument is not required, as written, to be a string;\n",
      "therefore, the return tuple will have a string as the first element and\n",
      "the second element will be the same type as the argument `name`.\n",
      "\n",
      "Note, when returning multiple values as a tuple, we can either enclose\n",
      "the values in parentheses, or simply separate them with commas as shown\n",
      "in the example.\n",
      "\n",
      "### Lambda Functions\n",
      "\n",
      "Python also supports the ability to create unnamed functions, which are\n",
      "short functions that are defined and used in place. An unnamed function\n",
      "in Python is called a `lambda` function, and is defined by using the\n",
      "`lambda` keyword. lambda functions are often used in comprehensions or\n",
      "in function calls, when an argument expects a function. For example, we\n",
      "can create a `lambda` function that takes multiple arguments and assign\n",
      "to an arbitrary variable for later invocation:\n",
      "\n",
      "```\n",
      "f = lambda x, y: x**2 + y**3\n",
      "\n",
      "print(f(3, 4))\n",
      "\n",
      "73\n",
      "```\n",
      "\n",
      "We can use a lambda function to create a list comprehension, either\n",
      "implicitly with defined function like the previous example, or explicitly\n",
      "with an in-place `lambda` function. In either case, we can use the `map`\n",
      "function to apply the function to a range of input arguments.\n",
      "\n",
      "```\n",
      "[x for x in map(lambda x: (3*x**2 + 2*x + 4), range(-3,4))]\n",
      "```\n",
      "Will create the following list: \n",
      "\n",
      "    [25, 12, 5, 4, 9, 20, 37]\n",
      "\n",
      "-----"
     ]
    },
    {
     "cell_type": "markdown",
     "metadata": {},
     "source": [
      "## Writing a Python program\n",
      "\n",
      "While the majority of the Python code we will write in this course will\n",
      "be done within an IPython Notebook, you also can write Python programs\n",
      "that run at the Unix command line. This can be useful when a command\n",
      "needs to be repeatedly run, or when you want to share just a Python\n",
      "script or program with others. While you can write a Python program by\n",
      "using a development environment like [Spyder][sp], [emacs][em], or even\n",
      "[vim][vim], we will write a Python program within an IPython Notebook,\n",
      "write the program to a file, and run this file as a Unix command.\n",
      "\n",
      "First, we will use the `%%writefile` cell magic to write the contents of\n",
      "a cell to a file. The first two lines of a Python program that is\n",
      "designed to run at the Unix command prompt contain special data. The\n",
      "first line indicates how the program should be run, and by default, for\n",
      "a Python3 program, has the following form:\n",
      "\n",
      "    #!/usr/bin/env python3\n",
      "\n",
      "The second line, which is optional, specifies the character encoding\n",
      "used within the file, which enables your Python program to contain\n",
      "Unicode characters. In this case, you most likely would use the\n",
      "following character encoding, which is the default in Python 3:\n",
      "\n",
      "    # -*- coding: UTF-8 -*-\n",
      "\n",
      "After these two lines, you simply write legal Python statements as you\n",
      "would in an IPython Notebook code cell. We demonstrate this in the\n",
      "subsequent code block, where we create a simple Python \"Hello World!\"\n",
      "program.\n",
      "\n",
      "-----\n",
      "\n",
      "[sp]: https://code.google.com/p/spyderlib/\n",
      "[em]: https://www.gnu.org/software/emacs/\n",
      "[vim]: http://www.vim.org"
     ]
    },
    {
     "cell_type": "code",
     "collapsed": false,
     "input": [
      "%%writefile test.py\n",
      "#!/usr/bin/env python3\n",
      "# -*- coding: UTF-8 -*-\n",
      "\n",
      "print(\"Hello World!\")"
     ],
     "language": "python",
     "metadata": {},
     "outputs": [
      {
       "output_type": "stream",
       "stream": "stdout",
       "text": [
        "Writing test.py\n"
       ]
      }
     ],
     "prompt_number": 12
    },
    {
     "cell_type": "code",
     "collapsed": false,
     "input": [
      "!cat test.py"
     ],
     "language": "python",
     "metadata": {},
     "outputs": [
      {
       "output_type": "stream",
       "stream": "stdout",
       "text": [
        "#!/usr/bin/env python3\r\n",
        "# -*- coding: UTF-8 -*-\r\n",
        "\r\n",
        "print(\"Hello World!\")"
       ]
      }
     ],
     "prompt_number": 13
    },
    {
     "cell_type": "markdown",
     "metadata": {},
     "source": [
      "-----\n",
      "\n",
      "In the previous two code blocks, we first write out a simple Python\n",
      "program to the `test.py` file and then use the Unix `cat` command to\n",
      "display the contents of the file. In order to execute this program,\n",
      "however, we need to change the permission of the new file to enable\n",
      "execution. If you recall, we do this by calling the `chmnod` command to\n",
      "allow the user to execute the program with `u+x`. After this, you can\n",
      "run the program by specifying the path to the file, which we can\n",
      "shortcut with `./test.py` to specify that the file is located in the\n",
      "current directory. Alternatively, we can specify the full path, for\n",
      "example, in the course Docker container this would likely be\n",
      "`/notebooks/rp-pds15/Week3/test.py`. When in doubt, simply execute a\n",
      "`pwd` command and use the resulting full path info when running the\n",
      "program.\n",
      "\n",
      "-----"
     ]
    },
    {
     "cell_type": "code",
     "collapsed": false,
     "input": [
      "!chmod u+x test.py"
     ],
     "language": "python",
     "metadata": {},
     "outputs": [],
     "prompt_number": 14
    },
    {
     "cell_type": "code",
     "collapsed": false,
     "input": [
      "!./test.py"
     ],
     "language": "python",
     "metadata": {},
     "outputs": [
      {
       "output_type": "stream",
       "stream": "stdout",
       "text": [
        "Hello World!\r\n"
       ]
      }
     ],
     "prompt_number": 15
    },
    {
     "cell_type": "code",
     "collapsed": false,
     "input": [
      "# We assume the current directory is /notebooks as it would be inside our Docker container.\n",
      "\n",
      "!/notebooks/rp-pds15/Week4/test.py"
     ],
     "language": "python",
     "metadata": {},
     "outputs": [
      {
       "output_type": "stream",
       "stream": "stdout",
       "text": [
        "Hello World!\r\n"
       ]
      }
     ],
     "prompt_number": 16
    },
    {
     "cell_type": "markdown",
     "metadata": {},
     "source": [
      "-----\n",
      "## Writing a Module\n",
      "\n",
      "We can also develop our own Python modules to promote code reuse to\n",
      "minimize repetition and possible errors that can have their own\n",
      "variables, functions, and classes. In the following code block, we\n",
      "create a new module, which is a simple Python program file that is now\n",
      "designed to be imported into other Python programs and not executed. In\n",
      "this new file, we include a module `docstring`, a module variable, a\n",
      "module function, and a module class, in order to demonstrate how each of\n",
      "these can be created inside a module, and subsequently accessed and used\n",
      "by other Python programs.\n",
      "\n",
      "-----"
     ]
    },
    {
     "cell_type": "code",
     "collapsed": false,
     "input": [
      "%%writefile rppds.py\n",
      "\n",
      "# RP Practical Data Science Test Module\n",
      "# We include a module docstring\n",
      "\"\"\"\n",
      "This is a Test Module for the Research Park 2015 Practical Data Science course.\n",
      "This module contains some variables, functions, and a simple class soley for \n",
      "demonstration purposes.\n",
      "\"\"\"\n",
      "\n",
      "# module specific variables: \n",
      "\n",
      "year = 2015\n",
      "location = \"EnterpriseWorks\"\n",
      "\n",
      "# Module Functions\n",
      "# We include a docstring for the method\n",
      "\n",
      "def rp(name):\n",
      "    \"\"\"\n",
      "    This method welcome a student to the course. If a name is provided, the function\n",
      "    will specifically welcome the named student.\n",
      "    \"\"\"\n",
      "    \n",
      "    fmt = \"Welcome {0} to the RP Data Science course\"\n",
      "    return (fmt.format(name))\n",
      "\n",
      "# Module Classes\n",
      "# We include a docstring for the class.\n",
      "class student:\n",
      "    \"\"\"\n",
      "    This class represents a student in the RP Practical Data Science course.\n",
      "    \"\"\"\n",
      "    \n",
      "    def __init__(self, name, company = \"UI\"):\n",
      "        \"\"\"\n",
      "        Create and initialize a new student object.\n",
      "        \"\"\"\n",
      "        self.name = name\n",
      "        self.company = company\n",
      "        \n",
      "    def welcome(self):\n",
      "        \"\"\"\n",
      "        Create and return a class welcome message for this student.\n",
      "        \"\"\"\n",
      "        return rp(self.name)"
     ],
     "language": "python",
     "metadata": {},
     "outputs": [
      {
       "output_type": "stream",
       "stream": "stdout",
       "text": [
        "Writing rppds.py\n"
       ]
      }
     ],
     "prompt_number": 17
    },
    {
     "cell_type": "markdown",
     "metadata": {},
     "source": [
      "-----\n",
      "\n",
      "With the module file written, we can simply import the new module into a\n",
      "Python program, or in this case, an IPython Notebook code cell. Note\n",
      "that Python3 does not allow for reloading modules. So if you make\n",
      "changes to the module cell block and want to import the new version, you\n",
      "can either restart the IPython kernel or change the name of the file and\n",
      "the subsequent import.\n",
      "\n",
      "One technique to simplify this process during development is to use the\n",
      "`import xyz as abs` command, which insulates the actual module filename\n",
      "from the resulting code. If you change the module code above, simply\n",
      "change the name of the file that is written, for example to rppds2.py,\n",
      "and the following `import` statement should be changed to \n",
      "\n",
      "    import rppds2 as rp\n",
      "\n",
      "and the rest of the program will work seamlessly.\n",
      "\n",
      "-----"
     ]
    },
    {
     "cell_type": "code",
     "collapsed": false,
     "input": [
      "import rppds as rp\n",
      "\n",
      "test = rp.student(\"Alexander\")\n",
      "\n",
      "print(test.welcome())"
     ],
     "language": "python",
     "metadata": {},
     "outputs": [
      {
       "output_type": "stream",
       "stream": "stdout",
       "text": [
        "Welcome Alexander to the RP Data Science course\n"
       ]
      }
     ],
     "prompt_number": 18
    },
    {
     "cell_type": "markdown",
     "metadata": {},
     "source": [
      "-----\n",
      "\n",
      "When we created our new module, we created document strings for the\n",
      "module itself as wel for the new class and any defined functions. This\n",
      "information can be displayed interactively in the IPython Notebook, for\n",
      "example, enter `rp.` and hit tab in a code cell; or via the IPython\n",
      "Notebook help display, for example, enter `rp?` and execute the code\n",
      "cell; or most easily, simply use the built-in Python `help` method,\n",
      "passing in the module name, in this case we use our abbreviation `rp`.\n",
      "\n",
      "-----"
     ]
    },
    {
     "cell_type": "code",
     "collapsed": false,
     "input": [
      "help(rp)"
     ],
     "language": "python",
     "metadata": {},
     "outputs": [
      {
       "output_type": "stream",
       "stream": "stdout",
       "text": [
        "Help on module rppds:\n",
        "\n",
        "NAME\n",
        "    rppds\n",
        "\n",
        "DESCRIPTION\n",
        "    This is a Test Module for the Research Park 2015 Practical Data Science course.\n",
        "    This module contains some variables, functions, and a simple class soley for \n",
        "    demonstration purposes.\n",
        "\n",
        "CLASSES\n",
        "    builtins.object\n",
        "        student\n",
        "    \n",
        "    class student(builtins.object)\n",
        "     |  This class represents a student in the RP Practical Data Science course.\n",
        "     |  \n",
        "     |  Methods defined here:\n",
        "     |  \n",
        "     |  __init__(self, name, company='UI')\n",
        "     |      Create and initialize a new student object.\n",
        "     |  \n",
        "     |  welcome(self)\n",
        "     |      Create and return a class welcome message for this student.\n",
        "     |  \n",
        "     |  ----------------------------------------------------------------------\n",
        "     |  Data descriptors defined here:\n",
        "     |  \n",
        "     |  __dict__\n",
        "     |      dictionary for instance variables (if defined)\n",
        "     |  \n",
        "     |  __weakref__\n",
        "     |      list of weak references to the object (if defined)\n",
        "\n",
        "FUNCTIONS\n",
        "    rp(name)\n",
        "        This method welcome a student to the course. If a name is provided, the function\n",
        "        will specifically welcome the named student.\n",
        "\n",
        "DATA\n",
        "    location = 'EnterpriseWorks'\n",
        "    year = 2015\n",
        "\n",
        "FILE\n",
        "    /notebooks/rp-pds15/Week4/rppds.py\n",
        "\n",
        "\n"
       ]
      }
     ],
     "prompt_number": 19
    },
    {
     "cell_type": "code",
     "collapsed": false,
     "input": [
      "# Execute this code to see the IPython Notebook documentation\n",
      "rp?"
     ],
     "language": "python",
     "metadata": {},
     "outputs": [],
     "prompt_number": 20
    },
    {
     "cell_type": "markdown",
     "metadata": {},
     "source": [
      "-----\n",
      "## Additional Python Concepts\n",
      "\n",
      "In this course, we have insufficient time to fully explore the Python language. While we have covered the majority of the language, especially those aspects that are relevant to using Python for data science applications. For those interested in a more complete mastery of the Python language, the following list of topics are recomended for further study.\n",
      "\n",
      "- [Object-Oriented Programming](https://docs.python.org/3/tutorial/classes.html)\n",
      "- [Exception Handling](https://docs.python.org/3/library/exceptions.html)\n",
      "- [Regular Expressions](https://docs.python.org/3/library/re.html)\n",
      "\n",
      "-----\n"
     ]
    },
    {
     "cell_type": "markdown",
     "metadata": {},
     "source": [
      "## Breakout Session: Writing Python Programs in an IPython Notebook\n",
      "\n",
      "During this session, you should play with this notebook to learn how to read from a file and write  to a file, how to use Python libraries via the `import` statement, and how to create and run Python programs and Python modules.\n",
      "\n",
      "-----"
     ]
    },
    {
     "cell_type": "markdown",
     "metadata": {},
     "source": [
      "### Additional References\n",
      "\n",
      "1. [Dive into Python3](http://getpython3.com/diveintopython3/)\n",
      "\n",
      "-----"
     ]
    },
    {
     "cell_type": "markdown",
     "metadata": {},
     "source": [
      "### Return to the [Week 4 Index](index.ipynb).\n",
      "\n",
      "-----"
     ]
    }
   ],
   "metadata": {}
  }
 ]
}