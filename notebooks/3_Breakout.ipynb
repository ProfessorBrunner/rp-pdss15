{
 "cells": [
  {
   "cell_type": "markdown",
   "metadata": {},
   "source": [
    "<DIV ALIGN=CENTER>\n",
    "\n",
    "# Data Storage Breakout   \n",
    "## Professor Robert J. Brunner\n",
    "  \n",
    "</DIV>  \n",
    "-----\n",
    "-----"
   ]
  },
  {
   "cell_type": "markdown",
   "metadata": {
    "collapsed": true
   },
   "source": [
    "## Working with SQLite\n",
    "\n",
    "In this first assignment, you will make an use a sqlite3 database.\n",
    "First, open a new JupyterHub Server terminal. At the Unix prompt, enter\n",
    "`sqlite3 mydb` to create and connect a SQL interpreter to a new\n",
    "database. In this database, first create a new table by using a `CREATE\n",
    "TABLE` SQL command, and second, add a few rows by using an `INSERT INTO`\n",
    "SQL command. After this, trying issuing a `SELECT` command to retrieve\n",
    "rows from your new table. \n",
    "\n",
    "Refer to the [Introduction to Databases][1] and [Introduction to SQL][2]\n",
    "Noteboks for more information.\n",
    "\n",
    "-----\n",
    "[1]: 3_intro2db.ipynb\n",
    "[2]: 3_intro2sql.ipynb"
   ]
  },
  {
   "cell_type": "markdown",
   "metadata": {},
   "source": [
    "## Working with a SQLite database\n",
    "\n",
    "In this second assignment, you will work with the airline database in\n",
    "SQLite. If you haven't already done so, complete the Introduction to\n",
    "Databases][1] Notebook.\n",
    "\n",
    "Try to complete the following tasks:\n",
    "\n",
    "1. Make an index on the flights table for both the destination and the origin codes.\n",
    "2. Make an index on the airplanes table on the year.\n",
    "3. Compute the max, min, and count for a given column by using SQL \n",
    "\n",
    "Refer to the [Introduction to Databases][1] and [Introduction to SQL][2]\n",
    "Noteboks for more information.\n",
    "\n",
    "\n",
    "### Advanced Challenge:\n",
    "\n",
    "First, when we loaded the data into SQLite, we did not remove the header\n",
    "row. Build a delete statement for each table to remove the header row\n",
    "and verify your work.\n",
    "\n",
    "Second, try to make a join between the airports and flights table to\n",
    "list the flights that arrive or depart from a particular airport, like\n",
    "CMI.\n",
    "\n",
    "-----\n",
    "[1]: 3_intro2db.ipynb\n",
    "[2]: 3_intro2sql.ipynb"
   ]
  },
  {
   "cell_type": "markdown",
   "metadata": {},
   "source": [
    "## Database Programming\n",
    "\n",
    "In this third assignment, you will work with the airline database in\n",
    "SQLite, but now you will use the Python sqlite3 module. If you haven't\n",
    "already done so, complete the [Introduction to Databases][1] and\n",
    "[Introduction to SQL][2] Notebooks. Refer to the [Introduction to\n",
    "Database Programming][3] Notebook for more information.\n",
    "\n",
    "First, write a Python program that:\n",
    "\n",
    "1. Connects to the Airline database\n",
    "\n",
    "2. Queries the flights table and select only flights that depart or arrive\n",
    "at an Illinois airport.\n",
    "\n",
    "3. Counts the number of flights that arrive or depart from an Illinois\n",
    "airport, for each month.\n",
    "\n",
    "### Advanced Challenge:\n",
    "\n",
    "Try to write a Python program that will join the airports and flights\n",
    "table to list the flights that arrive or depart from a particular\n",
    "airport like CMI, or one of the other Central Illinois airports.\n",
    "\n",
    "-----\n",
    "[1]: 3_intro2db.ipynb\n",
    "[2]: 3_intro2sql.ipynb\n",
    "[3]: 3_dbNpy.ipynb"
   ]
  },
  {
   "cell_type": "markdown",
   "metadata": {},
   "source": [
    "## Data Formats\n",
    "\n",
    "In this assignment, you will learn to work with specific data file\n",
    "formats. You should first have complete the [Introduction to Data\n",
    "Formats][4] Notebook, which requires an airline database, which was\n",
    "built in the [Introduction to Database][1] Notebook.\n",
    "\n",
    "First, write a Python code that reads the fixed-width format data by\n",
    "using the known fields widths (determined in the [Introduction to Data\n",
    "Formats][4] Notebook).\n",
    "\n",
    "Second, write a Python code to read the delimiter separated value file\n",
    "and compute (and display) the maximum and minimum latitude and longitude\n",
    "values.\n",
    "\n",
    "### Advanced Challenge:\n",
    "\n",
    "Change the [Introduction to Data Formats][4] Notebook to use a join\n",
    "between the airport and flights tables to construct a more complex data\n",
    "set. Using this new dataset, repeat the code cells, changing the code\n",
    "appropriately to persist this new, more complex data set.\n",
    "\n",
    "-----\n",
    "[1]: 3_intro2db.ipynb\n",
    "[2]: 3_intro2sql.ipynb\n",
    "[3]: 3_dbNpy.ipynb\n",
    "[4]: 3_dataformats.ipynb"
   ]
  },
  {
   "cell_type": "markdown",
   "metadata": {},
   "source": [
    "### Return to the [Course Index](index.ipynb) page.\n",
    "\n",
    "-----"
   ]
  }
 ],
 "metadata": {
  "kernelspec": {
   "display_name": "Python 3",
   "language": "python",
   "name": "python3"
  },
  "language_info": {
   "codemirror_mode": {
    "name": "ipython",
    "version": 3
   },
   "file_extension": ".py",
   "mimetype": "text/x-python",
   "name": "python",
   "nbconvert_exporter": "python",
   "pygments_lexer": "ipython3",
   "version": "3.4.0"
  }
 },
 "nbformat": 4,
 "nbformat_minor": 0
}
