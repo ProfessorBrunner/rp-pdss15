{
 "cells": [
  {
   "cell_type": "markdown",
   "metadata": {},
   "source": [
    "<DIV ALIGN=CENTER>\n",
    "\n",
    "# Data Storage Breakout   \n",
    "## Professor Robert J. Brunner\n",
    "  \n",
    "</DIV>  \n",
    "-----\n",
    "-----"
   ]
  },
  {
   "cell_type": "markdown",
   "metadata": {
    "collapsed": true
   },
   "source": []
  },
  {
   "cell_type": "markdown",
   "metadata": {},
   "source": [
    "## Breakout Session: Working with SQLite\n",
    "\n",
    "During this session, you should work with the airline database in\n",
    "SQLite. If you haven't already done so, complete the Breakout Session\n",
    "tasks in the [Introduction to Data Persistence](intro2db.ipynb) Notebook.\n",
    "\n",
    "### Intermediate Challenge:\n",
    "\n",
    "\n",
    "Try to complete the following tasks:\n",
    "\n",
    "1. Make an index on the flights table for both the destination and the origin codes.\n",
    "2. Make an index on the airplanes table on the year.\n",
    "3. Compute the max, min, and count\n",
    "\n",
    "### Advanced Challenge:\n",
    "\n",
    "First, when we loaded the data into SQLite, we did not remove the header\n",
    "row. Build a delete statement for each table to remove the header row\n",
    "and verify your work.\n",
    "\n",
    "Second, try to make a join between the airports and flights table to\n",
    "list the flights that arrive or depart from CMI.\n",
    "\n",
    "-----"
   ]
  },
  {
   "cell_type": "markdown",
   "metadata": {},
   "source": [
    "## Breakout Session: Database Programming\n",
    "\n",
    "During this session, you should work with the airline database in\n",
    "SQLite, but use the Python sqlite3 module. If you haven't already done\n",
    "so, complete the Breakout Session tasks in the [Introduction to\n",
    "SQL](intro2sql.ipynb) Notebook.\n",
    "\n",
    "### Intermediate Challenge:\n",
    "\n",
    "\n",
    "Try to complete the following tasks:\n",
    "\n",
    "1. Connect to the Airline database\n",
    "\n",
    "2. Query the flights table and select only flights that depart or arrive\n",
    "at an Illinois airport.\n",
    "\n",
    "3. Count the number of flights that arrive or depart from an Illinois\n",
    "airport, for each month.\n",
    "\n",
    "### Advanced Challenge:\n",
    "\n",
    "First, query the airline database by using a Python program.\n",
    "\n",
    "Second, write a Python program to join the airports and flights table to\n",
    "list the flights that arrive or depart from one of several Central\n",
    "Illinois airports.\n",
    "\n",
    "-----"
   ]
  },
  {
   "cell_type": "markdown",
   "metadata": {},
   "source": [
    "## Breakout Session: Data Formats\n",
    "\n",
    "During this session, you should first try out the examples in this\n",
    "Notebook, which will require a running airport database, which was\n",
    "developed in the [Week 5 Introduction to SQL][w5sql] Notebook. \n",
    "\n",
    "### Intermediate Challenge:\n",
    "\n",
    "Write a parsing code to read the fixed-width format data by using the\n",
    "known field widths.\n",
    "\n",
    "### Advanced Challenge:\n",
    "\n",
    "Change the notebook to use a join between the airport and flights tables\n",
    "to construct a more complex data set. Using this new dataset, repeat the\n",
    "code cells, changing the code appropriately to persist this new, more\n",
    "complex data set.\n",
    "\n",
    "\n",
    "-----\n",
    "[w5sql]: ../Week5/intro2sql.ipynb"
   ]
  },
  {
   "cell_type": "markdown",
   "metadata": {},
   "source": [
    "## Breakout Session: Data Parsing\n",
    "\n",
    "During this session, you should first execute the code cells in this\n",
    "Notebook.\n",
    "\n",
    "### Intermediate Challenge:\n",
    "\n",
    "Modify the regular expression code cell to find at least three central\n",
    "Illinois airport elements.\n",
    "\n",
    "### Advanced Challenge:\n",
    "\n",
    "Use BeautifulSoup and Regular Expressions to find at least three central\n",
    "Illinois airports in the fixed width data file\n",
    "\n",
    "-----"
   ]
  },
  {
   "cell_type": "markdown",
   "metadata": {},
   "source": [
    "### Return to the [Course Index](index.ipynb) page.\n",
    "\n",
    "-----"
   ]
  }
 ],
 "metadata": {
  "kernelspec": {
   "display_name": "Python 3",
   "language": "python",
   "name": "python3"
  },
  "language_info": {
   "codemirror_mode": {
    "name": "ipython",
    "version": 3
   },
   "file_extension": ".py",
   "mimetype": "text/x-python",
   "name": "python",
   "nbconvert_exporter": "python",
   "pygments_lexer": "ipython3",
   "version": "3.4.0"
  }
 },
 "nbformat": 4,
 "nbformat_minor": 0
}
