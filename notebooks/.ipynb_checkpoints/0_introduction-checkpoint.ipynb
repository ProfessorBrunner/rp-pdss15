{
 "cells": [
  {
   "cell_type": "markdown",
   "metadata": {},
   "source": [
    "<DIV ALIGN=CENTER>\n",
    "\n",
    "# Practical Data Science\n",
    "## University of Illinois, Research Park\n",
    "## Robert J. Brunner\n",
    "## Spring 2015\n",
    "\n",
    "</DIV>  \n",
    "-----\n",
    "-----\n",
    "## Overview\n",
    "\n",
    "- ### Introduction\n",
    "- ### Course Overview\n",
    "- ### Introduction to Piazza\n",
    "- ### Week One Overview\n",
    "\n",
    "-----\n"
   ]
  },
  {
   "cell_type": "markdown",
   "metadata": {},
   "source": [
    "## Introduction\n",
    "\n",
    "### Professor[Robert J. Brunner](http://www.astro.illinois.edu/people/bigdog)  \n",
    "### University of Illinois  \n",
    "### ![University Picture of Professor Brunner](http://lcdm.astro.illinois.edu/images/bigdog.png)\n",
    "\n",
    "-----"
   ]
  },
  {
   "cell_type": "markdown",
   "metadata": {},
   "source": [
    "## Course Overview\n",
    "\n",
    "A Practical Introduction to Data Science, specifically focusing on the\n",
    "tools and techniques that are the foundation of more advanced techniques\n",
    "that scale to big data.\n",
    "\n",
    "All course material is freely available\n",
    "[online](https://github.com/ProfessorBrunner/rp-pds15). You will learn\n",
    "how to access the course material later in this lesson.\n",
    "\n",
    "-----\n",
    "\n",
    "### Policies\n",
    "\n",
    "#### Respect\n",
    "\n",
    "In this course, I expect you to be professional with the instructor,\n",
    "your fellow classmates, and the research park staff. \n",
    "\n",
    "#### Interactive\n",
    "\n",
    "I also expect this course to be interactive, you will learn best by\n",
    "doing. Thus, I will introduce concepts, techniques, or tools, and you\n",
    "will try them out in a breakout session. Thus it is important to\n",
    "complete any technology requirements ahead of time to the extent\n",
    "possible.\n",
    "\n",
    "#### Assignments\n",
    "\n",
    "To reinforce material, you will be given short assignments to work on\n",
    "during breakout sessions. You can work on this individually, or in\n",
    "pairs. You also can work on assignments after class, and use the Piazza\n",
    "to communicate with the rest of the class. Later in this lesson you will\n",
    "have a time to find prospective partners.\n",
    "\n",
    "#### Communication\n",
    "\n",
    "I will use the course Piazza to communicate with the full class outside\n",
    "of our normal meeting times. You also can post questions about the\n",
    "course content or about data science in general, and you should also\n",
    "feel free to add your answer or point of view to existing questions on\n",
    "the Piazza from other students.\n",
    "\n",
    "----"
   ]
  },
  {
   "cell_type": "markdown",
   "metadata": {},
   "source": [
    "## Big Data\n",
    "\n",
    "How do we define Big Data?\n",
    "\n",
    "-----\n"
   ]
  },
  {
   "cell_type": "code",
   "execution_count": 4,
   "metadata": {
    "collapsed": false
   },
   "outputs": [
    {
     "data": {
      "text/html": [
       "<iframe src=http://en.wikipedia.org/wiki/Big_data?useformat=mobile width=800 height=600></iframe>"
      ],
      "text/plain": [
       "<IPython.core.display.HTML at 0x10728f748>"
      ]
     },
     "execution_count": 4,
     "metadata": {},
     "output_type": "execute_result"
    }
   ],
   "source": [
    "from IPython.display import HTML\n",
    "HTML('<iframe src=http://en.wikipedia.org/wiki/Big_data?useformat=mobile width=800 height=600></iframe>')\n"
   ]
  },
  {
   "cell_type": "markdown",
   "metadata": {},
   "source": [
    "-----\n",
    "\n",
    "## Course Syllabus\n",
    "\n",
    "<font color = \"red\">\n",
    "Note: This is a __draft__ version that will be revised as we progress through the course.\n",
    "</font>\n",
    "\n",
    "### Orientation Week :  \n",
    " \n",
    "Install the [Docker Engine](Week0/Docker.md) and the Docker container\n",
    "built for this _Practical Data Science_ course. You also should visit\n",
    "the course Piazza.\n",
    "\n",
    "### Week 1: Data Science at the Command Line:  \n",
    " \n",
    "Use the Docker technology by working at the Unix command prompt within\n",
    "the course Docker container in interactive mode. This will focus on\n",
    "using Unix command line tools and techniques to work with data in the\n",
    "BASH shell\n",
    "\n",
    "### Week 2: Practical IPython:  \n",
    "\n",
    "Learn how to use the IPython notebook by using the course Docker\n",
    "container in server mode. Also learn basic Python programming, python\n",
    "data types, and file I/O, before finishing with a quick overview of the\n",
    "numpy and scipy libraries.\n",
    "\n",
    "### Week 3: Exploring Data Through Visualizations:  \n",
    " \n",
    "Learn how to make data visualization by using Python, primarily from\n",
    "within the IPython notebook by using matplotlib and seaborn. This will\n",
    "include a discussion of scatter plots, linear regression and plotting,\n",
    "histograms, box plots, and other advanced visualization concepts.\n",
    "\n",
    "### Week 4: Using Python DataFrames (Pandas):  \n",
    "\n",
    "Learn about the _Data Frame_ concept and how to use it within Python by\n",
    "using the Pandas library. This will include ways to load and work with\n",
    "large tabular data, and to performa basic data operations like cleaning,\n",
    "transforming, merging, and reshaping.\n",
    "\n",
    "### Week 5: Using Databases:  \n",
    "\n",
    "Learn about database technology, before specifically focusing on\n",
    "relational database management systems. This will include learning how\n",
    "to create database, and SQL DDL and DML to create, insert, update and\n",
    "delete data. This will conclude with a discussion of accessing a\n",
    "database from Python.\n",
    "\n",
    "### Week 6: Data Acquisition:  \n",
    "\n",
    "Learn about acquiring data from diverse sources including webpages,\n",
    "online repositories, and social media. This will require a discussion of\n",
    "web scraping, DOM tress, and JSON.\n",
    "\n",
    "### Week 7: Statistical & Machine Learning:  \n",
    " \n",
    "Review basic statistics and probability and learn how to compute\n",
    "different random distributions  by using numpy and scipy routines. Next,\n",
    "learn about machine learning and basic approaches to perform machine\n",
    "learning by using the scikit_learn library in Python.\n",
    "\n",
    "### Week 8: Data Intensive Computing:  \n",
    "\n",
    "Learn about basic concepts in high performance computing and how to\n",
    "perform them in Python. Next, learn about cloud computing, including how\n",
    "Docker technology integrates into commercial clouds. Finally, a\n",
    "discussion of the standard Hadoop platform and its capabilities.\n",
    "\n",
    "----\n",
    "\n"
   ]
  },
  {
   "cell_type": "markdown",
   "metadata": {},
   "source": [
    "### Piazza\n",
    "\n",
    "To improve communication, especially outside the normal class\n",
    "environment, we will use Piazza. You should have received an invitation\n",
    "to join.\n",
    "\n",
    "![Piazza homepage](images/piazza-home.png)\n",
    "\n",
    "You should post questions or general comments to Piazza, where either I\n",
    "or your fellow students can answer them. When doing so you should try to\n",
    "use the provided folders to provide background to  your question.\n",
    "\n",
    "-----"
   ]
  },
  {
   "cell_type": "markdown",
   "metadata": {},
   "source": [
    "-----\n",
    "\n",
    "## Breakout Session: Piazza\n",
    "\n",
    "Introduce yourself to your fellow students by making a post in the\n",
    "general folder of the course Piazza. \n",
    "\n",
    "Suggestions for items to include in your post:\n",
    "\n",
    "- Your full name\n",
    "- Any nickname you prefer to use\n",
    "- The company for which you work\n",
    "- What you hope to get out of this course\n",
    "- Any big data experience that you would like to share\n",
    "- Your connection to the University of Illinois\n",
    "\n",
    "![Piazza Note](images/piazza-note.png)\n",
    "\n",
    "\n",
    "You also can use this session to find a partner for working on the course assignments.\n",
    "\n",
    "-----"
   ]
  },
  {
   "cell_type": "markdown",
   "metadata": {},
   "source": [
    "### Return to the [Week 1 Index](index.ipynb) page.\n",
    "\n",
    "-----"
   ]
  }
 ],
 "metadata": {
  "kernelspec": {
   "display_name": "Python 3",
   "language": "python",
   "name": "python3"
  },
  "language_info": {
   "codemirror_mode": {
    "name": "ipython",
    "version": 3
   },
   "file_extension": ".py",
   "mimetype": "text/x-python",
   "name": "python",
   "nbconvert_exporter": "python",
   "pygments_lexer": "ipython3",
   "version": "3.4.0"
  }
 },
 "nbformat": 4,
 "nbformat_minor": 0
}
