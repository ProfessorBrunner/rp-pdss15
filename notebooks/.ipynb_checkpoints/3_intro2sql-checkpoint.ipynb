{
 "cells": [
  {
   "cell_type": "markdown",
   "metadata": {},
   "source": [
    "<DIV ALIGN=CENTER>\n",
    "\n",
    "# Introduction to SQL\n",
    "## Professor Robert J. Brunner\n",
    "  \n",
    "</DIV>  \n",
    "-----\n",
    "-----"
   ]
  },
  {
   "cell_type": "markdown",
   "metadata": {},
   "source": [
    "## Introduction \n",
    "\n",
    "In this lesson, we focus on a basic component of relational database\n",
    "management systems, SQL. In this Notebook we will use the SQLite\n",
    "database to build a fictitious database. We will cover SQL data types and\n",
    "how to create SQL schemas before moving on to creating and executing\n",
    "queries and finishing with updating and deleting data.\n",
    "\n",
    "-----"
   ]
  },
  {
   "cell_type": "markdown",
   "metadata": {},
   "source": [
    "### The basics of relational database systems\n",
    "\n",
    "Before you can begin to develop database applications, you need to\n",
    "understand the basic concepts. Relational databases hold data. This data\n",
    "can be of different types, such as numbers, characters, or dates. Within\n",
    "the database, the data are organized into logical units called tables. A\n",
    "table is like a spreadsheet, because it contains rows of data. Each row\n",
    "is made up of a number of columns. The columns hold data of a specific\n",
    "data type, like integer values or strings of characters. In most cases,\n",
    "a database has more than one table. To relate the tables together, a\n",
    "database designer takes advantage of natural (or artificial) links\n",
    "between the tables. In a spreadsheet, you can link rows in different\n",
    "sheets by cell values. The same idea holds in a relational database, and\n",
    "the column used to make the link is referred to as a key column.\n",
    "\n",
    "To make it easier to understand the purpose of a table or a particular\n",
    "column, you should select appropriate names. The naming conventions can\n",
    "vary between databases. For a SQLite database, individual names:\n",
    "\n",
    "- by default, case insensitive (although this can be changed),\n",
    "\n",
    "- are unlimited in length, but should be kept to a reasonable length\n",
    "(given readability constraints),\n",
    "\n",
    "- must begin with a letter or an underscore character, and\n",
    "\n",
    "- must only code alphanumeric characters or underscores.\n",
    "\n",
    "You can escape these rules by placing the name in double quotation\n",
    "marks, which allows names to be case sensitive and to include additional\n",
    "characters (including spaces). Doing this, however, is generally a bad\n",
    "practice: It requires the name to always be enclosed in double quotation\n",
    "marks and can easily confuse someone else who may be maintaining your\n",
    "code. Finally, a name can not be one of the reserved\n",
    "[keywords](https://www.sqlite.org/lang_keywords.html).\n",
    "\n",
    "#### Class Style\n",
    "\n",
    "For this class, we will follow a specific style: All SQL commands are\n",
    "presented entirely in uppercase, and item names use camelCase. In\n",
    "camelCase style, words are joined together, and the first letter of each\n",
    "word-following the first one-is capitalized, such as aLongIdentifier.\n",
    "Combining these two styles together, these articles write SQL commands\n",
    "using the following style: SELECT aLongIdentifier FROM dataTable ;.\n",
    "\n",
    "#### Schema\n",
    "\n",
    "Related tables are often grouped together into a schema. You can think\n",
    "of a schema as a container for all the related structure definitions\n",
    "within a particular database. A table name must be unique within a given\n",
    "schema. Thus, by using schemas, you can have identically named objects\n",
    "(such as tables) enclosed within different schemas. When you're using\n",
    "the Apache Derby database, a table is always in a schema. If you don't\n",
    "specify a schema explicitly, Derby implicitly uses the built-in apps\n",
    "schema. A second built-in schema called sys is used to isolate system\n",
    "tables.\n",
    "\n",
    "You can use the schema name to qualify a name. By default, SQLite uses\n",
    "the database name as the schema, and you do not need to prefix names to\n",
    "indicate the correct schema. For other databases, however, this is not\n",
    "the case. For these databases, you specify the schema name followed by a\n",
    "period and then the table name. For example, bigdog.products references\n",
    "the products table in the bigdog schema. Without the relevant schema\n",
    "name, a table name is said to be unqualified, as in products. When the\n",
    "schema name and the table name are completely specified, as in\n",
    "bigdog.products, the name is said to be fully qualified.\n",
    "\n",
    "In an abstract sense, these database concepts may seem confusing, but in\n",
    "practice they're fairly straightforward. For example, imagine you own a\n",
    "store called Bigdog's Surf Shop that sells a variety of items like\n",
    "sunglasses, shirts, and so on. If you want to be profitable, you must\n",
    "keep a close eye on your inventory so you can easily order additional\n",
    "inventory or change vendors to keep your overhead to a minimum. One\n",
    "simple method for tracking this information is to write entries in a\n",
    "table-like format:\n",
    "\n",
    "**<DIV ALIGN=CENTER>Product Table </DIV>**\n",
    "\n",
    "| Item# | Price | Stock Date | Description |\n",
    "| ---- | ----- | ---------- | ----------- |\n",
    "| 1 | 29.95 | 1/15/15 | Basic Sunglasses |\n",
    "| 2 | 9.95 | 12/14/14 | Generic Shirt |\n",
    "| 3 | 99.95 | 8/04/14 | Boogie Board |\n",
    "\n",
    "**<DIV ALIGN=CENTER>Vendors Table </DIV>**\n",
    "\n",
    "| Item# | Vendor# | Vendor Name |\n",
    "| ---- | ----- | ---------- | ----------- |\n",
    "| 1 | 101 | Mikal Arroyo |\n",
    "| 2 | 102 | Quiet Beach Industries |\n",
    "| 3 | 103 | Vista Luna |\n",
    "\n",
    "\n",
    "From this simple visual design you can easily map the business logic\n",
    "straight into database tables. You have two database tables, Products\n",
    "and Vendors, which are naturally linked by the item number. The data\n",
    "types for the columns in each table are easy to determine. Later in this\n",
    "lesson we will actually create this sample schema for Bigdog's Surf\n",
    "Shop, which consists of these two tables, in a SQLite database. But\n",
    "first, we need to address how data is stored in a relational database\n",
    "table.\n",
    "\n",
    "-----"
   ]
  },
  {
   "cell_type": "markdown",
   "metadata": {},
   "source": [
    "### SQL: Structured Query Language\n",
    "\n",
    "Database systems can be complex pieces of software, especially when they\n",
    "scale to support enterprise-level applications. As a result, you may\n",
    "expect that every database has its own application programming interface\n",
    "(API) and that these APIs may be different from one system to the next.\n",
    "When relational databases were first developed, this was the case; but,\n",
    "fortunately, a number of vendors agreed to develop a standard language\n",
    "for accessing and manipulating relational databases. This language is\n",
    "officially called Structured Query Language (or SQL, pronounced\n",
    "sea-quill). Several official standard versions have been produced,\n",
    "including one in 1992 that is referred to as SQL-92, and one in 1999\n",
    "that is referred to as SQL-99. The Apache Derby database provides a\n",
    "nearly complete implementation of the SQL-92 standard, so applications\n",
    "developed with Derby can be easily transported to other database systems.\n",
    "\n",
    "SQL has two main components: a Data Definition Language (DDL) and a Data\n",
    "Manipulation Language (DML). DDL commands are used to create, modify, or\n",
    "delete items (such as tables) in a database. DML commands are used to\n",
    "add, modify, delete, or select data from a table in the database. The\n",
    "rest of this article provides a basic introduction to the DDL components\n",
    "of SQL. Future articles will focus on the DML commands and more advanced\n",
    "DDL commands. \n",
    "\n",
    "### SQL data types\n",
    "\n",
    "SQL, being a programming language in its own right, defines a rich\n",
    "data-type hierarchy. Persisting these data types is one of the most\n",
    "important responsibilities of the database. As databases have become\n",
    "more powerful, this type hierarchy has grown more complex. But most\n",
    "simple databases don't require the full range of allowed types, and\n",
    "often they need to store only numerical, character, and date or time\n",
    "data. \n",
    "\n",
    "While the SQL standard defines basic [data types][1], different database\n",
    "systems can support the standard to varying degrees. While this might\n",
    "seem odd, doing so provides more flexibility in allowing a particular\n",
    "implementation to achieve a market niche. In the case of SQLite, the\n",
    "design decisions support a compact, zero-configuration database file\n",
    "that is platform-independent. As a result, [SQLite does not support][2]\n",
    "a rich data type hierarchy, and instead focuses on ease-of-use. \n",
    "\n",
    "SQLite supports five storage classes:\n",
    "\n",
    "- **NULL**: A null value.\n",
    "\n",
    "- **INTEGER**: A signed integer, the number of bytes (1, 2, 3, 4, 6, or\n",
    "8) used depends on the magnitude of the value.\n",
    "\n",
    "- **REAL**: A floating-point value stored as an 8 byte IEEE\n",
    "floating-point value.\n",
    "\n",
    "- **TEXT**: A string of character values stored in the default database\n",
    "encoding (e.g., UTF-8).\n",
    "\n",
    "- **BLOB**: A blob of data stored *exactly* as is in the database.\n",
    "\n",
    "Note that SQLite does not support Boolean or Date/Time valus directly.\n",
    "Instead, Boolean values are encoded as INTEGERs (0 = False, 1 = True).\n",
    "Likewise Date/Time values can be encoded either as TEXT, REAL, or\n",
    "INTEGER values. For full details, see the SQLite documentation. In\n",
    "addition, SQLite supports the concept of _Type Affinity_, whereby\n",
    "different data types can be easily mapped into each other. This\n",
    "simplifies moving schemas from other database systems to SQLite.\n",
    "\n",
    "-----\n",
    "[1]: https://en.wikipedia.org/wiki/SQL#Data_types\n",
    "[2]: https://www.sqlite.org/datatype3.html"
   ]
  },
  {
   "cell_type": "markdown",
   "metadata": {},
   "source": [
    "#### The SQL NULL type\n",
    "\n",
    "Before you begin creating database tables, you must know what to do when\n",
    "no value is specified for a column. To illustrate this point, imagine\n",
    "that you've been asked to fill out a Web form. If you leave a particular\n",
    "column blank, what is inserted into the database? As you can imagine,\n",
    "this problem could be cumbersome if you had to track no value markers.\n",
    "Fortunately, SQL defines a special value, NULL, to indicate that a\n",
    "column has no value.\n",
    "\n",
    "\n"
   ]
  },
  {
   "cell_type": "markdown",
   "metadata": {},
   "source": [
    "### CREATE TABLE\n",
    "\n",
    "So far, you've learned how to design a table, including mapping out the\n",
    "table columns and defining the data type for each column. After you've\n",
    "properly designed a table, the method for creating a table in SQL is\n",
    "straightforward. Listing 1 shows the formal syntax for creating a table\n",
    "in Derby.\n",
    "\n",
    "```\n",
    "-- Comment describing the purpose and layout of the table \n",
    "\n",
    "CREATE TABLE tableName ( { <columnDefinition> | <tableLevelConstraint> } \n",
    "    [, { <columnDefinition> | <tableLevelConstraint> } ]* ) ;\n",
    "```\n",
    "\n",
    "You may feel bewildered after looking at this syntax for the first time.\n",
    "But it's easy to follow once you have the basics down. The square\n",
    "brackets ([ and ]) enclose optional parameters. As you can see from the\n",
    "formal syntax, any column definitions or table-level constraints after\n",
    "the required initial one (it wouldn't make sense to create a table with\n",
    "no columns!) are optional.\n",
    "\n",
    "You probably understand what is meant by a column definition, but you\n",
    "might not understand the idea of a constraint. Constraints come in two\n",
    "types: table-level constraints and column constraints. A constraint\n",
    "limits either a column or a table in some manner. For example, you can\n",
    "use a constraint to require that a column always be assigned an actual\n",
    "value (no NULL values), or that every entry in a column must be unique,\n",
    "or that a column is automatically assigned a default value. \n",
    "\n",
    "The asterisk (\\*) after the last closing square bracket indicates that\n",
    "more than one of the enclosing items can be included. This implies that\n",
    "the table must have one or more columns or table-level constraints. The\n",
    "vertical line (|) indicates an either/or condition. In this syntax\n",
    "example, you must either define a new column or define a new table-level\n",
    "constraint. The curly brackets ({ and }) group related items together,\n",
    "and the parentheses (( and )) are required elements. Finally, the\n",
    "semicolon (;) indicates the end of a SQL statement.\n",
    "\n",
    "#### SQLite Schema Creation\n",
    "\n",
    "In the following code block, we create our schema for Bigdog's Surf\n",
    "Shop, which includes two new tables: `myProducts` and `myVendors`. The\n",
    "myProducts table has four columns: itemNumber, price, stockDate, and\n",
    "description. The itemNumber column provides a unique identity for each\n",
    "item (or row) and has an attached column-level constraint that enforces\n",
    "a valid value to always be supplied (NOT NULL). Without this\n",
    "requirement, the itemNumber column isn't guaranteed to be unique because\n",
    "multiple columns could be assigned a NULL value. The price column is\n",
    "created as a REAL data type. The last two columns are simple: The\n",
    "stockDate column is stored as a TEXT (we can use application logic to\n",
    "transform the date/time information into and out of the appropriate\n",
    "YYYY-MM-DD format), and description is also stored in a TEXT field.\n",
    "\n",
    "The myVendors table has three columns: itemNumber, vendorNumber, and\n",
    "vendorName. In this case, both the itemNumber and vendorNumber columns\n",
    "have attached column-level constraints (NOT NULL). In addition, the\n",
    "vendorName column is stored as a TEXT field."
   ]
  },
  {
   "cell_type": "markdown",
   "metadata": {},
   "source": [
    "### Drop Table\n",
    "\n",
    "No one is perfect. What do you do when you incorrectly create a table or\n",
    "a table is no longer needed? The simple answer is to delete the table\n",
    "from the database and, if necessary, create a replacement table.\n",
    "Deleting a table is easy, which means, of course, that you should\n",
    "exercise great care when doing so -- no dialog box pops up and asks if\n",
    "you're sure you want to proceed!\n",
    "\n",
    "The full syntax for deleting-or, more formally, dropping-a table from a\n",
    "database in SQLite is\n",
    "\n",
    "DROP TABLE tableName ;\n",
    "\n",
    "The syntax is simple: You append the fully qualified name and a\n",
    "semicolon to the DROP TABLE SQL command, and you're finished.\n",
    "\n",
    "-----\n",
    "\n",
    "In the next few code cells, we first create our schema file, before\n",
    "executing the SQL commands on our new database by using the `sqlite3`\n",
    "client tool.\n",
    "\n",
    "-----"
   ]
  },
  {
   "cell_type": "code",
   "execution_count": 1,
   "metadata": {
    "collapsed": false
   },
   "outputs": [
    {
     "name": "stdout",
     "output_type": "stream",
     "text": [
      "Writing create.sql\n"
     ]
    }
   ],
   "source": [
    "%%writefile create.sql\n",
    "\n",
    "-- First we drop any tables if they exist\n",
    "-- Ignore the no such Table error if present\n",
    "\n",
    "DROP TABLE myVendors ;\n",
    "DROP TABLE myProducts ;\n",
    "\n",
    "-- Vendor Table: Could contain full vendor contact information.\n",
    "    \n",
    "CREATE TABLE myVendors (\n",
    "    itemNumber INT NOT NULL,\n",
    "    vendornumber INT NOT NULL,\n",
    "    vendorName TEXT\n",
    ") ;\n",
    "\n",
    "-- Product Table: Could include additional data like quantity\n",
    "    \n",
    "CREATE TABLE myProducts (\n",
    "    itemNumber INT NOT NULL,\n",
    "    price REAL,\n",
    "    stockDate TEXT,\n",
    "    description TEXT\n",
    ") ;"
   ]
  },
  {
   "cell_type": "code",
   "execution_count": 2,
   "metadata": {
    "collapsed": false
   },
   "outputs": [
    {
     "name": "stdout",
     "output_type": "stream",
     "text": [
      "Error: near line 5: no such table: myVendors\r\n",
      "Error: near line 6: no such table: myProducts\r\n"
     ]
    }
   ],
   "source": [
    "# Now create the schema in a new test database\n",
    "\n",
    "!sqlite3 test < create.sql"
   ]
  },
  {
   "cell_type": "code",
   "execution_count": 3,
   "metadata": {
    "collapsed": false
   },
   "outputs": [
    {
     "name": "stdout",
     "output_type": "stream",
     "text": [
      "CREATE TABLE myVendors (\r\n",
      "    itemNumber INT NOT NULL,\r\n",
      "    vendornumber INT NOT NULL,\r\n",
      "    vendorName TEXT\r\n",
      ");\r\n",
      "CREATE TABLE myProducts (\r\n",
      "    itemNumber INT NOT NULL,\r\n",
      "    price REAL,\r\n",
      "    stockDate TEXT,\r\n",
      "    description TEXT\r\n",
      ");\r\n"
     ]
    }
   ],
   "source": [
    "# We can test the results\n",
    "\n",
    "!sqlite3 test \".schema\""
   ]
  },
  {
   "cell_type": "markdown",
   "metadata": {},
   "source": [
    "### SQL scripts\n",
    "\n",
    "As the previous code blocks demonstrated, we can write SQL commands into\n",
    "a script file that can be easily executed by the `sqlite3` client. While\n",
    "this might seem like overkill given the simplicity of our current\n",
    "schema, it is actually a useful technique. Often, you'll need to execute\n",
    "multiple, complex commands. To simplify debugging a set of complex SQL\n",
    "commands,  it's generally easier to write them in a text file and then\n",
    "execute the commands in the text file all at once. By placing SQL\n",
    "commands in a script file, you gain the additional benefit of being able\n",
    "to execute the commands as many times as necessary.\n",
    "\n",
    "A script file is just a plain text file that contains a combination of\n",
    "SQL commands and SQLite commands that can be run directly from the\n",
    "`sqlite3` tool. A script file simplifies the development and maintenance\n",
    "of relational databases and provides a self-documenting technique for\n",
    "building databases. You should store these files as ASCII text files,\n",
    "not as RTF files (or any other format), to prevent text-encoding errors.\n",
    "Some text applications may try to automatically save your file as a rich\n",
    "text file. Be careful to avoid doing so, or you may have problems when\n",
    "you try to execute your script file. For this reason, you probably will\n",
    "want to always create and edit your SQL scripts at the Unix command\n",
    "prompt.\n",
    "\n",
    "Our previous script file, `create.sql`, includes several lines that\n",
    "start with two dashes (--). These lines are SQL comments; you should use\n",
    "them to provide a basic description of the purpose of each major\n",
    "component within the script file. The first actual commands ion the\n",
    "script file are SQL DROP statements that delete the myProducts and\n",
    "myVendors tables from the database. If the tables don't exist (which is\n",
    "the case if the database was just created), an error message is\n",
    "displayed; but as the preceding SQL comments indicate, you can safely\n",
    "ignore those messages.\n",
    "\n",
    "You first drop the tables, if they exist, so that you can cleanly create\n",
    "new tables with the exact column definitions you need. The next two SQL\n",
    "statements do just that, creating the myProducts and myVendors tables.\n",
    "To run this script file, we can either have the `sqlite3` client tool\n",
    "read the file form _STDIN_, as shown above, or we can start `sqlite3`\n",
    "and use the `.read` command to read and execute SQL commands from our\n",
    "`create.sql` file.\n",
    "\n",
    "#### What if something goes wrong?\n",
    "\n",
    "Sometimes, no matter how hard you try, things don't work out quite\n",
    "right. If you can't safely execute the create.sql script, there are a\n",
    "number of possibilities to check:\n",
    "\n",
    "- Be sure the SQLite client tool starts up properly. You can do this at\n",
    "the Unix command prompt.\n",
    "\n",
    "- Be sure you have free disk space in which to create a new database.\n",
    "\n",
    "- Be sure you have proper permissions (to read the script file and to\n",
    "create the new database) in the directory where you try to execute the\n",
    "script file.\n",
    "\n",
    "- Be sure your script file is a simple ASCII text file (and not an RTF\n",
    "file).\n",
    "\n",
    "If the output of the `!sqlite3 test \".schema\"` matches the data in the\n",
    "`create.sql` file, congratulations are in order. You now have a new test\n",
    "database with two new tables ready to hold data.\n",
    "\n",
    "Now we'll focus on the process of inserting data into a table by using\n",
    "SQLite. To follow along, you will need a SQLite database with the\n",
    "myProducts table available. If you haven't already done so, you should\n",
    "execute the create.sql script file.\n",
    "\n",
    "-----"
   ]
  },
  {
   "cell_type": "markdown",
   "metadata": {},
   "source": [
    "### INSERT\n",
    "\n",
    "One of the most important tasks when you're building a database\n",
    "application is inserting data into the database. It doesn't matter how\n",
    "good the database software is-if you put bad data in a database, nothing\n",
    "else matters. There are several different ways to insert data into a\n",
    "database, but the rest of this lesson focuses on inserting data into a\n",
    "SQLite database by using the SQL INSERT statement.\n",
    "\n",
    "Before you can insert data into a SQLite database using the SQL INSERT\n",
    "statement, you must know how to properly use this statement. The full\n",
    "syntax for the SQL INSERT statement is\n",
    "\n",
    "```\n",
    "INSERT INTO table-Name\n",
    "    [ (Simple-column-Name [ , Simple-column-Name]* ) ]\n",
    "\t  Expression\n",
    "```\n",
    "\n",
    "which should seem familiar. As discussed previously, the square brackets\n",
    "([]) enclose optional parameters. The only component whose purpose isn't\n",
    "immediately clear is _Expression_; but how complex can that simple\n",
    "phrase be? Of course, appearances can be deceiving; the Expression term\n",
    "can expand to one of four different structures:\n",
    "\n",
    "- a single-row VALUES list\n",
    "- a multiple-row VALUES list\n",
    "- a SELECT expression\n",
    "- a UNION expression\n",
    "\n",
    "Of these, the last two are beyond the scope of this lesson. The first\n",
    "two are similar; the only difference is that the first form inserts one\n",
    "row into a table, whereas the latter form inserts multiple rows into a\n",
    "table.\n",
    "\n",
    "You can use the optional part of the SQL INSERT statement to specify the\n",
    "column order of the values being inserted into the table. By default,\n",
    "data is inserted into a table's columns in the same order that the\n",
    "columns were listed when the table was created. Sometimes you may want\n",
    "to change this order or perhaps only specify values for columns that\n",
    "have NOT NULL constraints. By explicitly listing the columns in your SQL\n",
    "INSERT statement, you gain more control of the operation and can more\n",
    "easily handle these specific use cases.\n",
    "\n",
    "The syntax for the SQL VALUES expression is fairly simple,\n",
    "\n",
    "```\n",
    "{\n",
    "    VALUES ( Value {, Value }* )\n",
    "        [ , ( Value {, Value }* ) ]* |\n",
    "    VALUES Value [ , Value ]*\n",
    " }\n",
    "```\n",
    "\n",
    "This syntax displays the multiple-row format first, followed by the\n",
    "single-row format (remember that the vertical line character, |, means\n",
    "or and that the asterisk character, \\*, means one or more). The value\n",
    "term stands for a value that you want to insert into a specific column.\n",
    "To insert data into multiple columns, you must enclose the data for a\n",
    "row in parentheses separated by commas.\n",
    "\n",
    "As shown below, to insert data into a table, you first need to to make\n",
    "sure that the table exists. If you haven't already done so, execute the\n",
    "table creation scripts discussed earlier.\n",
    "\n",
    "```\n",
    "INSERT INTO myProducts \n",
    "    VALUES(1, 19.95, '2015-03-31', 'Hooded sweatshirt') ;\n",
    "\n",
    "INSERT INTO myProducts(itemNumber, price, stockDate, description) \n",
    "    VALUES(2, 99.99, '2015-03-29', 'Beach umbrella') ;\n",
    "\n",
    "INSERT INTO myProducts(itemNumber, price, stockDate) \n",
    "    VALUES(3, 0.99, '2015-02-28') ;\n",
    "```\n",
    "\n",
    "This example presents three single-row inserts into the myProducts\n",
    "table. The first SQL INSERT statement doesn't provide a list of columns;\n",
    "it inserts an itemNumber, a price, a stockDate, and a description.\n",
    "Notice that the values inserted into both the stockDate and description\n",
    "columns are enclosed in single quote characters. The description column\n",
    "is a TEXT field, so it expects a string (which you indicate by enclosing\n",
    "the character data within single quotes). The stockDate column is also a\n",
    "TEXT field; as part of our application logic, we could pass in dates in\n",
    "the correct day, month, and year format. (For more guidance on the\n",
    "format of data types during a SQL INSERT operation, read the SQLite\n",
    "documentation).\n",
    "\n",
    "The second SQL INSERT statement explicitly lists all four columns and\n",
    "inserts new values appropriately. The final SQL INSERT statement lists\n",
    "only three columns and inserts only three values. The description column\n",
    "is left empty, which means it will have a NULL value.\n",
    "\n",
    "Although single-row SQL INSERT statements can be useful, when you need\n",
    "to insert multiple rows, it's more efficient to do so directly, as shown\n",
    "below:\n",
    "\n",
    "    INSERT INTO myProducts(itemNumber, price, stockDate, description)\n",
    "    VALUES (4, 29.95, '2015-02-10', 'Male bathing suit, blue'),\n",
    "           (5, 49.95, '2015-02-20', 'Female bathing suit, one piece, aqua'),\n",
    "           (6, 9.95, '2015-01-15', 'Child sand toy set'),\n",
    "           (7, 24.95, '2014-12-20', 'White beach towel'),\n",
    "           (8, 32.95, '2014-12-22', 'Blue-striped beach towel'),\n",
    "           (9, 12.95, '2015-03-12', 'Flip-flop'),\n",
    "           (10, 34.95, '2015-01-24', 'Open-toed sandal') ;\n",
    "\n",
    "In this example, we insert seven rows into the database by explicitly\n",
    "listing all four columns and providing new values for each row. As\n",
    "discussed earlier, multiple-row inserts enclose the values for each new\n",
    "row within parentheses, and these values are separated by commas. \n",
    "\n",
    "To actually execute these statements, we can place the SQL INSERT\n",
    "statements in a script file and run the script to insert the data. This\n",
    "approach lets you more easily fix errors or reinsert the data if\n",
    "necessary without recreating the requisite SQL INSERT statements. In the\n",
    "following code cells, we first create a SQL INSERT script file, before\n",
    "executing this script by using the `sqlite3` client tool. After this, we\n",
    "use the `.dump` command in the `sqlite3` client tool to display the full\n",
    "schema and contents of this SQLite database.\n",
    "\n",
    "-----"
   ]
  },
  {
   "cell_type": "code",
   "execution_count": 4,
   "metadata": {
    "collapsed": false
   },
   "outputs": [
    {
     "name": "stdout",
     "output_type": "stream",
     "text": [
      "Writing insert.sql\n"
     ]
    }
   ],
   "source": [
    "%%writefile insert.sql\n",
    "\n",
    "-- Single unnamed INSERT\n",
    "\n",
    "INSERT INTO myProducts \n",
    "VALUES(1, 19.95, '2015-03-31', 'Hooded sweatshirt') ;\n",
    "\n",
    "-- Single named INSERT\n",
    "\n",
    "INSERT INTO myProducts (itemNumber, price, stockDate, description) \n",
    "VALUES(2, 99.99, '2015-03-29', 'Beach umbrella') ;\n",
    "\n",
    "-- Single named INSERT with missing data\n",
    "\n",
    "INSERT INTO myProducts (itemNumber, price, stockDate) \n",
    "VALUES(3, 0.99, '2015-02-28') ;\n",
    "\n",
    "-- Multiple named INSERT\n",
    "\n",
    "INSERT INTO myProducts (itemNumber, price, stockDate, description)\n",
    "VALUES (4, 29.95, '2015-02-10', 'Male bathing suit, blue'),\n",
    "       (5, 49.95, '2015-02-20', 'Female bathing suit, one piece, aqua'),\n",
    "       (6, 9.95, '2015-01-15', 'Child sand toy set'),\n",
    "       (7, 24.95, '2014-12-20', 'White beach towel'),\n",
    "       (8, 32.95, '2014-12-22', 'Blue-striped beach towel'),\n",
    "       (9, 12.95, '2015-03-12', 'Flip-flop'),\n",
    "       (10, 34.95, '2015-01-24', 'Open-toed sandal') ;\n",
    "        \n",
    "-- Insert into myVendors\n",
    "\n",
    "INSERT INTO myVendors(itemNumber, vendorNumber, vendorName)\n",
    "VALUES (1, 1, 'Luna Vista Limited'),\n",
    "       (2, 1, 'Luna Vista Limited'),\n",
    "       (3, 1, 'Luna Vista Limited'),\n",
    "       (4, 2, 'Mikal Arroyo Incorporated'),\n",
    "       (5, 2, 'Mikal Arroyo Incorporated'),\n",
    "       (6, 1, 'Luna Vista Limited'),\n",
    "       (7, 1, 'Luna Vista Limited'),\n",
    "       (8, 1, 'Luna Vista Limited'),\n",
    "       (9, 3, 'Quiet Beach Industries'),\n",
    "       (10, 3, 'Quiet Beach Industries') ;"
   ]
  },
  {
   "cell_type": "code",
   "execution_count": 5,
   "metadata": {
    "collapsed": false
   },
   "outputs": [
    {
     "name": "stdout",
     "output_type": "stream",
     "text": [
      "\r\n",
      "-- Single unnamed INSERT\r\n",
      "\r\n",
      "INSERT INTO myProducts \r\n",
      "VALUES(1, 19.95, '2015-03-31', 'Hooded sweatshirt') ;\r\n",
      "\r\n",
      "-- Single named INSERT\r\n",
      "\r\n",
      "INSERT INTO myProducts (itemNumber, price, stockDate, description) \r\n",
      "VALUES(2, 99.99, '2015-03-29', 'Beach umbrella') ;\r\n"
     ]
    }
   ],
   "source": [
    "!head -10 insert.sql"
   ]
  },
  {
   "cell_type": "code",
   "execution_count": 6,
   "metadata": {
    "collapsed": false
   },
   "outputs": [],
   "source": [
    "!sqlite3 test < insert.sql"
   ]
  },
  {
   "cell_type": "code",
   "execution_count": 7,
   "metadata": {
    "collapsed": false
   },
   "outputs": [
    {
     "name": "stdout",
     "output_type": "stream",
     "text": [
      "PRAGMA foreign_keys=OFF;\r\n",
      "BEGIN TRANSACTION;\r\n",
      "CREATE TABLE myVendors (\r\n",
      "    itemNumber INT NOT NULL,\r\n",
      "    vendornumber INT NOT NULL,\r\n",
      "    vendorName TEXT\r\n",
      ");\r\n",
      "INSERT INTO \"myVendors\" VALUES(1,1,'Luna Vista Limited');\r\n",
      "INSERT INTO \"myVendors\" VALUES(2,1,'Luna Vista Limited');\r\n",
      "INSERT INTO \"myVendors\" VALUES(3,1,'Luna Vista Limited');\r\n",
      "INSERT INTO \"myVendors\" VALUES(4,2,'Mikal Arroyo Incorporated');\r\n",
      "INSERT INTO \"myVendors\" VALUES(5,2,'Mikal Arroyo Incorporated');\r\n",
      "INSERT INTO \"myVendors\" VALUES(6,1,'Luna Vista Limited');\r\n",
      "INSERT INTO \"myVendors\" VALUES(7,1,'Luna Vista Limited');\r\n",
      "INSERT INTO \"myVendors\" VALUES(8,1,'Luna Vista Limited');\r\n",
      "INSERT INTO \"myVendors\" VALUES(9,3,'Quiet Beach Industries');\r\n",
      "INSERT INTO \"myVendors\" VALUES(10,3,'Quiet Beach Industries');\r\n",
      "CREATE TABLE myProducts (\r\n",
      "    itemNumber INT NOT NULL,\r\n",
      "    price REAL,\r\n",
      "    stockDate TEXT,\r\n",
      "    description TEXT\r\n",
      ");\r\n",
      "INSERT INTO \"myProducts\" VALUES(1,19.95,'2015-03-31','Hooded sweatshirt');\r\n",
      "INSERT INTO \"myProducts\" VALUES(2,99.99,'2015-03-29','Beach umbrella');\r\n",
      "INSERT INTO \"myProducts\" VALUES(3,0.99,'2015-02-28',NULL);\r\n",
      "INSERT INTO \"myProducts\" VALUES(4,29.95,'2015-02-10','Male bathing suit, blue');\r\n",
      "INSERT INTO \"myProducts\" VALUES(5,49.95,'2015-02-20','Female bathing suit, one piece, aqua');\r\n",
      "INSERT INTO \"myProducts\" VALUES(6,9.95,'2015-01-15','Child sand toy set');\r\n",
      "INSERT INTO \"myProducts\" VALUES(7,24.95,'2014-12-20','White beach towel');\r\n",
      "INSERT INTO \"myProducts\" VALUES(8,32.95,'2014-12-22','Blue-striped beach towel');\r\n",
      "INSERT INTO \"myProducts\" VALUES(9,12.95,'2015-03-12','Flip-flop');\r\n",
      "INSERT INTO \"myProducts\" VALUES(10,34.95,'2015-01-24','Open-toed sandal');\r\n",
      "COMMIT;\r\n"
     ]
    }
   ],
   "source": [
    "!sqlite3 test \".dump\""
   ]
  },
  {
   "cell_type": "markdown",
   "metadata": {},
   "source": [
    "### Transactions\n",
    "\n",
    "If you look carefully at the output of the `.dump` command, you see that\n",
    "near the top of the output is a `BEGIN TRANSACTION;` statement and at\n",
    "the end of the output is a `COMMIT;` statement. These two statements are\n",
    "explicit instructions, inserted by SQLite, to start a transaction, which\n",
    "is a logical unit of work, and save all operations in the transaction to\n",
    "the database. If a set of operations is not completed successfully, the\n",
    "transaction model requires that the commit does not occur, and instead a\n",
    "rollback is issued to return the database to the state that existed\n",
    "prior to the transaction commencing.\n",
    "\n",
    "-----"
   ]
  },
  {
   "cell_type": "markdown",
   "metadata": {},
   "source": [
    "### SELECT\n",
    "\n",
    "In the SQL programming language, the task of performing a query falls to\n",
    "the SELECT statement. To provide all the query functionality required by\n",
    "database applications, the SELECT statement's capabilities are\n",
    "extensive. Before looking at example SELECT statements, lets first look\n",
    "at the  formal syntax of SELECT, which, as shown below is actually\n",
    "simple. The basic format is `SELECT ... FROM ... WHERE;`, you select the\n",
    "columns of interest from rows in a table or tables where certain\n",
    "conditions are satisfied. Of course, things can become considerably more\n",
    "complex. This article covers the basic features of SELECT and defers the\n",
    "more advanced issues to subsequent articles.\n",
    "\n",
    "```\n",
    "SELECT [ DISTINCT | ALL ] SelectItem [ , SelectItem ]*\n",
    "FROM clause\n",
    "[ WHERE clause ]\n",
    "[ GROUP BY clause ]\n",
    "[ HAVING clause ]\n",
    "```\n",
    "\n",
    "From this you can see that a basic SELECT statement requires only a\n",
    "SELECT and a FROM; you must specify what data to select and indicate the\n",
    "location of the data of interest. Everything else is optional (as\n",
    "indicated by the square brackets). The DISTINCT and ALL keywords are\n",
    "optional qualifiers to indicate that either rows with unique values or\n",
    "all rows should be selected, respectively. By default, ALL is implicitly\n",
    "assumed, and you can use only one DISTINCT qualifier per SELECT\n",
    "statement.\n",
    "\n",
    "A SELECT statement can have multiple columns listed following the SELECT\n",
    "keyword. Multiple elements (or, more generally, column names) are\n",
    "separated by commas. For example, `SELECT a, b, c` selects the three\n",
    "columns a, b, and c. To select all columns from a table, you can use the\n",
    "asterisk character (\\*) as a shorthand for all columns. An important\n",
    "point to remember is that the result of any SELECT statement is a\n",
    "transient SQLite table, and you can use it in many of the same ways you\n",
    "use a more permanent table.\n",
    "\n",
    "The FROM component of a SELECT statement indicates from which table (or\n",
    "multiple tables) the data will be extracted. For now, we will focus on\n",
    "selecting data from a single table; latter we will cover table joins and\n",
    "selecting data from multiple tables. In this case, the fully qualified\n",
    "name of the table to query must follow the FROM keyword.\n",
    "\n",
    "The rest of the SELECT statement is optional. Before you build your\n",
    "first query, however, lets review the order in which the SELECT\n",
    "statement components are evaluated:\n",
    "\n",
    "1. FROM clause\n",
    "2. WHERE clause\n",
    "3. GROUP BY clause\n",
    "4. HAVING clause\n",
    "5. SELECT clause\n",
    "\n",
    "When you break down the process SQLite follows when processing a query,\n",
    "this order is intuitive. First you must locate the data to be analyzed,\n",
    "after which you filter out the rows of interest. The next steps are to\n",
    "group related rows and, finally, to select the actual columns of\n",
    "interest.\n",
    "\n",
    "### SQLite\n",
    "\n",
    "To demonstrate a SELECT statement, we can extract all the columns from\n",
    "the myProducts table by using the `sqlite3` tool and passing the SQL\n",
    "statement in as a command line argument.\n",
    "\n",
    "-----"
   ]
  },
  {
   "cell_type": "code",
   "execution_count": 8,
   "metadata": {
    "collapsed": false
   },
   "outputs": [
    {
     "name": "stdout",
     "output_type": "stream",
     "text": [
      "1|19.95|2015-03-31|Hooded sweatshirt\r\n",
      "2|99.99|2015-03-29|Beach umbrella\r\n",
      "3|0.99|2015-02-28|\r\n",
      "4|29.95|2015-02-10|Male bathing suit, blue\r\n",
      "5|49.95|2015-02-20|Female bathing suit, one piece, aqua\r\n",
      "6|9.95|2015-01-15|Child sand toy set\r\n",
      "7|24.95|2014-12-20|White beach towel\r\n",
      "8|32.95|2014-12-22|Blue-striped beach towel\r\n",
      "9|12.95|2015-03-12|Flip-flop\r\n",
      "10|34.95|2015-01-24|Open-toed sandal\r\n"
     ]
    }
   ],
   "source": [
    "!sqlite3 test \"SELECT * FROM myProducts ;\""
   ]
  },
  {
   "cell_type": "markdown",
   "metadata": {},
   "source": [
    "-----\n",
    "\n",
    "In the previous code cell, we used the asterisk character to select all\n",
    "columns from the myProducts table without listing them explicitly. This\n",
    "can be a useful shortcut, especially when you're developing database\n",
    "applications, but it isn't a recommended practice. By using the\n",
    "shortcut, you don't explicitly specify the database column names or\n",
    "their order. In a database application, if you always assume that the\n",
    "column names and their order in a table are fixed, you may end up with\n",
    "subtle bugs if someone else modifies the database tables on which your\n",
    "application depends. You should always explicitly name the database\n",
    "columns in your SELECT statements and list the order you require.\n",
    "\n",
    "As a result, lets look at explicitly listing the columns to extract.\n",
    "This is a recommended practice that also allows us to control the order\n",
    "in which the columns are listed in the query output.\n",
    "\n",
    "-----"
   ]
  },
  {
   "cell_type": "code",
   "execution_count": 9,
   "metadata": {
    "collapsed": false
   },
   "outputs": [
    {
     "name": "stdout",
     "output_type": "stream",
     "text": [
      "19.95|1|Hooded sweatshirt\r\n",
      "99.99|2|Beach umbrella\r\n",
      "0.99|3|\r\n",
      "29.95|4|Male bathing suit, blue\r\n",
      "49.95|5|Female bathing suit, one piece, aqua\r\n",
      "9.95|6|Child sand toy set\r\n",
      "24.95|7|White beach towel\r\n",
      "32.95|8|Blue-striped beach towel\r\n",
      "12.95|9|Flip-flop\r\n",
      "34.95|10|Open-toed sandal\r\n"
     ]
    }
   ],
   "source": [
    "!sqlite3 test \"SELECT price, itemNumber, description FROM myProducts ;\""
   ]
  },
  {
   "cell_type": "markdown",
   "metadata": {},
   "source": [
    "### WHERE clause\n",
    "\n",
    "Up to this point, you have only selected columns for all rows in a\n",
    "single table. This can be expensive in terms of query performance,\n",
    "especially if you only want a subset of the rows from a large table. A\n",
    "more efficient technique is to filter database rows by placing\n",
    "conditions in the WHERE clause, which is evaluated immediately after the\n",
    "tables are specified within the FROM clause. The rest of this section\n",
    "discusses some of the basic features that are enabled by using the WHERE\n",
    "clause, including the ability to select rows that satisfy Boolean\n",
    "conditions as well as join multiple tables to perform more complex\n",
    "queries.\n",
    "\n",
    "The simplest and most common use of the WHERE clause is to filter the\n",
    "rows from a table before selecting any columns, as shown in the next two\n",
    "code cells.\n",
    "\n",
    "-----"
   ]
  },
  {
   "cell_type": "code",
   "execution_count": 10,
   "metadata": {
    "collapsed": false
   },
   "outputs": [
    {
     "name": "stdout",
     "output_type": "stream",
     "text": [
      "2|99.99\r\n",
      "5|49.95\r\n",
      "8|32.95\r\n",
      "10|34.95\r\n"
     ]
    }
   ],
   "source": [
    "!sqlite3 test \"SELECT p.itemNumber, p.price FROM myProducts AS p WHERE p.price > 30.00 ;\""
   ]
  },
  {
   "cell_type": "code",
   "execution_count": 11,
   "metadata": {
    "collapsed": false
   },
   "outputs": [
    {
     "name": "stdout",
     "output_type": "stream",
     "text": [
      "8|32.95|2014-12-22|Blue-striped beach towel\r\n"
     ]
    }
   ],
   "source": [
    "!sqlite3 test \"SELECT * FROM myProducts WHERE price > 30.00 AND stockDate < '2015-01-01' ;\""
   ]
  },
  {
   "cell_type": "markdown",
   "metadata": {},
   "source": [
    "-----\n",
    "The first query shown in this example selects the `itemNumber` and\n",
    "`price` columns from the myProducts table for all rows where the price\n",
    "column has a value greater than `$30.00`. The second query extends this\n",
    "same query to select only those columns whose price column has a value\n",
    "more than `$30.00` and whose stockDate column has a value less than\n",
    "January 1, 2006. These two query restrictions are combined in this query\n",
    "by using the Boolean AND operator.\n",
    "\n",
    "You can perform a number of different Boolean operations within a WHERE\n",
    "clause. The following table lists and provides examples of the basic SQL Boolean\n",
    "operations that you can use in a query.\n",
    "\n",
    "| Operator | Example | Description |\n",
    "| ---- | ---- | ---- |\n",
    "| =\t| `p.price = 29.95` | Test if any built-in type is equal to a specified value. |\n",
    "|<\t| `p.price < 29.95` | Test if any built-in type is less than a specified value.|\n",
    "|>\t| `p.price > 29.95` | Test if any built-in type is greater than a specified value.|\n",
    "|<=\t| `p.price <= 29.95` | Test if any built-in type is less than or equal to a specified value.|\n",
    "|>=\t| `p.price >= 29.95` | Test if any built-in type is greater than or equal to a specified value.|\n",
    "|<>\t| `p.price <> 29.95` |Test if any built-in type is not equal to a specified value. |\n",
    "| IS NULL | `p.description IS NULL` | Test if an expression or value is null. |\n",
    "| IS NOT NULL | `p.description IS NOT NULL` | Test if an expression or value is not null.|\n",
    "| AND | `(p.price > 29.92) AND (p.itemNumber > 5)` | Test if two expressions are both true or evaluate as nonzero.\n",
    "| OR | `(p.price > 29.92) OR (p.itemNumber > 5)` | Test if one or both of two expressions are true or evaluate as nonzero.\n",
    "| NOT | `NOT v.vendorNumber = 1` | Test if an expression is false or evaluates as zero.\n",
    "| BETWEEN | `p.price BETWEEN 29.95 AND 39.95` | Test if a value lies inclusively between two other values (example is equivalent to `29.95 <= p.price <= 39.95`).\n",
    "| LIKE | `v.vendorName LIKE 'Lun%'` | Test if a character expression matches a pattern, with the percent character (%) matching zero or more arbitrary characters and the underscore character (\\_) matching exactly one arbitrary character.\n",
    "\n",
    "The first query above also introduces the AS clause, which you can use\n",
    "to create a table synonym. In these examples, you define a synonym p for\n",
    "the fully qualified table name myProducts. By defining a synonym,\n",
    "you can refer to table quantities by using a shorter notation. This may\n",
    "not seem important when only one table is being referenced in a query,\n",
    "but the next section shows how to join multiple tables together within a\n",
    "query; in that case, providing table synonyms is very useful. You can\n",
    "also use an AS clause to name the selected columns in a query. Doing so\n",
    "lets you control how the results are displayed, which is demonstrated in\n",
    "the next section.\n",
    "\n",
    "-----"
   ]
  },
  {
   "cell_type": "markdown",
   "metadata": {},
   "source": [
    "### Joins\n",
    "\n",
    "The second major function performed by a WHERE clause is to join\n",
    "multiple tables together into a single table that can be queried more\n",
    "easily. Joining multiple tables is a powerful technique, and it can be\n",
    "complex when you're dealing with several large tables. Tables can be\n",
    "joined either explicitly, by using the JOIN keyword, or implicitly, by\n",
    "using a WHERE clause.\n",
    "\n",
    "You join two tables by using an inner join or an outer join. An inner\n",
    "join is essentially the intersection of two tables, where the tables are\n",
    "matched by comparing the values of a key column, such as itemNumber. The\n",
    "resulting table is composed of only rows that were matched between the\n",
    "two tables. An outer join is more like a union of two tables, where the\n",
    "tables are matched by comparing the values of a key column, but\n",
    "non-matching rows are still included in the resulting table and filled\n",
    "with NULL values as appropriate. Writing SQL queries that use these more\n",
    "advanced table joins will be addressed in future articles.\n",
    "\n",
    "In the current simple scheme, the process is simple; In the next code\n",
    "cell, we perform an implicit inner join of the myProducts table and the\n",
    "myVendors table.\n",
    "\n",
    "-----"
   ]
  },
  {
   "cell_type": "code",
   "execution_count": 12,
   "metadata": {
    "collapsed": false
   },
   "outputs": [
    {
     "name": "stdout",
     "output_type": "stream",
     "text": [
      "Writing select.sql\n"
     ]
    }
   ],
   "source": [
    "%%writefile select.sql\n",
    "\n",
    "SELECT p.price, p.description AS 'Item', v.vendorName AS 'Vendor' \n",
    "FROM myProducts AS p, myVendors AS v \n",
    "  WHERE p.itemNumber = v.itemNumber ;"
   ]
  },
  {
   "cell_type": "code",
   "execution_count": 13,
   "metadata": {
    "collapsed": false
   },
   "outputs": [
    {
     "name": "stdout",
     "output_type": "stream",
     "text": [
      "19.95|Hooded sweatshirt|Luna Vista Limited\r\n",
      "99.99|Beach umbrella|Luna Vista Limited\r\n",
      "0.99||Luna Vista Limited\r\n",
      "29.95|Male bathing suit, blue|Mikal Arroyo Incorporated\r\n",
      "49.95|Female bathing suit, one piece, aqua|Mikal Arroyo Incorporated\r\n",
      "9.95|Child sand toy set|Luna Vista Limited\r\n",
      "24.95|White beach towel|Luna Vista Limited\r\n",
      "32.95|Blue-striped beach towel|Luna Vista Limited\r\n",
      "12.95|Flip-flop|Quiet Beach Industries\r\n",
      "34.95|Open-toed sandal|Quiet Beach Industries\r\n"
     ]
    }
   ],
   "source": [
    "# Execute SQL Script\n",
    "\n",
    "!sqlite3 test < select.sql"
   ]
  },
  {
   "cell_type": "markdown",
   "metadata": {},
   "source": [
    "-----\n",
    "\n",
    "This query may seem complex, due primarily to its length. But by\n",
    "breaking it down line by line you can easily follow what's happening.\n",
    "First, you select two columns from the myProducts table and one column\n",
    "from the myVendors table and use an AS clause to name these columns for\n",
    "subsequent usage (in this case they are displayed by the `sqlite3`\n",
    "client tool. Because the query joins these two tables (by using an\n",
    "implicit inner join), you can select columns from both tables. In the\n",
    "FROM clause, you list both tables and provide aliases for them to\n",
    "simplify the full SQL statement. In the WHERE clause, you provide the\n",
    "logic for joining the two tables, by explicitly instructing the SQLite\n",
    "database to only select rows from the two tables that have matching\n",
    "values in their respective itemNumber columns. In processing this query,\n",
    "SQLite first pulls all rows out of the first (left) table in the query\n",
    "(myProducts) and finds the row with a matching value in the itemNumber\n",
    "column in the second (right) table in the query (myVendors).\n",
    "\n",
    "-----"
   ]
  },
  {
   "cell_type": "markdown",
   "metadata": {},
   "source": [
    "### DISTINCT\n",
    "\n",
    "By default, when data is selected by using an SQL query, all rows that\n",
    "satisfy the WHERE clause are extracted from the database. In some cases,\n",
    "this may result in rows that have identical column values being\n",
    "returned. If you need to restrict your query so that only unique row\n",
    "values are returned, you can use the DISTINCT qualifier, as shown in the\n",
    "following two code cells.\n",
    "\n",
    "-----"
   ]
  },
  {
   "cell_type": "code",
   "execution_count": 14,
   "metadata": {
    "collapsed": false
   },
   "outputs": [
    {
     "name": "stdout",
     "output_type": "stream",
     "text": [
      "1\r\n",
      "2\r\n",
      "3\r\n"
     ]
    }
   ],
   "source": [
    "!sqlite3 test \"SELECT DISTINCT vendorNumber AS 'Vendor #' FROM myVendors ;\""
   ]
  },
  {
   "cell_type": "code",
   "execution_count": 15,
   "metadata": {
    "collapsed": false
   },
   "outputs": [
    {
     "name": "stdout",
     "output_type": "stream",
     "text": [
      "1|6\r\n",
      "1|7\r\n",
      "1|8\r\n",
      "3|9\r\n",
      "3|10\r\n"
     ]
    }
   ],
   "source": [
    "!sqlite3 test \"SELECT DISTINCT vendorNumber AS 'Vendor #', itemNumber as 'Item #' FROM myVendors WHERE itemNumber > 5 ;\""
   ]
  },
  {
   "cell_type": "markdown",
   "metadata": {},
   "source": [
    "----\n",
    "\n",
    "If you want to use the DISTINCT qualifier, it must be the first item\n",
    "listed in the SELECT clause, as shown in Listing 1, and you can have\n",
    "only one DISTINCT qualifier per SELECT clause. If the selected rows\n",
    "contain a column with NULL values, multiple NULL values are considered\n",
    "duplicates when identifying unique rows.\n",
    "\n",
    "The first query in this listing uses the DISTINCT qualifier to restrict\n",
    "the output of the query to only distinct, or unique, values of the\n",
    "vendorNumber column, which is the only column listed in the SELECT\n",
    "clause. In the example schema that these articles use, there are only\n",
    "three vendors (with vendorNumber being restricted to 1, 2, or 3). Thus,\n",
    "when the DISTINCT qualifier is used in the query, only three rows are\n",
    "selected.\n",
    "\n",
    "The DISTINCT qualifier, however, applies to the entire list of selected\n",
    "columns, so if multiple columns are listed following a DISTINCT keyword,\n",
    "only unique combinations of all the columns are selected. This is\n",
    "demonstrated in the second example, where both vendorNumber and\n",
    "itemNumber are listed in the SELECT clause. Because every item has a\n",
    "unique itemNumber, every combination of these two columns is unique, and\n",
    "all rows that satisfy the WHERE clause are selected; in other words, the\n",
    "DISTINCT qualifier has no effect on the results.\n",
    "\n",
    "One remaining point that you may have noticed from the two previous\n",
    "examples is that the selected rows were not in the same order. If the\n",
    "order of selected rows is important, you can easily control it by using\n",
    "an ORDER BY clause in your query.\n",
    "\n",
    "### ORDER BY\n",
    "\n",
    "In general, you can't assume that SQLite, or any database, will return\n",
    "rows from a query in a specific order. If the order is important, you\n",
    "can use the ORDER BY clause to have SQLite order the data that are\n",
    "returned by your query in a particular manner. Generally, you do so by\n",
    "specifying a column that should be used to provide the ordinal values\n",
    "for comparison as shown in the next two code cells.\n",
    "\n",
    "-----"
   ]
  },
  {
   "cell_type": "code",
   "execution_count": 16,
   "metadata": {
    "collapsed": false
   },
   "outputs": [
    {
     "name": "stdout",
     "output_type": "stream",
     "text": [
      "Writing orderby.sql\n"
     ]
    }
   ],
   "source": [
    "%%writefile orderby.sql\n",
    "\n",
    "SELECT v.vendorNumber AS \"Vendor #\", vendorName as \"Vendor\",\n",
    "    p.price AS \"Price\", p.itemNumber AS \"Item #\"\n",
    "    FROM myProducts AS p, myVendors AS v\n",
    "    WHERE p.itemNumber = v.itemNumber AND p.price > 20.0\n",
    "    ORDER by v.vendorNumber ;\n",
    "     \n",
    "SELECT v.vendorNumber AS \"Vendor #\", vendorName as \"Vendor\",\n",
    "    p.price AS \"Price\", p.itemNumber AS \"Item #\"\n",
    "    FROM myProducts AS p, myVendors AS v\n",
    "    WHERE p.itemNumber = v.itemNumber AND p.price > 20.0\n",
    "    ORDER BY v.vendorNumber ASC, p.price DESC ;"
   ]
  },
  {
   "cell_type": "code",
   "execution_count": 17,
   "metadata": {
    "collapsed": false
   },
   "outputs": [
    {
     "name": "stdout",
     "output_type": "stream",
     "text": [
      "1|Luna Vista Limited|99.99|2\r\n",
      "1|Luna Vista Limited|24.95|7\r\n",
      "1|Luna Vista Limited|32.95|8\r\n",
      "2|Mikal Arroyo Incorporated|29.95|4\r\n",
      "2|Mikal Arroyo Incorporated|49.95|5\r\n",
      "3|Quiet Beach Industries|34.95|10\r\n",
      "1|Luna Vista Limited|99.99|2\r\n",
      "1|Luna Vista Limited|32.95|8\r\n",
      "1|Luna Vista Limited|24.95|7\r\n",
      "2|Mikal Arroyo Incorporated|49.95|5\r\n",
      "2|Mikal Arroyo Incorporated|29.95|4\r\n",
      "3|Quiet Beach Industries|34.95|10\r\n"
     ]
    }
   ],
   "source": [
    "!sqlite3 test < orderby.sql"
   ]
  },
  {
   "cell_type": "markdown",
   "metadata": {},
   "source": [
    "-----\n",
    "\n",
    "In the previous example, the first query uses the ORDER BY clause to\n",
    "list a subset of all the rows in the table that results from joining the\n",
    "myVendors table to the myProducts table. The rows are ordered by\n",
    "vendorNumber (the subset is constructed by applying the WHERE clause).\n",
    "An ORDER BY clause can take either a column name, as in this example, or\n",
    "a column number, which is taken from the order in which the columns are\n",
    "listed after the SELECT keyword.\n",
    "\n",
    "You can also specify multiple columns to use during the sorting process\n",
    "and even specify ASC for ascending order, which is the default, or DESC\n",
    "for descending order. For example, if you used the ORDER BY 1 DESC, 4\n",
    "DESC clause in the first query, the query would return the same rows,\n",
    "but they would be ordered by using the vendorNumber column as the\n",
    "primary sort column in descending order followed by the itemNumber\n",
    "column as the secondary sort column in descending order.\n",
    "\n",
    "Although using column numbers may seem like a handy shortcut, it\n",
    "generally isn't a good idea. To see why, consider what happens if you\n",
    "modify the columns listed in a SELECT clause or just modify their order.\n",
    "If you forget to modify the numbers used in the ORDER BY clause, the\n",
    "query will break-or worse, return bad data. In general, it's a _best\n",
    "practice_ to always be explicit and specify the column names directly,\n",
    "even if doing so means more typing.\n",
    "\n",
    "### Query Math\n",
    "\n",
    "Selecting columns from a database provides a number of useful benefits,\n",
    "but being able to compute and select quantities based on data in a table\n",
    "opens up even more possibilities. SQLite,as does any SQL database,\n",
    "provides several mathematical operators, the most common of which are\n",
    "listed in the following table, that you can use in either a SELECT clause\n",
    "or a WHERE clause.\n",
    "\n",
    "|Operator | Example | Description |\n",
    "| --- | --- | ---- |\n",
    "| unary + | +1.0 | A noop, or no operation, as +4 = 4 |\n",
    "| unary - | -p.price | Changes the sign of the value to which it's applied |\n",
    "|+ | p.itemNumber + 10 | Adds the second value to the first value |\n",
    "| - | p.itemNumber - 10 | Subtracts the second value from the first value |\n",
    "| * | p.price * 1.0825 | Multiplies the first value by the second value |\n",
    "| / | p.price / 100.0 | Divides the first value by the second value |\n",
    "\n",
    "Using these operators is straightforward because they generally behave\n",
    "exactly as you expect. For example, if the sales tax is 8.25%, you can\n",
    "return the price for an item both before and after sales tax has been\n",
    "applied by using `SELECT price, price * 1.0825 FROM myProducts ;`. As\n",
    "another example, if you have a column called `numberItems` that tracks\n",
    "the number of items purchased and another column called `price` that\n",
    "contains the price at which they're purchased, you can return the total\n",
    "amount paid for those items at a given price by using \n",
    "`numberItems * price`. Several of the queries shown in this \n",
    "IPython Notebook provide additional examples of how to use these \n",
    "operators.\n",
    "\n",
    "The only concern when using these operators arises from complications\n",
    "that result from using different data types, such as integer or\n",
    "floating-point, in a mathematical operation. If both operands are the\n",
    "same data type, the result type will be the same. If you're performing\n",
    "division, this can result in truncation (for example, if you're using\n",
    "two integer values), which might cause unexpected problems. On the other\n",
    "hand, if the two operands are different data types, the result type is\n",
    "promoted to the more complex type.\n",
    "\n",
    "### SQL Functions\n",
    "\n",
    "SQL is a powerful and expressive language that can be used to perform a\n",
    "wide range of actions. Part of the SQL language's power comes from its\n",
    "ability to directly interact with a variety of data types. Some of the\n",
    "greatest power of a relational database arises from the inherent\n",
    "functions that it provides and from the extensibility enabled by\n",
    "allowing users to create new functions. SQLite provides functions (see\n",
    "the following [SQLite tutorial][1] for more information) in three\n",
    "different categories:\n",
    "\n",
    "1. [Core functions](https://www.sqlite.org/lang_corefunc.html)\n",
    "2. [Aggregate functions](https://www.sqlite.org/lang_aggfunc.html)\n",
    "3. [Date and Time functions](https://www.sqlite.org/lang_datefunc.html)\n",
    "\n",
    "Of these built-in functions, we will most likely use the aggregate\n",
    "functions, which operate on multiple rows. Aggregate functions-also\n",
    "known as set functions in SQL-92 or, more informally, as column\n",
    "functions-return a computed quantity from a column over a number of\n",
    "rows. SQLite supports the following five aggregate functions (a sixth\n",
    "function, `group_concat`, is not listed).\n",
    "\n",
    "| Function | Example | Description |\n",
    "| --- | --- | --- |\n",
    "| AVG | AVG(p.price) | Returns the average value of a column from all rows that satisfy an expression. Can only be used with built-in numeric data types. The precision of the returned value is defined by the precision of the column being evaluated. |\n",
    "| COUNT | COUNT(p.price) | Returns the number of rows that satisfy an expression, such as a query. Can be used with any data type. |\n",
    "| MAX | MAX(p.price) | Returns the maximum value of a column from all rows that satisfy an expression. Can only be used with built-in data types. |\n",
    "| MIN | MIN(p.price) | Returns the minimum value of a column from all rows that satisfy an expression. Can only be used with built-in data types. |\n",
    "| SUM | SUM(p.price) | Returns the sum of a column over all rows that satisfy an expression. Can only be used with built-in numeric data types. |\n",
    "\n",
    "These aggregate functions can often be used to quickly find useful\n",
    "information that might otherwise be difficult to identify, as shown in\n",
    "Listing 4.\n",
    "```\n",
    "SELECT COUNT(p.itemNumber) AS Number, \n",
    "        AVG(p.price) AS Average,\n",
    "        MIN(p.stockDate) AS \"First Date\", MAX(p.stockDate) AS \"Last Date\"\n",
    "    FROM myProducts AS p ;\n",
    "```\n",
    "Listing 4 uses four of the five aggregate functions to get summary\n",
    "information about the data in the myProducts table. The COUNT function\n",
    "indicates that the table includes ten rows (because the query didn't use\n",
    "a WHERE clause to restrict the rows selected from the table). The AVG\n",
    "function calculates the average price of all items in the myProducts\n",
    "table. Finally, the MIN and MAX functions extract the minimum and\n",
    "maximum dates from the myProducts table.\n",
    "\n",
    "-----\n",
    "[1]: http://zetcode.com/db/sqlite/sqlitefunctions/"
   ]
  },
  {
   "cell_type": "markdown",
   "metadata": {},
   "source": [
    "### DELETE\n",
    "\n",
    "To delete data in a SQLite database, you use the SQL DELETE statement,\n",
    "which can delete either all rows in a table or a specific subset of\n",
    "rows. The formal syntax for the SQL DELETE statement is remarkably\n",
    "simple:\n",
    "\n",
    "```\n",
    "DELETE FROM tableName\n",
    "    [WHERE clause]\n",
    "```\n",
    "\n",
    "The DELETE statement deletes all rows from the specified table that\n",
    "satisfy an optional WHERE clause. If no WHERE clause is included, all\n",
    "rows in the table are deleted. To demonstrate this use of the DELETE\n",
    "statement, we can create a temporary table, insert several rows, and\n",
    "delete them all.\n",
    "\n",
    "-----"
   ]
  },
  {
   "cell_type": "code",
   "execution_count": 18,
   "metadata": {
    "collapsed": false
   },
   "outputs": [
    {
     "name": "stdout",
     "output_type": "stream",
     "text": [
      "Writing delete.sql\n"
     ]
    }
   ],
   "source": [
    "%%writefile delete.sql\n",
    "\n",
    "-- First create the temporary table\n",
    "CREATE TABLE temp (aValue INT) ;\n",
    "\n",
    "-- Insert fake data\n",
    "INSERT INTO temp VALUES(0), (1), (2), (3) ;\n",
    "\n",
    "-- Count rows in the table\n",
    "SELECT COUNT(*) AS COUNT FROM temp ; \n",
    "\n",
    "-- Delete all rows\n",
    "DELETE FROM temp ;\n",
    "\n",
    "-- Count all rows in the table\n",
    "SELECT COUNT(*) AS COUNT FROM temp ; \n",
    "\n",
    "-- Now drop the temporary table\n",
    "\n",
    "DROP TABLE temp ;"
   ]
  },
  {
   "cell_type": "code",
   "execution_count": 19,
   "metadata": {
    "collapsed": false
   },
   "outputs": [
    {
     "name": "stdout",
     "output_type": "stream",
     "text": [
      "4\r\n",
      "0\r\n"
     ]
    }
   ],
   "source": [
    "!sqlite3 test < delete.sql"
   ]
  },
  {
   "cell_type": "markdown",
   "metadata": {},
   "source": [
    "-----\n",
    "\n",
    "The previous example created a single-column temporary table to hold a\n",
    "single integer value. Next we inserted four rows into the database and\n",
    "issued a SELECT statement to verify that the new table contained four\n",
    "rows. By using an unconstrained DELETE statement, we delete all four\n",
    "rows from the temporary table, which is verified by the second SELECT\n",
    "statement, which indicates that the temporary table contains zero rows.\n",
    "Finally, the DROP TABLE statement deletes the empty table from the\n",
    "schema.\n",
    "\n",
    "In general, however, you don't want to delete all rows from a table;\n",
    "instead, you'll selectively delete rows. To do this, you create an\n",
    "appropriate WHERE clause that identifies all rows of interest. The\n",
    "syntax for the WHERE clause that you can use with a DELETE statement is\n",
    "identical to that discussed previously when we presented the full SQL\n",
    "SELECT statement syntax. The basic building blocks for constructing a\n",
    "Boolean expression within a WHERE clause were presented in an earlier\n",
    "table. The following example demonstrates using a WHERE clause in a\n",
    "DELETE statement, where we delete all rows that satisfy at least one of\n",
    "two conditions.\n",
    "\n",
    "-----"
   ]
  },
  {
   "cell_type": "code",
   "execution_count": 20,
   "metadata": {
    "collapsed": false
   },
   "outputs": [
    {
     "name": "stdout",
     "output_type": "stream",
     "text": [
      "Writing delete2.sql\n"
     ]
    }
   ],
   "source": [
    "%%writefile delete2.sql\n",
    "\n",
    "-- First display data\n",
    "SELECT itemNumber, description FROM myProducts ;\n",
    "\n",
    "-- Selectively delete rows\n",
    "DELETE FROM myProducts \n",
    "    WHERE description LIKE '%towel%' OR itemNumber <= 3 ;\n",
    "\n",
    "-- Confirm the proper deletion\n",
    "SELECT itemNumber, description FROM myProducts ;"
   ]
  },
  {
   "cell_type": "code",
   "execution_count": 21,
   "metadata": {
    "collapsed": false
   },
   "outputs": [
    {
     "name": "stdout",
     "output_type": "stream",
     "text": [
      "1|Hooded sweatshirt\r\n",
      "2|Beach umbrella\r\n",
      "3|\r\n",
      "4|Male bathing suit, blue\r\n",
      "5|Female bathing suit, one piece, aqua\r\n",
      "6|Child sand toy set\r\n",
      "7|White beach towel\r\n",
      "8|Blue-striped beach towel\r\n",
      "9|Flip-flop\r\n",
      "10|Open-toed sandal\r\n",
      "4|Male bathing suit, blue\r\n",
      "5|Female bathing suit, one piece, aqua\r\n",
      "6|Child sand toy set\r\n",
      "9|Flip-flop\r\n",
      "10|Open-toed sandal\r\n"
     ]
    }
   ],
   "source": [
    "!sqlite3 test < delete2.sql"
   ]
  },
  {
   "cell_type": "markdown",
   "metadata": {},
   "source": [
    "-----\n",
    "\n",
    "In this example, the DELETE statement includes a WHERE clause that\n",
    "identifies five rows. The WHERE clause contains two expressions that are\n",
    "joined by the OR operator, which means that if either expression\n",
    "evaluates as TRUE for a specific row, that row will be deleted.\n",
    "\n",
    "The first expression finds all rows that contain the word \"towel\" in the\n",
    "product description. If you recall, there are two towels in the\n",
    "myProducts table, with itemNumber column values of 7 and 8. The other\n",
    "expression selects all rows with an itemNumber column value less than or\n",
    "equal to 3. The contents of the myProducts table are finally displayed\n",
    "with a simple SELECT statement, demonstrating that only five of the\n",
    "original ten rows remain in the table.\n",
    "\n",
    "Although this example doesn't explicitly demonstrate their use, you can\n",
    "also include the SQL functions to gain more control over the selection\n",
    "of rows for deletion. These same functions and other operators that can\n",
    "be used in the WHERE clause of the DELETE statement also can be used\n",
    "with the UPDATE statement to selectively modify the values of rows in a\n",
    "table, as described in the next section.\n",
    "\n",
    "### UPDATE\n",
    "\n",
    "The last SQL task for dealing with data that you need to address is\n",
    "updating specific column values for selected rows in a table. At some\n",
    "level, the SQL UPDATE statement is the union of the SQL INSERT and\n",
    "DELETE statements, because you must select rows to modify as well as\n",
    "specify how to modify them. Formally, the UPDATE statement syntax is\n",
    "straightforward, because you must specify the new column values for the\n",
    "set of rows to be updated:\n",
    "\n",
    "```\n",
    "UPDATE tableName\n",
    "    SET columnName = Value\n",
    "    [ , columnName = Value} ]*\n",
    "    [WHERE clause]\n",
    "```\n",
    "\n",
    "As shown in this SQL syntax, an SQL UPDATE statement must have, at a\n",
    "minimum, one SET component to update one column, along with one or more\n",
    "SET components and a WHERE clause, both of which are optional. If the\n",
    "WHERE clause isn't included, the UPDATE statement modifies the indicated\n",
    "columns for all rows in the table.\n",
    "\n",
    "Issuing an UPDATE statement is fairly easy, as shown in the following\n",
    "code example, where we modify two columns of a single row.\n",
    "\n",
    "-----"
   ]
  },
  {
   "cell_type": "code",
   "execution_count": 22,
   "metadata": {
    "collapsed": false
   },
   "outputs": [
    {
     "name": "stdout",
     "output_type": "stream",
     "text": [
      "Writing update.sql\n"
     ]
    }
   ],
   "source": [
    "%%writefile update.sql\n",
    "\n",
    "-- Extract the test row\n",
    "SELECT itemNumber, price, stockDate FROM myProducts WHERE itemNumber = 6 ;\n",
    "\n",
    "-- Update the row\n",
    "UPDATE myProducts SET price = price * 1.25, stockDate = date('now')  WHERE itemNumber = 6 ;\n",
    "\n",
    "-- Show the new result\n",
    "SELECT itemNumber, price, stockDate FROM myProducts WHERE itemNumber = 6 ;"
   ]
  },
  {
   "cell_type": "code",
   "execution_count": 23,
   "metadata": {
    "collapsed": false
   },
   "outputs": [
    {
     "name": "stdout",
     "output_type": "stream",
     "text": [
      "6|9.95|2015-01-15\r\n",
      "6|12.4375|2015-08-17\r\n"
     ]
    }
   ],
   "source": [
    "!sqlite3 test < update.sql"
   ]
  },
  {
   "cell_type": "markdown",
   "metadata": {},
   "source": [
    "-----\n",
    "\n",
    "This example wraps a single UPDATE statement with SELECT statements to\n",
    "demonstrate the change to the target row. The SELECT statements both\n",
    "select three columns from the myProducts table for a single row\n",
    "(the row with the value 6 in the itemNumber column). The UPDATE\n",
    "statement modifies both the price and the stockDate columns for this\n",
    "specific row. The value in the price column is increased by 25% (for\n",
    "example, perhaps due to the item's popularity), and the stockDate column\n",
    "is modified to hold the current date, which can be obtained easily with\n",
    "SQLite by using the built-in `date` function with an argument of `now`\n",
    "in an SQL query.\n",
    "\n",
    "The previous example demonstrated how to modify multiple column values\n",
    "for a specific row in a single table. However, sometimes the logic to\n",
    "select rows to update is more complex. For example, suppose you need to\n",
    "modify the price of all objects in the myProducts table that you obtain\n",
    "from Quiet Beach Industries, which has a value of 3 in the vendorNumber\n",
    "column in the myVendors table. To do this, you need to use an embedded\n",
    "query:\n",
    "\n",
    "-----"
   ]
  },
  {
   "cell_type": "code",
   "execution_count": 24,
   "metadata": {
    "collapsed": false
   },
   "outputs": [
    {
     "name": "stdout",
     "output_type": "stream",
     "text": [
      "Writing update2.sql\n"
     ]
    }
   ],
   "source": [
    "%%writefile update2.sql\n",
    "\n",
    "-- Update the table\n",
    "UPDATE myProducts\n",
    "    SET price = price * 1.10, description = 'NEW: ' || description\n",
    "    WHERE itemNumber IN \n",
    "        ( SELECT v.itemNumber \n",
    "          FROM myProducts as p, myVendors as v \n",
    "          WHERE p.itemNumber = v.itemNumber AND v.vendorNumber = 3 ) ;\n",
    "\n",
    "-- Show new results\n",
    "SELECT * FROM myProducts ;"
   ]
  },
  {
   "cell_type": "code",
   "execution_count": 25,
   "metadata": {
    "collapsed": false
   },
   "outputs": [
    {
     "name": "stdout",
     "output_type": "stream",
     "text": [
      "4|29.95|2015-02-10|Male bathing suit, blue\r\n",
      "5|49.95|2015-02-20|Female bathing suit, one piece, aqua\r\n",
      "6|12.4375|2015-08-17|Child sand toy set\r\n",
      "9|14.245|2015-03-12|NEW: Flip-flop\r\n",
      "10|38.445|2015-01-24|NEW: Open-toed sandal\r\n"
     ]
    }
   ],
   "source": [
    "!sqlite3 test < update2.sql"
   ]
  },
  {
   "cell_type": "markdown",
   "metadata": {},
   "source": [
    "-----\n",
    "\n",
    "In this example, the UPDATE statement modifies the price and description\n",
    "columns for all products that are obtained from the vendor with a value\n",
    "of 3 in the vendorNumber column in the myVendors table. Because you\n",
    "can't do a simple join within an UPDATE statement, you must include a\n",
    "subquery in the WHERE clause to extract the itemNumber rows that\n",
    "correspond to products from Quiet Beach Industries. The WHERE clause in\n",
    "the UPDATE statement uses the IN operator to select those rows that have\n",
    "an itemNumber column in the set of values selected by the embedded query.\n",
    "\n",
    "Two types of queries can be used in the WHERE clause of an UPDATE\n",
    "statement: a scalar subquery and a table subquery. A scalar subquery is\n",
    "an embedded query that returns a single row that contains a single\n",
    "column-essentially, a single value, which is known as a scalar. You can\n",
    "use a scalar subquery to select a specific value that will be used in\n",
    "the expression of the WHERE clause. For example, \n",
    "`itemNumber = (Scalar Subquery)` updates any rows that have a \n",
    "value in the itemNumber column that matches the result of the \n",
    "scalar subquery.\n",
    "\n",
    "A table subquery, on the other hand, can return multiple rows that\n",
    "generally only have one column. In certain instances, a table subquery\n",
    "can contain multiple columns. To use a table subquery, you need to use\n",
    "an SQL operator to combine the embedded query with a Boolean expression.\n",
    "For example, this was shown in the previous code listing, where the IN\n",
    "operator selected all rows from the myProducts table that were produced\n",
    "by Quiet Beach Industries. \n",
    "\n",
    "### ALTER TABLE\n",
    "\n",
    "The previous section discussed modifying the data that already exists in\n",
    "a table. The other possibility is modifying the structure, or schema, of\n",
    "a database table. This can take the form of adding a column, changing\n",
    "the data type for a column, adding a constraint, or even deleting a\n",
    "column. This process isn't easy, which is one reason to be careful when\n",
    "you initially design your schema. If you do need to modify the structure\n",
    "of a table, you should use a temporary table.\n",
    "\n",
    "-----"
   ]
  },
  {
   "cell_type": "code",
   "execution_count": 26,
   "metadata": {
    "collapsed": false
   },
   "outputs": [
    {
     "name": "stdout",
     "output_type": "stream",
     "text": [
      "Writing rename.sql\n"
     ]
    }
   ],
   "source": [
    "%%writefile rename.sql\n",
    "\n",
    "-- Create New table with extra column\n",
    "\n",
    "CREATE TABLE newProducts (\n",
    "    itemNumber INT NOT NULL,\n",
    "    price REAL,\n",
    "    stockDate TEXT,\n",
    "    count INT NOT NULL DEFAULT 0,\n",
    "    description TEXT\n",
    ") ;\n",
    "\n",
    "-- New copy old table into new table\n",
    "\n",
    "INSERT INTO newProducts(itemNumber, price, stockDate, description) \n",
    "    SELECT itemNumber, price, stockDate, description FROM myProducts ;\n",
    "\n",
    "-- Drop old table\n",
    "DROP TABLE myProducts ;\n",
    "\n",
    "-- Now Rename new table to old table name\n",
    "ALTER TABLE newProducts RENAME TO myProducts ;\n",
    "\n",
    "-- Show the results\n",
    "SELECT * FROM myProducts ;"
   ]
  },
  {
   "cell_type": "code",
   "execution_count": 27,
   "metadata": {
    "collapsed": false
   },
   "outputs": [
    {
     "name": "stdout",
     "output_type": "stream",
     "text": [
      "4|29.95|2015-02-10|0|Male bathing suit, blue\r\n",
      "5|49.95|2015-02-20|0|Female bathing suit, one piece, aqua\r\n",
      "6|12.4375|2015-08-17|0|Child sand toy set\r\n",
      "9|14.245|2015-03-12|0|NEW: Flip-flop\r\n",
      "10|38.445|2015-01-24|0|NEW: Open-toed sandal\r\n"
     ]
    }
   ],
   "source": [
    "# Execute SQL Script\n",
    "\n",
    "!sqlite3 test < rename.sql"
   ]
  },
  {
   "cell_type": "markdown",
   "metadata": {},
   "source": [
    "-----\n",
    "\n",
    "As this example shows, to modify a table-in this case, to add a new\n",
    "`count` column to the `myProducts` table-you first create a table that\n",
    "has the exact schema you require. This example requires that it always\n",
    "have a valid value by including the column constraint NOT NULL and\n",
    "assigns a default value of 0 to the count column by using the column\n",
    "constraint DEFAULT 0. Notice how you can combine multiple column\n",
    "constraints by listing them sequentially.\n",
    "\n",
    "The next step is to copy the existing data from the original table to\n",
    "the new table. You can do so by using an SQL INSERT statement that uses\n",
    "a subquery to get the values to insert. This is a powerful technique\n",
    "that lets you easily copy all or part of an existing table into a second\n",
    "table.\n",
    "\n",
    "After you've created the new table and copied the appropriate data, you\n",
    "drop the old table by using an SQL DROP TABLE statement and rename the\n",
    "new table to the original name by using an SQL RENAME TABLE statement.\n",
    "The rename operation is straightforward: Rename the oldTableName to the\n",
    "newTableName, but don't supply a schema name for the new table name\n",
    "because the RENAME operation can't move a table between different\n",
    "database schemas. This example concludes by issuing a SELECT statement\n",
    "to display the schema and contents of the new myProducts table. As\n",
    "you can see, the new table has five columns, and the count column is\n",
    "always zero. At this point, a real application would modify the count\n",
    "column appropriately by issuing the necessary SQL UPDATE statements.\n",
    "\n",
    "-----"
   ]
  },
  {
   "cell_type": "markdown",
   "metadata": {},
   "source": [
    "### CREATE INDEX\n",
    "\n",
    "Relational databases support the concept of an index to speed up\n",
    "queries. An index is often used when a particular column (or columns) is\n",
    "frequently involved in either a WHERE clause or a table join. The syntax\n",
    "for creating an index is rather simple:\n",
    "\n",
    "```\n",
    "CREATE [UNIQUE] INDEX idx_name ON table_name(column [column]*)\n",
    "[WHERE]\n",
    "```\n",
    "\n",
    "In this format, we create an index on one or more columns in a given\n",
    "table. If UNIQUE is present in the index creation, only non-duplicate\n",
    "entries are allowed in the index. The columns can also be followed by\n",
    "either ASC or DESC to indicate the column sort order for the index.\n",
    "Finally, if a WHERE clause is included the index is only a partial index\n",
    "since it does not cover the entire table.\n",
    "\n",
    "As an example, we can create an index on the myProducts table by using\n",
    "the itemNumber column:\n",
    "\n",
    "    CREATE INDEX itn ON myProducts(itemNumber) ;\n",
    "\n",
    "-----"
   ]
  },
  {
   "cell_type": "markdown",
   "metadata": {},
   "source": [
    "### Advanced Features\n",
    "\n",
    "Of course we have only scratched the surface of SQL, despite the length\n",
    "of this IPython Notebook. We have not discussed\n",
    "[views](https://www.sqlite.org/lang_createview.html), which effectively\n",
    "turns a SQL query into a new, read-only table, or\n",
    "[triggers](https://www.sqlite.org/lang_createtrigger.html), which are\n",
    "database operations that are automatically performed when a specific\n",
    "event occurs. \n",
    "\n",
    "Another useful feature that we will use in the third lesson is the LIMIT\n",
    "clause. We can use this to restrict the number of rows returned by a\n",
    "particular query. For example, `SELECT * FROM myProducts LIMIT 5 ;` will\n",
    "only return five rows.\n",
    "\n",
    "-----"
   ]
  },
  {
   "cell_type": "markdown",
   "metadata": {},
   "source": [
    "### Additional References\n",
    "\n",
    "Several sites exist that allow you to try out SQL commands online.\n",
    "\n",
    "1. [W3 Schools SQL][1], a general SQL demo site.\n",
    "2. [SQLZoo][2], allows you to specify the Relational Database to target.\n",
    "-----\n",
    "\n",
    "[1]: http://www.w3schools.com/SQL/\n",
    "[2]: http://sqlzoo.net/wiki/SELECT_basics"
   ]
  },
  {
   "cell_type": "markdown",
   "metadata": {},
   "source": [
    "### Return to the [Course Index](index.ipynb).\n",
    "\n",
    "-----"
   ]
  }
 ],
 "metadata": {
  "kernelspec": {
   "display_name": "Python 3",
   "language": "python",
   "name": "python3"
  },
  "language_info": {
   "codemirror_mode": {
    "name": "ipython",
    "version": 3
   },
   "file_extension": ".py",
   "mimetype": "text/x-python",
   "name": "python",
   "nbconvert_exporter": "python",
   "pygments_lexer": "ipython3",
   "version": "3.4.0"
  }
 },
 "nbformat": 4,
 "nbformat_minor": 0
}
